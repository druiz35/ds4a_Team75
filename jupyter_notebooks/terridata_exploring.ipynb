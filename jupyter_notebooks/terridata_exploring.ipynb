{
 "cells": [
  {
   "cell_type": "code",
   "execution_count": 1,
   "id": "d88c2230-1bd4-466d-ad6a-634f33b096cf",
   "metadata": {},
   "outputs": [],
   "source": [
    "import glob\n",
    "import numpy as np\n",
    "import pandas as pd"
   ]
  },
  {
   "cell_type": "code",
   "execution_count": 2,
   "id": "f0baf23d-983d-4f12-a479-0bba4852d942",
   "metadata": {},
   "outputs": [],
   "source": [
    "# MinTic dataset used to extract the municipalities to use\n",
    "\n",
    "mun = pd.read_csv('data/comp_dim_clean.csv')"
   ]
  },
  {
   "cell_type": "code",
   "execution_count": 3,
   "id": "d6ae7200-5da6-48c4-9038-18bc367eafb3",
   "metadata": {},
   "outputs": [
    {
     "data": {
      "text/html": [
       "<div>\n",
       "<style scoped>\n",
       "    .dataframe tbody tr th:only-of-type {\n",
       "        vertical-align: middle;\n",
       "    }\n",
       "\n",
       "    .dataframe tbody tr th {\n",
       "        vertical-align: top;\n",
       "    }\n",
       "\n",
       "    .dataframe thead th {\n",
       "        text-align: right;\n",
       "    }\n",
       "</style>\n",
       "<table border=\"1\" class=\"dataframe\">\n",
       "  <thead>\n",
       "    <tr style=\"text-align: right;\">\n",
       "      <th></th>\n",
       "      <th>anio_corte</th>\n",
       "      <th>municipio</th>\n",
       "      <th>codigo</th>\n",
       "      <th>departamento</th>\n",
       "      <th>grupo_dotaciones</th>\n",
       "      <th>categoria_de_ruralidad</th>\n",
       "      <th>cobertura_media_neta</th>\n",
       "      <th>saber_11_matematicas</th>\n",
       "      <th>saber_11_lenguaje</th>\n",
       "      <th>cobertura_transicion</th>\n",
       "      <th>...</th>\n",
       "      <th>cobertura_internet</th>\n",
       "      <th>cobertura_acueducto</th>\n",
       "      <th>cobertura_alcantarillado</th>\n",
       "      <th>hurtos</th>\n",
       "      <th>hurtos_x_10000_hab</th>\n",
       "      <th>homicidios</th>\n",
       "      <th>homicidios_x_10000_hab</th>\n",
       "      <th>violencia_intrafamiliar</th>\n",
       "      <th>violencia_intrafamiliar_x_10000_hab</th>\n",
       "      <th>id</th>\n",
       "    </tr>\n",
       "  </thead>\n",
       "  <tbody>\n",
       "    <tr>\n",
       "      <th>0</th>\n",
       "      <td>2016</td>\n",
       "      <td>medellin</td>\n",
       "      <td>5001</td>\n",
       "      <td>antioquia</td>\n",
       "      <td>c</td>\n",
       "      <td>ciudades_y_aglomeraciones</td>\n",
       "      <td>0.559</td>\n",
       "      <td>49.26</td>\n",
       "      <td>51.7</td>\n",
       "      <td>0.737</td>\n",
       "      <td>...</td>\n",
       "      <td>0.214</td>\n",
       "      <td>0.97</td>\n",
       "      <td>0.92</td>\n",
       "      <td>13871</td>\n",
       "      <td>55.78</td>\n",
       "      <td>536</td>\n",
       "      <td>2.16</td>\n",
       "      <td>2374</td>\n",
       "      <td>9.55</td>\n",
       "      <td>20165001</td>\n",
       "    </tr>\n",
       "  </tbody>\n",
       "</table>\n",
       "<p>1 rows × 24 columns</p>\n",
       "</div>"
      ],
      "text/plain": [
       "   anio_corte municipio  codigo departamento grupo_dotaciones  \\\n",
       "0        2016  medellin    5001    antioquia                c   \n",
       "\n",
       "      categoria_de_ruralidad  cobertura_media_neta  saber_11_matematicas  \\\n",
       "0  ciudades_y_aglomeraciones                 0.559                 49.26   \n",
       "\n",
       "   saber_11_lenguaje  cobertura_transicion  ...  cobertura_internet  \\\n",
       "0               51.7                 0.737  ...               0.214   \n",
       "\n",
       "   cobertura_acueducto  cobertura_alcantarillado  hurtos  hurtos_x_10000_hab  \\\n",
       "0                 0.97                      0.92   13871               55.78   \n",
       "\n",
       "   homicidios  homicidios_x_10000_hab  violencia_intrafamiliar  \\\n",
       "0         536                    2.16                     2374   \n",
       "\n",
       "   violencia_intrafamiliar_x_10000_hab        id  \n",
       "0                                 9.55  20165001  \n",
       "\n",
       "[1 rows x 24 columns]"
      ]
     },
     "execution_count": 3,
     "metadata": {},
     "output_type": "execute_result"
    }
   ],
   "source": [
    "mun.head(1)"
   ]
  },
  {
   "cell_type": "code",
   "execution_count": 4,
   "id": "80309e27-a74f-4fdf-9d43-07cb9ecb48aa",
   "metadata": {},
   "outputs": [
    {
     "data": {
      "text/plain": [
       "1101"
      ]
     },
     "execution_count": 4,
     "metadata": {},
     "output_type": "execute_result"
    }
   ],
   "source": [
    "municipios = mun.codigo.unique()\n",
    "len(municipios)"
   ]
  },
  {
   "cell_type": "code",
   "execution_count": 5,
   "id": "7edeb3af-bc32-4571-82d2-456fbb9995b3",
   "metadata": {},
   "outputs": [
    {
     "data": {
      "text/plain": [
       "18"
      ]
     },
     "execution_count": 5,
     "metadata": {},
     "output_type": "execute_result"
    }
   ],
   "source": [
    "# Creating a list with the location of the TerriData datasets\n",
    "\n",
    "terridata = glob.glob('data/TerriData*.csv')\n",
    "len(terridata)"
   ]
  },
  {
   "cell_type": "code",
   "execution_count": 6,
   "id": "1dc260d7-2c07-4a1e-b560-6ad5aa57d9cc",
   "metadata": {},
   "outputs": [
    {
     "data": {
      "text/plain": [
       "['data\\\\TerriData_ambiente.csv',\n",
       " 'data\\\\TerriData_censo_2005_y_proyecciones_dane.csv',\n",
       " 'data\\\\TerriData_conflicto_armado_y_seguridad_ciudadana.csv',\n",
       " 'data\\\\TerriData_demografia_y_poblacion.csv',\n",
       " 'data\\\\TerriData_descripcion_general.csv',\n",
       " 'data\\\\TerriData_economia.csv',\n",
       " 'data\\\\TerriData_educacion.csv',\n",
       " 'data\\\\TerriData_finanzas_publicas.csv',\n",
       " 'data\\\\TerriData_justicia_y_derecho.csv',\n",
       " 'data\\\\TerriData_medicion_de_desempenio_municipal.csv',\n",
       " 'data\\\\TerriData_mercado_laboral.csv',\n",
       " 'data\\\\TerriData_ordenamiento_territorial.csv',\n",
       " 'data\\\\TerriData_percepcion_ciudadana.csv',\n",
       " 'data\\\\TerriData_pobreza.csv',\n",
       " 'data\\\\TerriData_presupuesto_general_de_la_nacion.csv',\n",
       " 'data\\\\TerriData_salud.csv',\n",
       " 'data\\\\TerriData_seguridad_integral_maritima_y_fluvial.csv',\n",
       " 'data\\\\TerriData_vivienda_y_acceso_a_servicios_publicos.csv']"
      ]
     },
     "execution_count": 6,
     "metadata": {},
     "output_type": "execute_result"
    }
   ],
   "source": [
    "terridata"
   ]
  },
  {
   "cell_type": "code",
   "execution_count": 12,
   "id": "9a870335-3288-4975-a3b5-9eaf3fc4409b",
   "metadata": {},
   "outputs": [],
   "source": [
    "# Function to check the number of municipalities with data for each year\n",
    "\n",
    "def check_mun(df, municipios):\n",
    "    anios = df.anio.unique()\n",
    "    for anio in anios:\n",
    "        mun_df = df.loc[df.anio.eq(anio)].codigo_entidad.unique()\n",
    "        print(f'Number of unique mun for {anio}: {len(mun_df)}')\n",
    "        print('Mun not in MinTic databases')\n",
    "        print(list(set(municipios) - set(mun_df)))"
   ]
  },
  {
   "cell_type": "markdown",
   "id": "b3bc61a6-b34a-4464-8b8e-6a3b8e04da40",
   "metadata": {},
   "source": [
    "#### Ambiente"
   ]
  },
  {
   "cell_type": "code",
   "execution_count": 13,
   "id": "89f9dd13-9131-48e9-9810-11a930d4d2c9",
   "metadata": {},
   "outputs": [
    {
     "name": "stderr",
     "output_type": "stream",
     "text": [
      "c:\\users\\seb\\appdata\\local\\programs\\python\\python39\\lib\\site-packages\\IPython\\core\\interactiveshell.py:3441: DtypeWarning: Columns (9) have mixed types.Specify dtype option on import or set low_memory=False.\n",
      "  exec(code_obj, self.user_global_ns, self.user_ns)\n"
     ]
    },
    {
     "data": {
      "text/html": [
       "<div>\n",
       "<style scoped>\n",
       "    .dataframe tbody tr th:only-of-type {\n",
       "        vertical-align: middle;\n",
       "    }\n",
       "\n",
       "    .dataframe tbody tr th {\n",
       "        vertical-align: top;\n",
       "    }\n",
       "\n",
       "    .dataframe thead th {\n",
       "        text-align: right;\n",
       "    }\n",
       "</style>\n",
       "<table border=\"1\" class=\"dataframe\">\n",
       "  <thead>\n",
       "    <tr style=\"text-align: right;\">\n",
       "      <th></th>\n",
       "      <th>Unnamed: 0</th>\n",
       "      <th>codigo_departamento</th>\n",
       "      <th>departamento</th>\n",
       "      <th>codigo_entidad</th>\n",
       "      <th>entidad</th>\n",
       "      <th>dimension</th>\n",
       "      <th>subcategoria</th>\n",
       "      <th>indicador</th>\n",
       "      <th>dato_numerico</th>\n",
       "      <th>dato_cualitativo</th>\n",
       "      <th>anio</th>\n",
       "      <th>mes</th>\n",
       "      <th>fuente</th>\n",
       "      <th>unidad_de_medida</th>\n",
       "    </tr>\n",
       "  </thead>\n",
       "  <tbody>\n",
       "    <tr>\n",
       "      <th>0</th>\n",
       "      <td>3448811</td>\n",
       "      <td>97</td>\n",
       "      <td>vaupes</td>\n",
       "      <td>97161</td>\n",
       "      <td>caruru</td>\n",
       "      <td>ambiente</td>\n",
       "      <td>biodiversidad_y_servicios_ecosistemicos:_area_...</td>\n",
       "      <td>area_de_la_entidad_territorial_que_hace_parte_...</td>\n",
       "      <td>8342.85</td>\n",
       "      <td>NaN</td>\n",
       "      <td>2017</td>\n",
       "      <td>12</td>\n",
       "      <td>parques_nacionales_naturales</td>\n",
       "      <td>hectareas</td>\n",
       "    </tr>\n",
       "  </tbody>\n",
       "</table>\n",
       "</div>"
      ],
      "text/plain": [
       "   Unnamed: 0  codigo_departamento departamento  codigo_entidad entidad  \\\n",
       "0     3448811                   97       vaupes           97161  caruru   \n",
       "\n",
       "  dimension                                       subcategoria  \\\n",
       "0  ambiente  biodiversidad_y_servicios_ecosistemicos:_area_...   \n",
       "\n",
       "                                           indicador  dato_numerico  \\\n",
       "0  area_de_la_entidad_territorial_que_hace_parte_...        8342.85   \n",
       "\n",
       "  dato_cualitativo  anio  mes                        fuente unidad_de_medida  \n",
       "0              NaN  2017   12  parques_nacionales_naturales        hectareas  "
      ]
     },
     "execution_count": 13,
     "metadata": {},
     "output_type": "execute_result"
    }
   ],
   "source": [
    "# Loading and filtering the csv\n",
    "\n",
    "ambi = pd.read_csv(terridata[0])\n",
    "ambi = ambi.loc[ambi.codigo_entidad.isin(municipios)\n",
    "                & ambi.anio.ge(2016)\n",
    "                & ambi.anio.le(2019)]\n",
    "ambi.head(1)"
   ]
  },
  {
   "cell_type": "code",
   "execution_count": 10,
   "id": "dc7c4b4c-f29c-400e-bdcc-a9c3db5c474a",
   "metadata": {},
   "outputs": [
    {
     "data": {
      "text/plain": [
       "array([2016, 2017, 2018], dtype=int64)"
      ]
     },
     "execution_count": 10,
     "metadata": {},
     "output_type": "execute_result"
    }
   ],
   "source": [
    "# Checking the years where there is data\n",
    "\n",
    "anio = ambi.anio.unique()\n",
    "anio.sort()\n",
    "anio"
   ]
  },
  {
   "cell_type": "markdown",
   "id": "13c8be1b-7dd4-499c-8f35-4628190ceff9",
   "metadata": {},
   "source": [
    "There  is no data for 2019."
   ]
  },
  {
   "cell_type": "code",
   "execution_count": 11,
   "id": "fd2ee8d3-f384-4646-834d-82b58b13975f",
   "metadata": {},
   "outputs": [
    {
     "data": {
      "text/plain": [
       "array(['area_de_la_entidad_territorial_que_hace_parte_del_sinap',\n",
       "       'porcentaje_del_area_de_la_entidad_territorial_que_hace_parte_del_sinap',\n",
       "       'porcentaje_del_area_departamental_en_el_sinap_que_se_encuentra_en_el_municipio',\n",
       "       'area_de_humedales', 'area_de_paramos',\n",
       "       'area_total_de_ecosistemas_estrategicos',\n",
       "       'porcentaje_del_area_de_humedales',\n",
       "       'porcentaje_del_area_de_paramos',\n",
       "       'porcentaje_del_area_total_de_ecosistemas_estrategicos',\n",
       "       'porcentaje_del_area_departamental_en_humedales_que_se_encuentra_en_el_municipio',\n",
       "       'porcentaje_del_area_departamental_en_paramos_que_se_encuentra_en_el_municipio',\n",
       "       'area_de_bosque_estable_de_la_entidad_territorial',\n",
       "       'area_deforestada_en_la_entidad_territorial',\n",
       "       'porcentaje_del_area_departamental_de_bosque_que_se_encuentra_en_el_municipio',\n",
       "       'porcentaje_del_area_departamental_deforestada_que_ocurrio_en_el_municipio',\n",
       "       'porcentaje_del_area_nacional_de_bosque_que_se_encuentra_en_el_departamento',\n",
       "       'conocimiento_del_riesgo', 'reduccion_del_riesgo',\n",
       "       'manejo_de_desastres', 'fortalecimiento_institucional',\n",
       "       'total_en_gestion_de_desastres',\n",
       "       'inversion_en_conocimiento_del_riesgo',\n",
       "       'inversion_acumulada_en_reduccion_del_riesgo',\n",
       "       'inversion_acumulada_en_manejo_de_desastres',\n",
       "       'inversion_acumulada_en_fortalecimiento_institucional',\n",
       "       'inversion_acumulada_total_en_gestion_de_desastres',\n",
       "       'porcentaje_en_conocimiento_del_riesgo',\n",
       "       'porcentaje_en_reduccion_del_riesgo',\n",
       "       'porcentaje_en_manejo_de_desastres',\n",
       "       'porcentaje_en_fortalecimiento_institucional',\n",
       "       'area_de_la_entidad_territorial_amenazada_por_fenomenos_hidrometereologicos',\n",
       "       'area_de_la_entidad_territorial_no_amenazada_por_fenomenos_hidrometereologicos',\n",
       "       'porcentaje_del_area_de_la_entidad_territorial_amenazada_por_fenomenos_hidrometereologicos',\n",
       "       'porcentaje_del_area_de_la_entidad_territorial_no_amenazada_por_fenomenos_hidrometereologicos',\n",
       "       'avenidas_torrenciales', 'movimientos_en_masa',\n",
       "       'erupciones_volcanicas', 'incendios_forestales', 'inundaciones',\n",
       "       'sequias', 'sismos', 'total_acumulado_de_eventos_de_desastres',\n",
       "       'porcentaje_de_eventos:_avenidas_torrenciales',\n",
       "       'porcentaje_de_eventos:_movimientos_en_masa',\n",
       "       'porcentaje_de_eventos:_erupciones_volcanicas',\n",
       "       'porcentaje_de_eventos:_incendios_forestales',\n",
       "       'porcentaje_de_eventos:_inundaciones',\n",
       "       'porcentaje_de_eventos:_sequias', 'porcentaje_de_eventos:_sismos',\n",
       "       'acumulado_anual_de_precipitacion',\n",
       "       'media_historica_de_precipitacion',\n",
       "       'inversion_en_adaptacion_al_cambio_climatico',\n",
       "       'inversion_en_mitigacion_del_cambio_climatico',\n",
       "       'inversion_en_adaptacion_-_mitigacion',\n",
       "       'indice_de_vulnerabilidad_y_riesgo_por_cambio_climatico',\n",
       "       'vulnerabilidad_y_riesgo_por_cambio_climatico_-_amenaza',\n",
       "       'vulnerabilidad_y_riesgo_por_cambio_climatico_-_sensibilidad',\n",
       "       'vulnerabilidad_y_riesgo_por_cambio_climatico_-_capacidad_adaptativa',\n",
       "       'vulnerabilidad_y_riesgo_por_cambio_climatico_-_vulnerabilidad',\n",
       "       'vulnerabilidad_y_riesgo_por_cambio_climatico_-_grupo_de_riesgo',\n",
       "       'indice_de_riesgo_ajustado_por_capacidades'], dtype=object)"
      ]
     },
     "execution_count": 11,
     "metadata": {},
     "output_type": "execute_result"
    }
   ],
   "source": [
    "# Variables in the dataset\n",
    "\n",
    "ambi.indicador.unique()"
   ]
  },
  {
   "cell_type": "code",
   "execution_count": 14,
   "id": "bd94fa9b-ad3f-44ba-87c5-4f1d0c35c033",
   "metadata": {},
   "outputs": [
    {
     "data": {
      "text/plain": [
       "array([2016, 2017], dtype=int64)"
      ]
     },
     "execution_count": 14,
     "metadata": {},
     "output_type": "execute_result"
    }
   ],
   "source": [
    "# Filtering the data by the variable selected\n",
    "\n",
    "ambi_1 = ambi.loc[ambi.indicador.eq('inversion_en_adaptacion_al_cambio_climatico')]\n",
    "ambi_1.anio.unique()"
   ]
  },
  {
   "cell_type": "code",
   "execution_count": 18,
   "id": "fad505ed-ebcf-416b-baac-e3b7eaef35db",
   "metadata": {},
   "outputs": [
    {
     "data": {
      "text/plain": [
       "array([2016, 2017], dtype=int64)"
      ]
     },
     "execution_count": 18,
     "metadata": {},
     "output_type": "execute_result"
    }
   ],
   "source": [
    "# Filtering the data by the variable selected\n",
    "\n",
    "ambi_1 = ambi.loc[ambi.indicador.eq('inversion_en_adaptacion_-_mitigacion')]\n",
    "ambi_1.anio.unique()"
   ]
  },
  {
   "cell_type": "code",
   "execution_count": 16,
   "id": "679795a7-3417-4de4-81da-6bb7098e9596",
   "metadata": {},
   "outputs": [
    {
     "data": {
      "text/plain": [
       "array([2017], dtype=int64)"
      ]
     },
     "execution_count": 16,
     "metadata": {},
     "output_type": "execute_result"
    }
   ],
   "source": [
    "# Filtering the data by the variable selected\n",
    "\n",
    "ambi_1 = ambi.loc[ambi.indicador.eq('indice_de_vulnerabilidad_y_riesgo_por_cambio_climatico')]\n",
    "ambi_1.anio.unique()"
   ]
  },
  {
   "cell_type": "code",
   "execution_count": 17,
   "id": "fe0afcbf-6e76-4f5e-aa58-f6fbd47742f9",
   "metadata": {},
   "outputs": [
    {
     "data": {
      "text/plain": [
       "array([2018], dtype=int64)"
      ]
     },
     "execution_count": 17,
     "metadata": {},
     "output_type": "execute_result"
    }
   ],
   "source": [
    "# Filtering the data by the variable selected\n",
    "\n",
    "ambi_1 = ambi.loc[ambi.indicador.eq('indice_de_riesgo_ajustado_por_capacidades')]\n",
    "ambi_1.anio.unique()"
   ]
  },
  {
   "cell_type": "markdown",
   "id": "d64e99f7-8966-4680-bd4a-bf64a32679e9",
   "metadata": {},
   "source": [
    "There is no useful variable with enough years of data."
   ]
  },
  {
   "cell_type": "markdown",
   "id": "dceb72b0-d64d-4301-add2-b206ea82bd45",
   "metadata": {},
   "source": [
    "#### Demografia"
   ]
  },
  {
   "cell_type": "code",
   "execution_count": 19,
   "id": "667b8cf1-513e-4253-b513-5687de4e708c",
   "metadata": {},
   "outputs": [
    {
     "data": {
      "text/html": [
       "<div>\n",
       "<style scoped>\n",
       "    .dataframe tbody tr th:only-of-type {\n",
       "        vertical-align: middle;\n",
       "    }\n",
       "\n",
       "    .dataframe tbody tr th {\n",
       "        vertical-align: top;\n",
       "    }\n",
       "\n",
       "    .dataframe thead th {\n",
       "        text-align: right;\n",
       "    }\n",
       "</style>\n",
       "<table border=\"1\" class=\"dataframe\">\n",
       "  <thead>\n",
       "    <tr style=\"text-align: right;\">\n",
       "      <th></th>\n",
       "      <th>Unnamed: 0</th>\n",
       "      <th>codigo_departamento</th>\n",
       "      <th>departamento</th>\n",
       "      <th>codigo_entidad</th>\n",
       "      <th>entidad</th>\n",
       "      <th>dimension</th>\n",
       "      <th>subcategoria</th>\n",
       "      <th>indicador</th>\n",
       "      <th>dato_numerico</th>\n",
       "      <th>dato_cualitativo</th>\n",
       "      <th>anio</th>\n",
       "      <th>mes</th>\n",
       "      <th>fuente</th>\n",
       "      <th>unidad_de_medida</th>\n",
       "    </tr>\n",
       "  </thead>\n",
       "  <tbody>\n",
       "    <tr>\n",
       "      <th>0</th>\n",
       "      <td>23814</td>\n",
       "      <td>97</td>\n",
       "      <td>vaupes</td>\n",
       "      <td>97161</td>\n",
       "      <td>caruru</td>\n",
       "      <td>demografia_y_poblacion</td>\n",
       "      <td>poblacion_de_hombres</td>\n",
       "      <td>poblacion_de_hombres_de_00-04</td>\n",
       "      <td>198.0</td>\n",
       "      <td>NaN</td>\n",
       "      <td>2018</td>\n",
       "      <td>12</td>\n",
       "      <td>dane_-_censo_nacional_de_poblacion_y_vivienda</td>\n",
       "      <td>hombres</td>\n",
       "    </tr>\n",
       "  </tbody>\n",
       "</table>\n",
       "</div>"
      ],
      "text/plain": [
       "   Unnamed: 0  codigo_departamento departamento  codigo_entidad entidad  \\\n",
       "0       23814                   97       vaupes           97161  caruru   \n",
       "\n",
       "                dimension          subcategoria  \\\n",
       "0  demografia_y_poblacion  poblacion_de_hombres   \n",
       "\n",
       "                       indicador  dato_numerico  dato_cualitativo  anio  mes  \\\n",
       "0  poblacion_de_hombres_de_00-04          198.0               NaN  2018   12   \n",
       "\n",
       "                                          fuente unidad_de_medida  \n",
       "0  dane_-_censo_nacional_de_poblacion_y_vivienda          hombres  "
      ]
     },
     "execution_count": 19,
     "metadata": {},
     "output_type": "execute_result"
    }
   ],
   "source": [
    "# Loading and filtering the csv\n",
    "\n",
    "demo = pd.read_csv(terridata[3])\n",
    "demo = demo.loc[demo.codigo_entidad.isin(municipios)\n",
    "                & demo.anio.ge(2016)\n",
    "                & demo.anio.le(2019)]\n",
    "demo.head(1)"
   ]
  },
  {
   "cell_type": "code",
   "execution_count": 20,
   "id": "c8792e7f-050f-43a4-9b4c-b4d1ceb5d92a",
   "metadata": {},
   "outputs": [
    {
     "data": {
      "text/plain": [
       "array([2016, 2017, 2018, 2019], dtype=int64)"
      ]
     },
     "execution_count": 20,
     "metadata": {},
     "output_type": "execute_result"
    }
   ],
   "source": [
    "# Checking the years where there is data\n",
    "\n",
    "anio = demo.anio.unique()\n",
    "anio.sort()\n",
    "anio"
   ]
  },
  {
   "cell_type": "code",
   "execution_count": 21,
   "id": "4a456166-7e4c-4d2c-b77d-74bf37664ed1",
   "metadata": {},
   "outputs": [
    {
     "data": {
      "text/plain": [
       "array(['poblacion_de_hombres_de_00-04', 'poblacion_de_hombres_de__05-09',\n",
       "       'poblacion_de_hombres_de__10-14', 'poblacion_de_hombres_de__15-19',\n",
       "       'poblacion_de_hombres_de__20-24', 'poblacion_de_hombres_de__25-29',\n",
       "       'poblacion_de_hombres_de__30-34', 'poblacion_de_hombres_de__35-39',\n",
       "       'poblacion_de_hombres_de__40-44', 'poblacion_de_hombres_de__45-49',\n",
       "       'poblacion_de_hombres_de__50-54', 'poblacion_de_hombres_de__55-59',\n",
       "       'poblacion_de_hombres_de__60-64', 'poblacion_de_hombres_de__65-69',\n",
       "       'poblacion_de_hombres_de__70-74', 'poblacion_de_hombres_de__75-79',\n",
       "       'poblacion_de_hombres_de_80_o_mas',\n",
       "       'porcentaje_de_poblacion_de_hombres_de_00-04',\n",
       "       'porcentaje_de_poblacion_de_hombres_de__05-09',\n",
       "       'porcentaje_de_poblacion_de_hombres_de__10-14',\n",
       "       'porcentaje_de_poblacion_de_hombres_de__15-19',\n",
       "       'porcentaje_de_poblacion_de_hombres_de__20-24',\n",
       "       'porcentaje_de_poblacion_de_hombres_de__25-29',\n",
       "       'porcentaje_de_poblacion_de_hombres_de__30-34',\n",
       "       'porcentaje_de_poblacion_de_hombres_de__35-39',\n",
       "       'porcentaje_de_poblacion_de_hombres_de__40-44',\n",
       "       'porcentaje_de_poblacion_de_hombres_de__45-49',\n",
       "       'porcentaje_de_poblacion_de_hombres_de__50-54',\n",
       "       'porcentaje_de_poblacion_de_hombres_de__55-59',\n",
       "       'porcentaje_de_poblacion_de_hombres_de__60-64',\n",
       "       'porcentaje_de_poblacion_de_hombres_de__65-69',\n",
       "       'porcentaje_de_poblacion_de_hombres_de__70-74',\n",
       "       'porcentaje_de_poblacion_de_hombres_de__75-79',\n",
       "       'porcentaje_de_poblacion_de_hombres_de_80_o_mas',\n",
       "       'poblacion_de_mujeres_de_00-04', 'poblacion_de_mujeres_de__05-09',\n",
       "       'poblacion_de_mujeres_de__10-14', 'poblacion_de_mujeres_de__15-19',\n",
       "       'poblacion_de_mujeres_de__20-24', 'poblacion_de_mujeres_de__25-29',\n",
       "       'poblacion_de_mujeres_de__30-34', 'poblacion_de_mujeres_de__35-39',\n",
       "       'poblacion_de_mujeres_de__40-44', 'poblacion_de_mujeres_de__45-49',\n",
       "       'poblacion_de_mujeres_de__50-54', 'poblacion_de_mujeres_de__55-59',\n",
       "       'poblacion_de_mujeres_de__60-64', 'poblacion_de_mujeres_de__65-69',\n",
       "       'poblacion_de_mujeres_de__70-74', 'poblacion_de_mujeres_de__75-79',\n",
       "       'poblacion_de_mujeres_de_80_o_mas',\n",
       "       'porcentaje_de_poblacion_de_mujeres_de_00-04',\n",
       "       'porcentaje_de_poblacion_de_mujeres_de__05-09',\n",
       "       'porcentaje_de_poblacion_de_mujeres_de__10-14',\n",
       "       'porcentaje_de_poblacion_de_mujeres_de__15-19',\n",
       "       'porcentaje_de_poblacion_de_mujeres_de__20-24',\n",
       "       'porcentaje_de_poblacion_de_mujeres_de__25-29',\n",
       "       'porcentaje_de_poblacion_de_mujeres_de__30-34',\n",
       "       'porcentaje_de_poblacion_de_mujeres_de__35-39',\n",
       "       'porcentaje_de_poblacion_de_mujeres_de__40-44',\n",
       "       'porcentaje_de_poblacion_de_mujeres_de__45-49',\n",
       "       'porcentaje_de_poblacion_de_mujeres_de__50-54',\n",
       "       'porcentaje_de_poblacion_de_mujeres_de__55-59',\n",
       "       'porcentaje_de_poblacion_de_mujeres_de__60-64',\n",
       "       'porcentaje_de_poblacion_de_mujeres_de__65-69',\n",
       "       'porcentaje_de_poblacion_de_mujeres_de__70-74',\n",
       "       'porcentaje_de_poblacion_de_mujeres_de__75-79',\n",
       "       'porcentaje_de_poblacion_de_mujeres_de_80_o_mas',\n",
       "       'poblacion_total_de_hombres', 'poblacion_total_de_mujeres',\n",
       "       'porcentaje_poblacion_de_hombres',\n",
       "       'porcentaje_poblacion_de_mujeres', 'poblacion_urbana',\n",
       "       'poblacion_rural', 'porcentaje_poblacion_urbana',\n",
       "       'porcentaje_poblacion_rural', 'poblacion_indigena',\n",
       "       'poblacion_negra;_mulata_o_afrocolombiana', 'poblacion_raizal',\n",
       "       'poblacion_rom', 'poblacion_palenquero', 'poblacion_etnica_total',\n",
       "       'poblacion_de_origen_etnico_en_resguardos_indigenas',\n",
       "       'porcentaje_de_poblacion_de_origen_etnico_en_resguardos_indigenas',\n",
       "       'numero_de_resguardos_indigenas_en_el_territorio',\n",
       "       'total_registros_-_fichas', 'total_registros_validos_-_fichas',\n",
       "       'total_registros_-_hogares', 'total_registros_validos_-_hogares',\n",
       "       'total_registros_-_personas', 'total_registros_validos_-_personas',\n",
       "       'puntaje_sisben:_minimo_-_cabecera',\n",
       "       'puntaje_sisben:_maximo_-_cabecera',\n",
       "       'puntaje_sisben:_promedio_-_cabecera',\n",
       "       'puntaje_sisben:_minimo_-_centro_poblado',\n",
       "       'puntaje_sisben:_maximo_-_centro_poblado',\n",
       "       'puntaje_sisben:_promedio_-_centro_poblado',\n",
       "       'puntaje_sisben:_minimo_-_rural_disperso',\n",
       "       'puntaje_sisben:_maximo_-_rural_disperso',\n",
       "       'puntaje_sisben:_promedio_-_rural_disperso',\n",
       "       'puntaje_sisben:_minimo_-_total', 'puntaje_sisben:_maximo_-_total',\n",
       "       'puntaje_sisben:_promedio_-_total',\n",
       "       'proyeccion_de_poblacion_entre_los_0_y_4_anios',\n",
       "       'proyeccion_de_poblacion_entre_los_5_y_9_anios',\n",
       "       'proyeccion_de_poblacion_entre_los_10_y_14_anios',\n",
       "       'proyeccion_de_poblacion_entre_los_15_y_19_anios',\n",
       "       'proyeccion_de_poblacion_entre_los_20_y_24_anios',\n",
       "       'proyeccion_de_poblacion_entre_los_25_y_29_anios',\n",
       "       'proyeccion_de_poblacion_entre_los_30_y_34_anios',\n",
       "       'proyeccion_de_poblacion_entre_los_35_y_39_anios',\n",
       "       'proyeccion_de_poblacion_entre_los_40_y_44_anios',\n",
       "       'proyeccion_de_poblacion_entre_los_45_y_49_anios',\n",
       "       'proyeccion_de_poblacion_entre_los_50_y_54_anios',\n",
       "       'proyeccion_de_poblacion_entre_los_55_y_59_anios',\n",
       "       'proyeccion_de_poblacion_entre_los_60_y_64_anios',\n",
       "       'proyeccion_de_poblacion_entre_los_65_y_69_anios',\n",
       "       'proyeccion_de_poblacion_entre_los_70_y_74_anios',\n",
       "       'proyeccion_de_poblacion_entre_los_75_y_79_anios',\n",
       "       'proyeccion_de_poblacion_de_80_o_mas_anios',\n",
       "       'porcentaje_de_poblacion_entre_los_0_y_4_anios;_del_total_de_poblacion_proyectada_para_la_entidad_territorial',\n",
       "       'porcentaje_de_poblacion_entre_los_5_y_9_anios;_del_total_de_poblacion_proyectada_para_la_entidad_territorial',\n",
       "       'porcentaje_de_poblacion_entre_los_10_y_14_anios;_del_total_de_poblacion_proyectada_para_la_entidad_territorial',\n",
       "       'porcentaje_de_poblacion_entre_los_15_y_19_anios;_del_total_de_poblacion_proyectada_para_la_entidad_territorial',\n",
       "       'porcentaje_de_poblacion_entre_los_20_y_24_anios;_del_total_de_poblacion_proyectada_para_la_entidad_territorial',\n",
       "       'porcentaje_de_poblacion_entre_los_25_y_29_anios;_del_total_de_poblacion_proyectada_para_la_entidad_territorial',\n",
       "       'porcentaje_de_poblacion_entre_los_30_y_34_anios;_del_total_de_poblacion_proyectada_para_la_entidad_territorial',\n",
       "       'porcentaje_de_poblacion_entre_los_35_y_39_anios;_del_total_de_poblacion_proyectada_para_la_entidad_territorial',\n",
       "       'porcentaje_de_poblacion_entre_los_40_y_44_anios;_del_total_de_poblacion_proyectada_para_la_entidad_territorial',\n",
       "       'porcentaje_de_poblacion_entre_los_45_y_49_anios;_del_total_de_poblacion_proyectada_para_la_entidad_territorial',\n",
       "       'porcentaje_de_poblacion_entre_los_50_y_54_anios;_del_total_de_poblacion_proyectada_para_la_entidad_territorial',\n",
       "       'porcentaje_de_poblacion_entre_los_55_y_59_anios;_del_total_de_poblacion_proyectada_para_la_entidad_territorial',\n",
       "       'porcentaje_de_poblacion_entre_los_60_y_64_anios;_del_total_de_poblacion_proyectada_para_la_entidad_territorial',\n",
       "       'porcentaje_de_poblacion_entre_los_65_y_69_anios;_del_total_de_poblacion_proyectada_para_la_entidad_territorial',\n",
       "       'porcentaje_de_poblacion_entre_los_70_y_74_anios;_del_total_de_poblacion_proyectada_para_la_entidad_territorial',\n",
       "       'porcentaje_de_poblacion_entre_los_75_y_79_anios;_del_total_de_poblacion_proyectada_para_la_entidad_territorial',\n",
       "       'porcentaje_de_poblacion_de_80_o_mas_anios;_del_total_de_poblacion_proyectada_para_la_entidad_territorial',\n",
       "       'porcentaje_de_poblacion_menores_de_15_anios',\n",
       "       'proyeccion_de_numero_de_venezolanos'], dtype=object)"
      ]
     },
     "execution_count": 21,
     "metadata": {},
     "output_type": "execute_result"
    }
   ],
   "source": [
    "# Variables in the dataset\n",
    "\n",
    "demo.indicador.unique()"
   ]
  },
  {
   "cell_type": "code",
   "execution_count": 22,
   "id": "3dfb526d-c20d-4570-8892-279009a54251",
   "metadata": {},
   "outputs": [
    {
     "data": {
      "text/plain": [
       "array([2017], dtype=int64)"
      ]
     },
     "execution_count": 22,
     "metadata": {},
     "output_type": "execute_result"
    }
   ],
   "source": [
    "# Filtering the data by the variable selected\n",
    "demo_1 = demo.loc[demo.indicador.eq('puntaje_sisben:_minimo_-_total')]\n",
    "demo_1.anio.unique()"
   ]
  },
  {
   "cell_type": "code",
   "execution_count": 23,
   "id": "39b2717b-2165-40d7-8d12-f4b5095d2442",
   "metadata": {},
   "outputs": [
    {
     "data": {
      "text/plain": [
       "array([2017], dtype=int64)"
      ]
     },
     "execution_count": 23,
     "metadata": {},
     "output_type": "execute_result"
    }
   ],
   "source": [
    "# Filtering the data by the variable selected\n",
    "demo_1 = demo.loc[demo.indicador.eq('puntaje_sisben:_minimo_-_cabecera')]\n",
    "demo_1.anio.unique()"
   ]
  },
  {
   "cell_type": "markdown",
   "id": "edae73a0-6558-4892-829d-57e01aace456",
   "metadata": {},
   "source": [
    "The useful variables have not enough years of data."
   ]
  },
  {
   "cell_type": "markdown",
   "id": "ace4b39c-cbc8-4b86-8ba4-2741f2ff350c",
   "metadata": {},
   "source": [
    "#### Economia"
   ]
  },
  {
   "cell_type": "code",
   "execution_count": 25,
   "id": "52b9b5aa-9304-41d9-8a7b-9807571b19d3",
   "metadata": {},
   "outputs": [
    {
     "name": "stderr",
     "output_type": "stream",
     "text": [
      "c:\\users\\seb\\appdata\\local\\programs\\python\\python39\\lib\\site-packages\\IPython\\core\\interactiveshell.py:3441: DtypeWarning: Columns (9) have mixed types.Specify dtype option on import or set low_memory=False.\n",
      "  exec(code_obj, self.user_global_ns, self.user_ns)\n"
     ]
    },
    {
     "data": {
      "text/html": [
       "<div>\n",
       "<style scoped>\n",
       "    .dataframe tbody tr th:only-of-type {\n",
       "        vertical-align: middle;\n",
       "    }\n",
       "\n",
       "    .dataframe tbody tr th {\n",
       "        vertical-align: top;\n",
       "    }\n",
       "\n",
       "    .dataframe thead th {\n",
       "        text-align: right;\n",
       "    }\n",
       "</style>\n",
       "<table border=\"1\" class=\"dataframe\">\n",
       "  <thead>\n",
       "    <tr style=\"text-align: right;\">\n",
       "      <th></th>\n",
       "      <th>Unnamed: 0</th>\n",
       "      <th>codigo_departamento</th>\n",
       "      <th>departamento</th>\n",
       "      <th>codigo_entidad</th>\n",
       "      <th>entidad</th>\n",
       "      <th>dimension</th>\n",
       "      <th>subcategoria</th>\n",
       "      <th>indicador</th>\n",
       "      <th>dato_numerico</th>\n",
       "      <th>dato_cualitativo</th>\n",
       "      <th>anio</th>\n",
       "      <th>mes</th>\n",
       "      <th>fuente</th>\n",
       "      <th>unidad_de_medida</th>\n",
       "    </tr>\n",
       "  </thead>\n",
       "  <tbody>\n",
       "    <tr>\n",
       "      <th>104634</th>\n",
       "      <td>3735294</td>\n",
       "      <td>25</td>\n",
       "      <td>cundinamarca</td>\n",
       "      <td>25489</td>\n",
       "      <td>nimaima</td>\n",
       "      <td>economia</td>\n",
       "      <td>principales_cultivos_transitorios_segun_produc...</td>\n",
       "      <td>primer_cultivo_transitorio_en_terminos_de_tone...</td>\n",
       "      <td>38.0</td>\n",
       "      <td>Maíz</td>\n",
       "      <td>2016</td>\n",
       "      <td>12</td>\n",
       "      <td>evaluacion_agropecuaria_municipal;_minagricultura</td>\n",
       "      <td>numero</td>\n",
       "    </tr>\n",
       "  </tbody>\n",
       "</table>\n",
       "</div>"
      ],
      "text/plain": [
       "        Unnamed: 0  codigo_departamento  departamento  codigo_entidad  \\\n",
       "104634     3735294                   25  cundinamarca           25489   \n",
       "\n",
       "        entidad dimension                                       subcategoria  \\\n",
       "104634  nimaima  economia  principales_cultivos_transitorios_segun_produc...   \n",
       "\n",
       "                                                indicador  dato_numerico  \\\n",
       "104634  primer_cultivo_transitorio_en_terminos_de_tone...           38.0   \n",
       "\n",
       "       dato_cualitativo  anio  mes  \\\n",
       "104634             Maíz  2016   12   \n",
       "\n",
       "                                                   fuente unidad_de_medida  \n",
       "104634  evaluacion_agropecuaria_municipal;_minagricultura           numero  "
      ]
     },
     "execution_count": 25,
     "metadata": {},
     "output_type": "execute_result"
    }
   ],
   "source": [
    "# Loading and filtering the csv\n",
    "\n",
    "econo = pd.read_csv(terridata[5])\n",
    "econo = econo.loc[econo.codigo_entidad.isin(municipios)\n",
    "                  & econo.anio.ge(2016)\n",
    "                  & econo.anio.le(2019)]\n",
    "econo.head(1)"
   ]
  },
  {
   "cell_type": "code",
   "execution_count": 26,
   "id": "e47a33c6-497f-4faf-964e-6cfb30d6c71c",
   "metadata": {},
   "outputs": [
    {
     "data": {
      "text/plain": [
       "array([2016, 2017, 2018], dtype=int64)"
      ]
     },
     "execution_count": 26,
     "metadata": {},
     "output_type": "execute_result"
    }
   ],
   "source": [
    "# Checking the years where there is data\n",
    "\n",
    "anio = econo.anio.unique()\n",
    "anio.sort()\n",
    "anio"
   ]
  },
  {
   "cell_type": "markdown",
   "id": "77128b8d-3bd5-4eba-9cda-888137e3b9e4",
   "metadata": {},
   "source": [
    "2019 is missing."
   ]
  },
  {
   "cell_type": "code",
   "execution_count": 27,
   "id": "4f7a58a4-6404-4a6c-90be-0974f6a09d7e",
   "metadata": {},
   "outputs": [
    {
     "data": {
      "text/plain": [
       "array(['primer_cultivo_transitorio_en_terminos_de_toneladas_producidas',\n",
       "       'segundo_cultivo_transitorio_en_terminos_de_toneladas_producidas',\n",
       "       'tercer_cultivo_transitorio_en_terminos_de_toneladas_producidas',\n",
       "       'toneladas_producidas_por_otros_cultivos_transitorios',\n",
       "       'participacion_del_primer_cultivo_transitorio_en_la_produccion_total_de_los_cultivos_transitorios',\n",
       "       'participacion_del_segundo_cultivo_transitorio_en_la_produccion_total_de_los_cultivos_transitorios',\n",
       "       'participacion_del_tercer_cultivo_transitorio_en_la_produccion_total_de_los_cultivos_transitorios',\n",
       "       'participacion_de_los_demas_cultivos_transitorios_en_la_produccion_total_de_cultivos_transitorios',\n",
       "       'primer_cultivo_permanente_en_terminos_de_toneladas_producidas',\n",
       "       'segundo_cultivo_permanente_en_terminos_de_toneladas_producidas',\n",
       "       'tercer_cultivo_permanente_en_terminos_de_toneladas_producidas',\n",
       "       'toneladas_producidas_por_otros_cultivos_permanentes',\n",
       "       'participacion_del_primer_cultivo_permanente_en_la_produccion_total_de_los_cultivos_permanentes',\n",
       "       'participacion_del_segundo_cultivo_permanente_en_la_produccion_total_de_los_cultivos_permanentes',\n",
       "       'participacion_del_tercer_cultivo_permanente_en_la_produccion_total_de_los_cultivos_permanentes',\n",
       "       'participacion_de_los_demas_cultivos_permanentes_en_la_produccion_total_de_cultivos_permanentes',\n",
       "       'valor_agregado', 'valor_agregado_per_capita',\n",
       "       'valor_agregado_per_capita_como_porcentaje_del_promedio_nacional',\n",
       "       'participacion_del_valor_agregado_municipal_en_el_departamental',\n",
       "       'valor_agregado_por_actividades_economicas_-_actividades_primarias',\n",
       "       'valor_agregado_por_actividades_economicas_-_actividades_secundarias',\n",
       "       'valor_agregado_por_actividades_economicas_-_actividades_terciarias',\n",
       "       'porcentaje_del_valor_agregado_por_actividades_economicas_-_actividades_primarias',\n",
       "       'porcentaje_del_valor_agregado_por_actividades_economicas_-_actividades_secundarias',\n",
       "       'porcentaje_del_valor_agregado_por_actividades_economicas_-_actividades_terciarias',\n",
       "       'participacion_de_las_actividades_economicas_del_valor_agregado_municipal_en_las_actividades_economicas_del_departamental_-_actividades_primarias',\n",
       "       'participacion_de_las_actividades_economicas_del_valor_agregado_municipal_en_las_actividades_economicas_del_departamental_-_actividades_secundarias',\n",
       "       'participacion_de_las_actividades_economicas_del_valor_agregado_municipal_en_las_actividades_economicas_del_departamental_-_actividades_terciarias'],\n",
       "      dtype=object)"
      ]
     },
     "execution_count": 27,
     "metadata": {},
     "output_type": "execute_result"
    }
   ],
   "source": [
    "# Variables in the dataset\n",
    "\n",
    "econo.indicador.unique()"
   ]
  },
  {
   "cell_type": "code",
   "execution_count": 28,
   "id": "faf12165-0df6-4fe6-9527-fb134ba5561e",
   "metadata": {},
   "outputs": [
    {
     "data": {
      "text/plain": [
       "array([2016, 2017, 2018], dtype=int64)"
      ]
     },
     "execution_count": 28,
     "metadata": {},
     "output_type": "execute_result"
    }
   ],
   "source": [
    "# Filtering the data by the variable selected\n",
    "econo_1 = econo.loc[econo.indicador.eq('valor_agregado')]\n",
    "econo_1.anio.unique()"
   ]
  },
  {
   "cell_type": "code",
   "execution_count": 31,
   "id": "4df1d1dc-be22-4d92-95ca-5b89266ff333",
   "metadata": {},
   "outputs": [
    {
     "name": "stdout",
     "output_type": "stream",
     "text": [
      "Number of unique mun for 2016: 1101\n",
      "Mun not in MinTic databases\n",
      "[]\n",
      "Number of unique mun for 2017: 1101\n",
      "Mun not in MinTic databases\n",
      "[]\n",
      "Number of unique mun for 2018: 1101\n",
      "Mun not in MinTic databases\n",
      "[]\n"
     ]
    }
   ],
   "source": [
    "# Using the custom function to check for missing municipalities\n",
    "check_mun(econo_1, municipios)"
   ]
  },
  {
   "cell_type": "code",
   "execution_count": 30,
   "id": "6ed62d87-8f40-4c2c-8fae-b1867a24bed8",
   "metadata": {},
   "outputs": [
    {
     "data": {
      "text/plain": [
       "array([2016, 2017, 2018], dtype=int64)"
      ]
     },
     "execution_count": 30,
     "metadata": {},
     "output_type": "execute_result"
    }
   ],
   "source": [
    "# Filtering the data by the variable selected\n",
    "econo_2 = econo.loc[econo.indicador.eq('valor_agregado_per_capita')]\n",
    "econo_2.anio.unique()"
   ]
  },
  {
   "cell_type": "code",
   "execution_count": 32,
   "id": "ad674716-7d56-4710-95a4-d90c90629e49",
   "metadata": {},
   "outputs": [
    {
     "name": "stdout",
     "output_type": "stream",
     "text": [
      "Number of unique mun for 2016: 1101\n",
      "Mun not in MinTic databases\n",
      "[]\n",
      "Number of unique mun for 2017: 1101\n",
      "Mun not in MinTic databases\n",
      "[]\n",
      "Number of unique mun for 2018: 1101\n",
      "Mun not in MinTic databases\n",
      "[]\n"
     ]
    }
   ],
   "source": [
    "# Using the custom function to check for missing municipalities\n",
    "check_mun(econo_2, municipios)"
   ]
  },
  {
   "cell_type": "markdown",
   "id": "c8c30957-6521-4178-adbb-9cde1f535f2c",
   "metadata": {},
   "source": [
    "The useful variables are missing 2019."
   ]
  },
  {
   "cell_type": "markdown",
   "id": "8fdca7c1-2eae-499d-9280-c415edf87953",
   "metadata": {},
   "source": [
    "#### Educacion"
   ]
  },
  {
   "cell_type": "code",
   "execution_count": 33,
   "id": "4fa95f84-92df-4c11-88e2-e35f12b4f50d",
   "metadata": {},
   "outputs": [
    {
     "data": {
      "text/html": [
       "<div>\n",
       "<style scoped>\n",
       "    .dataframe tbody tr th:only-of-type {\n",
       "        vertical-align: middle;\n",
       "    }\n",
       "\n",
       "    .dataframe tbody tr th {\n",
       "        vertical-align: top;\n",
       "    }\n",
       "\n",
       "    .dataframe thead th {\n",
       "        text-align: right;\n",
       "    }\n",
       "</style>\n",
       "<table border=\"1\" class=\"dataframe\">\n",
       "  <thead>\n",
       "    <tr style=\"text-align: right;\">\n",
       "      <th></th>\n",
       "      <th>Unnamed: 0</th>\n",
       "      <th>codigo_departamento</th>\n",
       "      <th>departamento</th>\n",
       "      <th>codigo_entidad</th>\n",
       "      <th>entidad</th>\n",
       "      <th>dimension</th>\n",
       "      <th>subcategoria</th>\n",
       "      <th>indicador</th>\n",
       "      <th>dato_numerico</th>\n",
       "      <th>dato_cualitativo</th>\n",
       "      <th>anio</th>\n",
       "      <th>mes</th>\n",
       "      <th>fuente</th>\n",
       "      <th>unidad_de_medida</th>\n",
       "    </tr>\n",
       "  </thead>\n",
       "  <tbody>\n",
       "    <tr>\n",
       "      <th>12475</th>\n",
       "      <td>1038610</td>\n",
       "      <td>44</td>\n",
       "      <td>la_guajira</td>\n",
       "      <td>44035</td>\n",
       "      <td>albania</td>\n",
       "      <td>educacion</td>\n",
       "      <td>acceso_a_la_educacion</td>\n",
       "      <td>cobertura_bruta_en_transicion</td>\n",
       "      <td>136.75</td>\n",
       "      <td>NaN</td>\n",
       "      <td>2016</td>\n",
       "      <td>12</td>\n",
       "      <td>ministerio_de_educacion_nacional</td>\n",
       "      <td>porcentaje_(el_valor_esta_multiplicado_por_100)</td>\n",
       "    </tr>\n",
       "  </tbody>\n",
       "</table>\n",
       "</div>"
      ],
      "text/plain": [
       "       Unnamed: 0  codigo_departamento departamento  codigo_entidad  entidad  \\\n",
       "12475     1038610                   44   la_guajira           44035  albania   \n",
       "\n",
       "       dimension           subcategoria                      indicador  \\\n",
       "12475  educacion  acceso_a_la_educacion  cobertura_bruta_en_transicion   \n",
       "\n",
       "       dato_numerico  dato_cualitativo  anio  mes  \\\n",
       "12475         136.75               NaN  2016   12   \n",
       "\n",
       "                                 fuente  \\\n",
       "12475  ministerio_de_educacion_nacional   \n",
       "\n",
       "                                      unidad_de_medida  \n",
       "12475  porcentaje_(el_valor_esta_multiplicado_por_100)  "
      ]
     },
     "execution_count": 33,
     "metadata": {},
     "output_type": "execute_result"
    }
   ],
   "source": [
    "# Loading and filtering the csv\n",
    "\n",
    "edu = pd.read_csv(terridata[6])\n",
    "edu = edu.loc[edu.codigo_entidad.isin(municipios)\n",
    "              & edu.anio.ge(2016)\n",
    "              & edu.anio.le(2019)]\n",
    "edu.head(1)"
   ]
  },
  {
   "cell_type": "code",
   "execution_count": 35,
   "id": "1c918aaf-6a2f-4b31-96d4-8ad719f9a4f6",
   "metadata": {},
   "outputs": [
    {
     "data": {
      "text/plain": [
       "array([2016, 2017, 2018, 2019], dtype=int64)"
      ]
     },
     "execution_count": 35,
     "metadata": {},
     "output_type": "execute_result"
    }
   ],
   "source": [
    "# Checking the years where there is data\n",
    "\n",
    "anio = edu.anio.unique()\n",
    "anio.sort()\n",
    "anio"
   ]
  },
  {
   "cell_type": "code",
   "execution_count": 34,
   "id": "6c8e2958-134b-41c2-b9f7-a59e131080d0",
   "metadata": {},
   "outputs": [
    {
     "data": {
      "text/plain": [
       "array(['cobertura_bruta_en_transicion',\n",
       "       'cobertura_bruta_en_educacion_primaria',\n",
       "       'cobertura_bruta_en_educacion_secundaria',\n",
       "       'cobertura_bruta_en_educacion_media',\n",
       "       'cobertura_bruta_en_educacion_basica',\n",
       "       'cobertura_bruta_en_educacion_-_total',\n",
       "       'cobertura_neta_en_transicion',\n",
       "       'cobertura_neta_en_educacion_primaria',\n",
       "       'cobertura_neta_en_educacion_secundaria',\n",
       "       'cobertura_neta_en_educacion_media',\n",
       "       'cobertura_neta_en_educacion_basica',\n",
       "       'cobertura_neta_en_educacion_-_total',\n",
       "       'tasa_de_desercion_intra-anual_del_sector_oficial_en_educacion_basica_y_media_(desde_transicion_hasta_once)',\n",
       "       'tasa_de_repitencia_del_sector_oficial_en_educacion_basica_y_media_(desde_transicion_hasta_once)',\n",
       "       'tasa_de_analfabetismo_(censo)',\n",
       "       'tasa_de_analfabetismo_urbana_(censo)',\n",
       "       'tasa_de_analfabetismo_rural_(censo)',\n",
       "       'porcentaje_de_asistencia_de_5_a_24_anios_(censo)',\n",
       "       'porcentaje_de_asistencia_de_5_a_24_anios_urbana_(censo)',\n",
       "       'porcentaje_de_asistencia_de_5_a_24_anios_rural_(censo)',\n",
       "       'puntaje_promedio_pruebas_saber_11_-_matematicas',\n",
       "       'puntaje_promedio_pruebas_saber_11_-_lectura_critica'],\n",
       "      dtype=object)"
      ]
     },
     "execution_count": 34,
     "metadata": {},
     "output_type": "execute_result"
    }
   ],
   "source": [
    "# Variables in the dataset\n",
    "\n",
    "edu.indicador.unique()"
   ]
  },
  {
   "cell_type": "code",
   "execution_count": 36,
   "id": "81b113e8-e8f5-4995-acf6-efafa29ca5ae",
   "metadata": {},
   "outputs": [
    {
     "data": {
      "text/plain": [
       "array([2016, 2017, 2018, 2019], dtype=int64)"
      ]
     },
     "execution_count": 36,
     "metadata": {},
     "output_type": "execute_result"
    }
   ],
   "source": [
    "# Filtering the data by the variable selected\n",
    "edu_1 = edu.loc[edu.indicador.eq('cobertura_neta_en_educacion_-_total')]\n",
    "edu_1.anio.unique()"
   ]
  },
  {
   "cell_type": "code",
   "execution_count": 37,
   "id": "44ae3058-1f9f-4e9d-a3d1-49231676f8b8",
   "metadata": {},
   "outputs": [
    {
     "name": "stdout",
     "output_type": "stream",
     "text": [
      "Number of unique mun for 2016: 1101\n",
      "Mun not in MinTic databases\n",
      "[]\n",
      "Number of unique mun for 2017: 1101\n",
      "Mun not in MinTic databases\n",
      "[]\n",
      "Number of unique mun for 2018: 1101\n",
      "Mun not in MinTic databases\n",
      "[]\n",
      "Number of unique mun for 2019: 1101\n",
      "Mun not in MinTic databases\n",
      "[]\n"
     ]
    }
   ],
   "source": [
    "# Using the custom function to check for missing municipalities\n",
    "check_mun(edu_1, municipios)"
   ]
  },
  {
   "cell_type": "code",
   "execution_count": 39,
   "id": "db5435ba-0e3a-4ab5-9b24-e744633e699d",
   "metadata": {},
   "outputs": [
    {
     "data": {
      "text/plain": [
       "array([2016, 2017, 2018], dtype=int64)"
      ]
     },
     "execution_count": 39,
     "metadata": {},
     "output_type": "execute_result"
    }
   ],
   "source": [
    "# Filtering the data by the variable selected\n",
    "edu_2 = edu.loc[edu.indicador.eq('cobertura_neta_en_educacion_basica')]\n",
    "edu_2.anio.unique()"
   ]
  },
  {
   "cell_type": "code",
   "execution_count": 40,
   "id": "b323c6f8-dc5f-413a-84e6-316dc93b7072",
   "metadata": {},
   "outputs": [
    {
     "name": "stdout",
     "output_type": "stream",
     "text": [
      "Number of unique mun for 2016: 1101\n",
      "Mun not in MinTic databases\n",
      "[]\n",
      "Number of unique mun for 2017: 1101\n",
      "Mun not in MinTic databases\n",
      "[]\n",
      "Number of unique mun for 2018: 1101\n",
      "Mun not in MinTic databases\n",
      "[]\n"
     ]
    }
   ],
   "source": [
    "# Using the custom function to check for missing municipalities\n",
    "check_mun(edu_2, municipios)"
   ]
  },
  {
   "cell_type": "markdown",
   "id": "c62c9c68-b073-4b8a-8975-e743bbada952",
   "metadata": {},
   "source": [
    "2019 missing."
   ]
  },
  {
   "cell_type": "code",
   "execution_count": 41,
   "id": "604e325c-e51a-49b0-8b98-15f28c85123a",
   "metadata": {},
   "outputs": [
    {
     "data": {
      "text/plain": [
       "array([2018], dtype=int64)"
      ]
     },
     "execution_count": 41,
     "metadata": {},
     "output_type": "execute_result"
    }
   ],
   "source": [
    "# Filtering the data by the variable selected\n",
    "edu_3 = edu.loc[edu.indicador.eq('tasa_de_analfabetismo_(censo)')]\n",
    "edu_3.anio.unique()"
   ]
  },
  {
   "cell_type": "markdown",
   "id": "a7c24556-f39a-4d1d-83a0-47efb79c9925",
   "metadata": {},
   "source": [
    "There is une variable with the 4 years and another one with 3."
   ]
  },
  {
   "cell_type": "markdown",
   "id": "59f83d7b-930d-409e-87c9-311df9e51b51",
   "metadata": {},
   "source": [
    "#### Finanzas"
   ]
  },
  {
   "cell_type": "code",
   "execution_count": 42,
   "id": "d6ed5639-a2ed-4d62-af36-564cfe538c37",
   "metadata": {},
   "outputs": [
    {
     "data": {
      "text/html": [
       "<div>\n",
       "<style scoped>\n",
       "    .dataframe tbody tr th:only-of-type {\n",
       "        vertical-align: middle;\n",
       "    }\n",
       "\n",
       "    .dataframe tbody tr th {\n",
       "        vertical-align: top;\n",
       "    }\n",
       "\n",
       "    .dataframe thead th {\n",
       "        text-align: right;\n",
       "    }\n",
       "</style>\n",
       "<table border=\"1\" class=\"dataframe\">\n",
       "  <thead>\n",
       "    <tr style=\"text-align: right;\">\n",
       "      <th></th>\n",
       "      <th>Unnamed: 0</th>\n",
       "      <th>codigo_departamento</th>\n",
       "      <th>departamento</th>\n",
       "      <th>codigo_entidad</th>\n",
       "      <th>entidad</th>\n",
       "      <th>dimension</th>\n",
       "      <th>subcategoria</th>\n",
       "      <th>indicador</th>\n",
       "      <th>dato_numerico</th>\n",
       "      <th>dato_cualitativo</th>\n",
       "      <th>anio</th>\n",
       "      <th>mes</th>\n",
       "      <th>fuente</th>\n",
       "      <th>unidad_de_medida</th>\n",
       "    </tr>\n",
       "  </thead>\n",
       "  <tbody>\n",
       "    <tr>\n",
       "      <th>18144</th>\n",
       "      <td>1991906</td>\n",
       "      <td>23</td>\n",
       "      <td>cordoba</td>\n",
       "      <td>23855</td>\n",
       "      <td>valencia</td>\n",
       "      <td>finanzas_publicas</td>\n",
       "      <td>operaciones_efectivas_de_caja</td>\n",
       "      <td>ingresos_totales</td>\n",
       "      <td>37106.64</td>\n",
       "      <td>NaN</td>\n",
       "      <td>2016</td>\n",
       "      <td>12</td>\n",
       "      <td>dnp_a_partir_de_informacion_del_fut</td>\n",
       "      <td>millones_de_pesos_corrientes</td>\n",
       "    </tr>\n",
       "  </tbody>\n",
       "</table>\n",
       "</div>"
      ],
      "text/plain": [
       "       Unnamed: 0  codigo_departamento departamento  codigo_entidad   entidad  \\\n",
       "18144     1991906                   23      cordoba           23855  valencia   \n",
       "\n",
       "               dimension                   subcategoria         indicador  \\\n",
       "18144  finanzas_publicas  operaciones_efectivas_de_caja  ingresos_totales   \n",
       "\n",
       "       dato_numerico  dato_cualitativo  anio  mes  \\\n",
       "18144       37106.64               NaN  2016   12   \n",
       "\n",
       "                                    fuente              unidad_de_medida  \n",
       "18144  dnp_a_partir_de_informacion_del_fut  millones_de_pesos_corrientes  "
      ]
     },
     "execution_count": 42,
     "metadata": {},
     "output_type": "execute_result"
    }
   ],
   "source": [
    "# Loading and filtering the csv\n",
    "\n",
    "finanzas = pd.read_csv(terridata[7])\n",
    "finanzas = finanzas.loc[finanzas.codigo_entidad.isin(municipios)\n",
    "                        & finanzas.anio.ge(2016)\n",
    "                        & finanzas.anio.le(2019)]\n",
    "finanzas.head(1)"
   ]
  },
  {
   "cell_type": "code",
   "execution_count": 43,
   "id": "a0108388-3365-43ee-8abd-cfdb7534cf0d",
   "metadata": {},
   "outputs": [
    {
     "data": {
      "text/plain": [
       "array([2016, 2017, 2018, 2019], dtype=int64)"
      ]
     },
     "execution_count": 43,
     "metadata": {},
     "output_type": "execute_result"
    }
   ],
   "source": [
    "# Checking the years where there is data\n",
    "\n",
    "anio = finanzas.anio.unique()\n",
    "anio.sort()\n",
    "anio"
   ]
  },
  {
   "cell_type": "code",
   "execution_count": 44,
   "id": "137fd273-039e-43f9-9dc5-674d839c82ef",
   "metadata": {},
   "outputs": [
    {
     "data": {
      "text/plain": [
       "array(['ingresos_totales', 'ingresos_corrientes', 'ingresos_tributarios',\n",
       "       'ingresos_no_tributarios',\n",
       "       'transferencias_de_los_ingresos_corrientes', 'gastos_totales',\n",
       "       'gastos_corrientes', 'funcionamiento',\n",
       "       'intereses_de_deuda_publica', 'deficit_o_ahorro_corriente',\n",
       "       'ingresos_de_capital', 'gastos_de_capital_(inversion)',\n",
       "       'deficit_o_superavit_total', 'financiamiento',\n",
       "       'credito_interno_y_externo',\n",
       "       'recursos_del_balance_y_variacion_de_depositos',\n",
       "       'ingresos_totales_per_capita', 'ingresos_corrientes_per_capita',\n",
       "       'ingresos_tributarios_per_capita',\n",
       "       'ingresos_per_capita_por_impuesto_predial',\n",
       "       'ingresos_per_capita_por_impuesto_a_la_industria_y_al_comercio',\n",
       "       'ingresos_no_tributarios_per_capita', 'gastos_totales_per_capita',\n",
       "       'gastos_corrientes_per_capita',\n",
       "       'gastos_de_funcionamiento_per_capita',\n",
       "       'regalias_per_capita_(valor_efectivamente_girado_al_municipio)',\n",
       "       'transferencias_per_capita_de_los_ingresos_corrientes',\n",
       "       'transferencias_nacionales_(sgp;_etc.)_per_capita_',\n",
       "       'total_de_recursos_asignados_per_capita_-_sgp',\n",
       "       'total_de_recursos_asignados_per_capita_-_sgr_(bienio)',\n",
       "       'total_de_recaudo_de_ingresos_corrientes_per_capita',\n",
       "       'total_de_asignaciones_sgr_2015-2016',\n",
       "       'total_de_asignaciones_sgr_2017-2018',\n",
       "       'numero_de_proyectos_terminados',\n",
       "       'numero_de_proyectos_contratados',\n",
       "       'numero_de_proyectos_sin_contratar', 'numero_total_de_proyectos',\n",
       "       'valor_de_los_proyectos_terminados',\n",
       "       'valor_de_los_proyectos_contratados',\n",
       "       'valor_de_los_proyectos_sin_contratar',\n",
       "       'valor_del_numero_total_de_proyectos',\n",
       "       'indice_de_gestion_de_proyectos_de_regalias_(igpr)',\n",
       "       'componente_-_transparencia', 'componente_-_sin_medidas_del_smsce',\n",
       "       'componente_-_eficiencia_', 'componente_-_eficacia_',\n",
       "       'saldo_directas', 'saldo_especificas', 'saldo_total', 'educacion',\n",
       "       'salud', 'agua_potable', 'proposito_general',\n",
       "       'alimentacion_escolar', 'riberenios', 'resguardos_indigenas',\n",
       "       'primera_infancia', 'total_sgp', 'agua', 'libre_destinacion',\n",
       "       'deporte', 'cultura', 'libre_inversion',\n",
       "       'porcentaje_de_inversion_con_recursos_propios',\n",
       "       '%_de_ingresos_corrientes_destinados_a_funcionamiento',\n",
       "       'respaldo_de_la_deuda',\n",
       "       '%_de_ingresos_que_corresponden_a_transferencias',\n",
       "       '%_de_ingresos_corrientes_que_corresponden_a_recursos_propios',\n",
       "       '%_del_gasto_total_destinado_a_inversion', 'capacidad_de_ahorro',\n",
       "       'indicador_de_desempenio_fiscal', 'fonpet',\n",
       "       'inversion_-_educacion', 'inversion_-_salud',\n",
       "       'inversion_-_agua_potable_y_saneamiento_basico__(sin_incluir_proyectos_de_vis)',\n",
       "       'inversion_-_deporte_y_recreacion', 'inversion_-_cultura',\n",
       "       'inversion_-_servicios_publicos_diferentes_a_acueducto_alcantarillado_y_aseo_(sin_incluir_proyectos_de_vivienda_de_interes_social)',\n",
       "       'inversion_-_vivienda', 'inversion_-_agropecuario',\n",
       "       'inversion_-_transporte', 'inversion_-_ambiental',\n",
       "       'inversion_-_centros_de_reclusion',\n",
       "       'inversion_-_prevencion_y_atencion_de_desastres',\n",
       "       'inversion_-_promocion_del_desarrollo',\n",
       "       'inversion_-_atencion_a_grupos_vulnerables_-_promocion_social',\n",
       "       'inversion_-_equipamiento', 'inversion_-_desarrollo_comunitario',\n",
       "       'inversion_-_fortalecimiento_institucional',\n",
       "       'inversion_-_justicia_y_seguridad',\n",
       "       'inversion_-_gastos_especificos_de_regalias_y_compensaciones',\n",
       "       'porcentaje_de_inversion_-_educacion',\n",
       "       'porcentaje_de_inversion_-_salud',\n",
       "       'porcentaje_de_inversion_-_agua_potable_y_saneamiento_basico__(sin_incluir_proyectos_de_vis)',\n",
       "       'porcentaje_de_inversion_-_deporte_y_recreacion',\n",
       "       'porcentaje_de_inversion_-_cultura',\n",
       "       'porcentaje_de_inversion_-_servicios_publicos_diferentes_a_acueducto_alcantarillado_y_aseo_(sin_incluir_proyectos_de_vivienda_de_interes_social)',\n",
       "       'porcentaje_de_inversion_-_vivienda',\n",
       "       'porcentaje_de_inversion_-_agropecuario',\n",
       "       'porcentaje_de_inversion_-_transporte',\n",
       "       'porcentaje_de_inversion_-_ambiental',\n",
       "       'porcentaje_de_inversion_-_centros_de_reclusion',\n",
       "       'porcentaje_de_inversion_-_prevencion_y_atencion_de_desastres',\n",
       "       'porcentaje_de_inversion_-_promocion_del_desarrollo',\n",
       "       'porcentaje_de_inversion_-_atencion_a_grupos_vulnerables_-_promocion_social',\n",
       "       'porcentaje_de_inversion_-_equipamiento',\n",
       "       'porcentaje_de_inversion_-_desarrollo_comunitario',\n",
       "       'porcentaje_de_inversion_-_fortalecimiento_institucional',\n",
       "       'porcentaje_de_inversion_-_justicia_y_seguridad',\n",
       "       'porcentaje_de_inversion_-_gastos_especificos_de_regalias_y_compensaciones'],\n",
       "      dtype=object)"
      ]
     },
     "execution_count": 44,
     "metadata": {},
     "output_type": "execute_result"
    }
   ],
   "source": [
    "# Variables in the dataset\n",
    "\n",
    "finanzas.indicador.unique()"
   ]
  },
  {
   "cell_type": "code",
   "execution_count": 49,
   "id": "46afc8c4-52ff-4639-9f22-31fa43b99e10",
   "metadata": {},
   "outputs": [
    {
     "data": {
      "text/plain": [
       "array([2016, 2017, 2018, 2019], dtype=int64)"
      ]
     },
     "execution_count": 49,
     "metadata": {},
     "output_type": "execute_result"
    }
   ],
   "source": [
    "# Filtering the data by the variable selected\n",
    "fin_1 = finanzas.loc[finanzas.indicador.eq('ingresos_totales_per_capita')]\n",
    "fin_1.anio.unique()"
   ]
  },
  {
   "cell_type": "code",
   "execution_count": 50,
   "id": "6a876d76-aa0a-482b-9f3b-08c571fdfd37",
   "metadata": {},
   "outputs": [
    {
     "name": "stdout",
     "output_type": "stream",
     "text": [
      "Number of unique mun for 2016: 1101\n",
      "Mun not in MinTic databases\n",
      "[]\n",
      "Number of unique mun for 2017: 1101\n",
      "Mun not in MinTic databases\n",
      "[]\n",
      "Number of unique mun for 2018: 1101\n",
      "Mun not in MinTic databases\n",
      "[]\n",
      "Number of unique mun for 2019: 1101\n",
      "Mun not in MinTic databases\n",
      "[]\n"
     ]
    }
   ],
   "source": [
    "# Using the custom function to check for missing municipalities\n",
    "check_mun(fin_1, municipios)"
   ]
  },
  {
   "cell_type": "code",
   "execution_count": 54,
   "id": "df3779f3-ea89-4910-b49b-26d22b1e24f4",
   "metadata": {},
   "outputs": [
    {
     "data": {
      "text/plain": [
       "array([2016, 2017, 2018, 2019], dtype=int64)"
      ]
     },
     "execution_count": 54,
     "metadata": {},
     "output_type": "execute_result"
    }
   ],
   "source": [
    "# Filtering the data by the variable selected\n",
    "fin_2 = finanzas.loc[finanzas.indicador.eq('gastos_totales_per_capita')]\n",
    "fin_2.anio.unique()"
   ]
  },
  {
   "cell_type": "code",
   "execution_count": 58,
   "id": "c44377da-fd35-4cfd-a4ea-9b27f0e405d2",
   "metadata": {},
   "outputs": [
    {
     "name": "stdout",
     "output_type": "stream",
     "text": [
      "Number of unique mun for 2016: 1101\n",
      "Mun not in MinTic databases\n",
      "[]\n",
      "Number of unique mun for 2017: 1101\n",
      "Mun not in MinTic databases\n",
      "[]\n",
      "Number of unique mun for 2018: 1101\n",
      "Mun not in MinTic databases\n",
      "[]\n",
      "Number of unique mun for 2019: 1101\n",
      "Mun not in MinTic databases\n",
      "[]\n"
     ]
    }
   ],
   "source": [
    "# Using the custom function to check for missing municipalities\n",
    "check_mun(fin_2, municipios)"
   ]
  },
  {
   "cell_type": "code",
   "execution_count": 55,
   "id": "1b8436e3-cf4b-41cd-9561-d27b1e99b486",
   "metadata": {},
   "outputs": [
    {
     "data": {
      "text/plain": [
       "array([2016, 2017], dtype=int64)"
      ]
     },
     "execution_count": 55,
     "metadata": {},
     "output_type": "execute_result"
    }
   ],
   "source": [
    "# Filtering the data by the variable selected\n",
    "fin_3 = finanzas.loc[finanzas.indicador.eq('total_de_recursos_asignados_per_capita_-_sgp')]\n",
    "fin_3.anio.unique()"
   ]
  },
  {
   "cell_type": "code",
   "execution_count": 56,
   "id": "df995691-64ec-46df-a971-9c2cef9785f6",
   "metadata": {},
   "outputs": [
    {
     "data": {
      "text/plain": [
       "array([2016, 2017, 2018], dtype=int64)"
      ]
     },
     "execution_count": 56,
     "metadata": {},
     "output_type": "execute_result"
    }
   ],
   "source": [
    "# Filtering the data by the variable selected\n",
    "fin_3 = finanzas.loc[finanzas.indicador.eq('valor_de_los_proyectos_terminados')]\n",
    "fin_3.anio.unique()"
   ]
  },
  {
   "cell_type": "code",
   "execution_count": 57,
   "id": "6dd49a1e-27f0-4c2c-ad69-fd0bfab79536",
   "metadata": {},
   "outputs": [
    {
     "name": "stdout",
     "output_type": "stream",
     "text": [
      "Number of unique mun for 2016: 4\n",
      "Mun not in MinTic databases\n",
      "[20517, 41001, 73770, 41006, 41013, 41016, 41020, 41026, 20550, 20570, 8296, 41078, 73854, 73861, 20614, 20621, 73870, 73873, 41132, 8372, 86219, 8421, 20710, 8433, 8436, 41206, 20750, 41244, 20770, 86320, 20787, 8520, 41298, 41306, 8549, 41319, 8558, 8560, 70001, 8573, 41349, 41357, 41359, 8606, 41378, 25001, 41396, 8634, 25019, 8638, 25035, 25040, 66001, 25053, 70110, 8675, 70124, 8685, 66045, 25086, 25095, 25099, 41483, 66075, 41503, 25120, 25123, 25126, 66088, 86568, 86569, 86571, 86573, 41518, 41524, 8758, 41530, 25148, 70204, 25151, 8770, 25154, 70215, 41548, 70221, 41551, 25168, 70230, 25175, 70233, 25178, 70235, 25181, 25183, 17001, 25200, 17013, 70265, 66170, 25214, 8832, 25224, 41615, 8849, 17042, 17050, 25245, 25258, 25260, 25269, 99001, 41660, 25279, 17088, 25281, 41668, 25286, 25288, 13001, 25290, 41676, 25293, 13006, 25295, 25297, 25299, 25307, 86749, 25312, 86755, 86757, 25317, 13030, 86760, 25320, 25322, 25324, 25326, 25328, 54001, 13042, 54003, 25335, 25339, 13052, 70400, 13062, 66318, 13074, 70418, 17174, 25368, 95001, 25372, 70429, 25377, 54051, 95015, 25386, 41770, 95025, 25394, 25398, 25402, 25407, 41791, 41797, 41799, 41801, 70473, 66383, 41807, 86865, 25426, 50001, 13140, 54099, 25430, 50006, 25436, 54109, 25438, 66400, 86885, 13160, 70508, 54125, 54128, 17272, 91001, 70523, 25473, 13188, 66440, 5001, 5002, 25483, 5004, 25486, 25488, 25489, 41872, 25491, 66456, 13212, 5021, 41885, 54172, 54174, 25506, 5030, 5031, 13222, 25513, 5034, 5036, 5038, 25518, 5040, 5042, 5044, 5045, 25524, 25530, 5051, 13244, 54206, 5055, 13248, 25535, 50110, 5059, 50124, 54223, 13268, 5079, 5086, 54239, 5088, 95200, 5091, 17380, 5093, 25572, 50150, 54245, 54250, 17388, 5101, 25580, 5107, 13300, 54261, 25592, 5113, 25594, 25596, 25599, 5120, 5125, 5129, 25612, 66572, 5134, 70670, 5138, 5142, 70678, 5145, 17433, 5147, 5148, 5150, 5154, 17442, 17444, 66594, 17446, 54313, 25645, 70702, 50223, 25649, 50226, 5172, 25653, 70708, 70713, 25658, 70717, 25662, 50245, 5190, 54344, 50251, 54347, 5197, 17486, 5206, 17495, 70742, 5209, 5212, 50270, 17513, 54377, 50287, 54385, 5234, 70771, 17524, 5237, 25718, 13430, 5240, 13433, 66682, 54398, 66687, 13440, 5250, 13442, 17541, 54405, 25736, 50313, 25740, 50318, 25743, 5264, 25745, 5266, 13458, 54418, 50325, 25754, 50330, 13468, 25758, 13473, 5282, 5284, 70820, 70823, 25769, 25772, 50350, 25777, 13490, 25779, 25781, 25785, 5306, 5308, 5310, 5313, 25793, 5315, 50370, 25797, 5318, 25799, 99524, 5321, 25805, 17614, 25807, 17616, 54480, 25815, 25817, 25823, 50400, 54498, 5347, 5353, 13549, 25839, 5360, 5361, 25841, 25843, 5364, 17653, 25845, 54518, 5368, 54520, 25851, 17662, 5376, 17665, 5380, 25862, 25867, 13580, 5390, 25871, 25873, 50450, 25875, 25878, 5400, 54553, 25885, 13600, 5411, 99624, 25898, 25899, 5425, 13620, 5440, 54599, 13647, 13650, 13654, 13655, 13657, 5467, 5475, 13667, 13670, 5480, 13673, 5483, 17777, 5490, 13683, 5495, 13688, 5501, 54660, 50568, 50573, 54670, 50577, 54673, 91540, 54680, 50590, 5541, 5543, 50606, 13744, 99773, 13760, 54720, 5576, 5579, 17867, 5585, 17873, 13780, 17877, 5591, 54743, 5604, 5607, 5615, 13810, 50680, 50683, 5628, 50686, 5631, 50689, 5642, 13836, 13838, 5647, 54800, 5649, 5652, 50711, 5656, 63001, 5658, 5659, 5660, 54810, 5664, 5665, 5667, 54820, 5670, 5674, 5679, 13873, 5686, 5690, 5697, 13894, 18001, 54871, 54874, 5736, 18029, 5756, 5761, 63111, 63130, 5789, 5790, 5792, 18094, 5809, 5819, 5837, 5842, 63190, 5847, 5854, 5856, 5858, 5861, 18150, 63212, 5873, 5885, 5887, 5890, 5893, 5895, 18205, 63272, 63302, 18247, 18256, 47001, 63401, 47030, 47053, 47058, 18410, 63470, 18460, 18479, 47161, 63548, 47170, 47189, 47205, 63594, 47245, 47258, 18592, 47268, 18610, 47288, 63690, 47318, 76001, 76020, 76036, 76041, 76054, 18753, 18756, 76100, 76109, 76111, 76113, 76122, 76126, 18785, 76130, 47460, 27001, 27006, 27025, 68001, 27050, 18860, 68013, 68020, 47541, 47545, 47551, 27073, 27075, 47555, 27077, 76233, 47570, 68051, 76243, 76246, 76248, 23001, 76250, 27099, 68077, 68079, 68081, 76275, 88564, 47605, 68092, 27135, 68101, 27150, 76306, 27160, 68121, 23068, 76318, 68132, 23079, 47660, 23090, 68147, 68152, 19001, 47675, 68160, 68162, 27205, 68167, 68169, 47692, 76364, 19022, 68176, 68179, 47703, 76377, 47707, 68190, 47720, 19050, 27245, 68207, 76400, 68209, 27250, 68211, 76403, 68217, 23162, 23168, 47745, 19075, 68229, 68235, 23182, 23189, 68245, 15001, 68250, 19100, 68255, 19110, 68264, 68266, 15022, 68271, 68276, 47798, 19130, 19137, 19142, 15047, 68296, 68298, 15051, 76497, 68307, 68318, 68320, 27361, 68322, 68324, 68327, 76520, 97001, 27372, 15087, 15090, 15092, 68344, 11001, 15097, 15104, 15106, 23300, 15109, 15114, 19212, 68368, 68370, 76563, 27413, 68377, 15131, 15135, 27425, 52001, 68385, 27430, 68397, 52019, 23350, 52022, 19256, 68406, 15162, 27450, 76606, 68418, 15172, 52036, 15176, 68425, 76616, 15180, 76622, 15183, 68432, 15185, 15187, 52051, 15189, 47960, 19290, 68444, 27491, 15204, 19300, 27495, 15212, 47980, 15215, 52079, 68464, 15218, 52083, 68468, 19318, 15223, 15224, 23417, 15226, 23419, 76670, 15232, 15236, 15238, 97161, 15244, 52110, 15248, 68498, 68500, 68502, 19355, 19364, 15272, 23464, 68522, 23466, 68524, 15276, 68533, 27580, 15293, 15296, 19392, 76736, 15299, 68547, 19397, 68549, 23500, 27600, 15317, 15322, 19418, 68572, 68573, 15325, 68575, 27615, 44001, 15332, 52203, 52207, 52210, 52215, 19450, 19455, 52224, 15362, 23555, 44035, 52227, 15367, 15368, 52233, 85001, 68615, 27660, 52240, 15377, 19473, 23570, 15380, 85010, 23574, 76823, 85015, 52250, 23580, 76828, 52254, 52256, 23586, 52258, 52260, 76834, 15401, 15403, 76845, 44078, 15407, 68655, 19513, 44090, 19517, 68669, 52287, 76863, 15425, 44098, 68673, 76869, 68679, 68682, 19532, 19533, 44110, 68684, 68686, 68689, 15442, 76890, 19548, 52317, 76892, 15455, 52320, 27745, 68705, 52323, 76895, 15464, 81001, 15466, 23660, 15469, 68720, 15476, 19573, 23670, 15480, 23672, 23675, 23678, 52352, 19585, 52354, 15491, 23682, 85125, 15494, 23686, 52356, 68745, 27787, 15500, 85136, 85139, 15507, 68755, 15511, 27800, 15514, 52378, 15516, 52381, 15518, 52385, 15522, 27810, 68770, 68773, 19622, 52390, 81065, 85162, 15531, 68780, 15533, 52399, 15537, 52405, 15542, 52411, 15550, 52418, 52427, 52435, 15572, 68820, 15580, 85225, 19693, 85230, 15599, 15600, 19698, 19701, 68855, 44279, 52473, 68861, 23807, 52480, 85250, 68867, 15621, 23815, 68872, 52490, 85263, 15632, 15638, 52506, 15646, 19743, 68895, 85279, 52520, 73001, 15660, 23855, 15664, 19760, 15667, 85300, 15673, 15676, 52540, 73024, 15681, 73026, 85315, 19780, 81220, 15686, 73030, 19785, 15690, 15693, 85325, 15696, 52560, 73043, 52565, 44378, 52573, 19807, 73055, 19809, 15720, 52585, 15723, 73067, 19821, 19824, 15740, 97666, 44420, 19845, 52612, 15753, 15755, 15757, 44430, 15759, 52621, 15761, 15762, 15763, 15764, 81300, 85400, 15774, 15776, 15778, 85410, 73124, 15790, 15798, 85430, 15804, 73148, 15806, 15808, 73152, 15810, 15814, 52678, 15816, 52683, 15820, 52685, 15822, 52687, 73168, 52693, 52694, 15832, 52696, 15835, 52699, 15837, 15839, 15842, 52720, 73200, 15861, 73217, 15879, 73226, 44560, 73236, 15897, 20001, 20011, 20013, 52786, 52788, 73268, 73270, 73275, 20032, 73283, 20060, 52835, 52838, 73319, 44650, 73347, 73349, 73352, 52885, 81591, 73408, 73411, 20175, 20178, 73443, 73449, 73461, 20228, 73483, 20238, 20250, 73504, 44847, 73520, 94001, 44855, 8001, 20295, 81736, 44874, 73547, 73555, 20310, 73563, 73585, 8078, 73616, 73622, 73624, 20383, 20400, 73671, 8137, 73675, 8141, 73678, 73686, 20443, 86001]\n",
      "Number of unique mun for 2017: 1101\n",
      "Mun not in MinTic databases\n",
      "[]\n",
      "Number of unique mun for 2018: 86\n",
      "Mun not in MinTic databases\n",
      "[20517, 41001, 73770, 41006, 41013, 41016, 41020, 41026, 20550, 20570, 8296, 41078, 73854, 73861, 20614, 20621, 73870, 73873, 41132, 8372, 86219, 8421, 8433, 8436, 20750, 41244, 20770, 86320, 20787, 8520, 41298, 41306, 8549, 41319, 8558, 70001, 8573, 41349, 41357, 41359, 8606, 41378, 8634, 25019, 8638, 25035, 25040, 66001, 25053, 70110, 8675, 70124, 8685, 66045, 25086, 25095, 25099, 41483, 66075, 41503, 25120, 25123, 25126, 66088, 86568, 86569, 86571, 41518, 41524, 8758, 41530, 70204, 25151, 8770, 25154, 41548, 41551, 25168, 70230, 25175, 70233, 25178, 70235, 25181, 25183, 17001, 25200, 17013, 70265, 66170, 25214, 8832, 25224, 8849, 17042, 17050, 25258, 25260, 25269, 99001, 41660, 25279, 17088, 25281, 41668, 25286, 25288, 13001, 25290, 41676, 25293, 13006, 25295, 25297, 25299, 25307, 86749, 25312, 86757, 25317, 13030, 86760, 25320, 25322, 25324, 25326, 25328, 54001, 13042, 54003, 25335, 25339, 13052, 70400, 13062, 66318, 13074, 17174, 25368, 95001, 25372, 70429, 25377, 54051, 95015, 25386, 41770, 95025, 25394, 25398, 25402, 25407, 41791, 41797, 41799, 41801, 66383, 41807, 25426, 50001, 13140, 54099, 25430, 50006, 25436, 54109, 25438, 66400, 86885, 13160, 54125, 54128, 17272, 91001, 70523, 25473, 13188, 66440, 5001, 5002, 25483, 5004, 25486, 25488, 41872, 66456, 13212, 5021, 41885, 54172, 54174, 25506, 5030, 5031, 13222, 25513, 5034, 5036, 5038, 25518, 5040, 5042, 5044, 5045, 25524, 25530, 5051, 13244, 54206, 5055, 13248, 25535, 50110, 5059, 54223, 13268, 5079, 5086, 54239, 5088, 95200, 5091, 17380, 5093, 25572, 50150, 54245, 54250, 17388, 5101, 25580, 5107, 13300, 54261, 5113, 25594, 25599, 5120, 5125, 5129, 25612, 66572, 5134, 70670, 5138, 5142, 70678, 5145, 17433, 5147, 5148, 5150, 5154, 17442, 17444, 66594, 17446, 54313, 25645, 70702, 50223, 25649, 50226, 5172, 25653, 70708, 70713, 25658, 70717, 25662, 50245, 5190, 54344, 50251, 54347, 5197, 17486, 5206, 17495, 70742, 5209, 5212, 50270, 17513, 54377, 50287, 54385, 5234, 70771, 17524, 5237, 25718, 13430, 5240, 13433, 66682, 54398, 66687, 13440, 13442, 17541, 54405, 25736, 50313, 25740, 50318, 25743, 5264, 25745, 5266, 13458, 54418, 50325, 25754, 50330, 13468, 25758, 13473, 5282, 5284, 70823, 25769, 25772, 50350, 25777, 13490, 25779, 25781, 25785, 5306, 5308, 5310, 5313, 25793, 5315, 50370, 25797, 5318, 25799, 5321, 25805, 17614, 25807, 17616, 54480, 25815, 25817, 25823, 50400, 54498, 5347, 5353, 13549, 25839, 5360, 5361, 25841, 25843, 5364, 17653, 54518, 5368, 54520, 25851, 17662, 5376, 17665, 5380, 25867, 13580, 5390, 25871, 25873, 50450, 25875, 25878, 5400, 54553, 25885, 13600, 5411, 99624, 25898, 25899, 5425, 13620, 5440, 54599, 13647, 13650, 13654, 13655, 13657, 5467, 5475, 13667, 13670, 5480, 13673, 5483, 17777, 5490, 13683, 5495, 13688, 5501, 54660, 50568, 50573, 54670, 50577, 54673, 91540, 54680, 50590, 5541, 5543, 50606, 13744, 13760, 54720, 5576, 5579, 17867, 5585, 17877, 5591, 54743, 5604, 5607, 5615, 13810, 50680, 50683, 5628, 50686, 5631, 50689, 5642, 13836, 13838, 5647, 54800, 5649, 5652, 50711, 5656, 63001, 5659, 5660, 54810, 5664, 5665, 5667, 54820, 5670, 5674, 5679, 13873, 5686, 5690, 5697, 13894, 18001, 54871, 54874, 5736, 18029, 5756, 5761, 63111, 63130, 5789, 5790, 5792, 18094, 5809, 5819, 5837, 5842, 63190, 5847, 5856, 5858, 5861, 18150, 63212, 5873, 5885, 5887, 5890, 5893, 5895, 18205, 63272, 63302, 18247, 18256, 47001, 63401, 47030, 47053, 47058, 18410, 63470, 18460, 18479, 47161, 63548, 47170, 47189, 47205, 63594, 47245, 47258, 18592, 47268, 18610, 47288, 63690, 47318, 76001, 76020, 76036, 76041, 76054, 18753, 18756, 76109, 76111, 76113, 76122, 76126, 18785, 76130, 47460, 76147, 27001, 27006, 27025, 68001, 27050, 18860, 68020, 47541, 47545, 47551, 27073, 47555, 27077, 76233, 47570, 68051, 76243, 76246, 76248, 23001, 76250, 27099, 68077, 68079, 68081, 76275, 88564, 68092, 27135, 68101, 76306, 27160, 68121, 23068, 76318, 68132, 23079, 47660, 23090, 68147, 68152, 19001, 47675, 68160, 68162, 27205, 68167, 68169, 47692, 76364, 19022, 68176, 68179, 47703, 76377, 47707, 68190, 47720, 19050, 27245, 68207, 76400, 68209, 27250, 68211, 76403, 68217, 23162, 23168, 47745, 19075, 68229, 68235, 23182, 23189, 68245, 15001, 68250, 19100, 68255, 68264, 15022, 68271, 68276, 47798, 19130, 19142, 15047, 68296, 68298, 15051, 76497, 68307, 68320, 27361, 68322, 68324, 68327, 76520, 97001, 15087, 15090, 15092, 68344, 11001, 15097, 15104, 15106, 23300, 15114, 68368, 68370, 76563, 27413, 68377, 15131, 27425, 52001, 68385, 27430, 68397, 23350, 52022, 19256, 68406, 15162, 27450, 76606, 68418, 15172, 52036, 15176, 68425, 76616, 15180, 76622, 15183, 68432, 15185, 15187, 52051, 15189, 47960, 68444, 27491, 15204, 19300, 27495, 47980, 15215, 52079, 68464, 15218, 52083, 68468, 19318, 15223, 15224, 23417, 15226, 23419, 76670, 15232, 15236, 15238, 15244, 15248, 68498, 68500, 68502, 19355, 19364, 15272, 23464, 68522, 23466, 68524, 15276, 68533, 27580, 15293, 15296, 19392, 76736, 15299, 68547, 19397, 68549, 23500, 27600, 15317, 15322, 19418, 68573, 15325, 68575, 27615, 44001, 52203, 52207, 19450, 19455, 23555, 44035, 52227, 15367, 15368, 52233, 85001, 68615, 27660, 52240, 15377, 19473, 23570, 15380, 85010, 23574, 76823, 85015, 52250, 23580, 76828, 52254, 52256, 23586, 52260, 76834, 15401, 15403, 76845, 44078, 15407, 68655, 19513, 19517, 68669, 52287, 76863, 15425, 44098, 76869, 68679, 68682, 19532, 19533, 44110, 68684, 68686, 68689, 15442, 76890, 19548, 76892, 15455, 52320, 27745, 68705, 52323, 76895, 15464, 81001, 15466, 23660, 15469, 68720, 15476, 19573, 23670, 15480, 23672, 23675, 23678, 52352, 19585, 52354, 15491, 85125, 15494, 68745, 27787, 15500, 85136, 85139, 15507, 68755, 15511, 27800, 15514, 52378, 15516, 52381, 15518, 52385, 15522, 68770, 68773, 19622, 52390, 81065, 85162, 15531, 68780, 15533, 52399, 15537, 15542, 52411, 15550, 52418, 52427, 52435, 15572, 68820, 15580, 85225, 19693, 85230, 15599, 15600, 19698, 19701, 68855, 44279, 52473, 68861, 52480, 85250, 68867, 23815, 68872, 52490, 85263, 15632, 15638, 52506, 15646, 19743, 68895, 85279, 52520, 73001, 15660, 23855, 15664, 19760, 15667, 85300, 15673, 15676, 73024, 15681, 73026, 85315, 19780, 81220, 19785, 15690, 15693, 85325, 15696, 73043, 52565, 44378, 52573, 19807, 73055, 19809, 15720, 15723, 19821, 15740, 97666, 44420, 19845, 52612, 15753, 15755, 15757, 44430, 15759, 52621, 15761, 15762, 15763, 15764, 81300, 85400, 15776, 85410, 73124, 15790, 15798, 85430, 15804, 73148, 15806, 15808, 73152, 15810, 85440, 15814, 15816, 15820, 52685, 15822, 52687, 73168, 52694, 15832, 52696, 15835, 52699, 15837, 15839, 15842, 52720, 73200, 15861, 73217, 15879, 73226, 44560, 73236, 15897, 20001, 20011, 52786, 52788, 73268, 73275, 20032, 73283, 20045, 20060, 52835, 52838, 73319, 44650, 73347, 73349, 73352, 52885, 73408, 73411, 20175, 20178, 73443, 73449, 73461, 20228, 20238, 20250, 73504, 73520, 94001, 44855, 8001, 81736, 44874, 73547, 73555, 20310, 73563, 73585, 8078, 73616, 73624, 20383, 20400, 73671, 8137, 73675, 8141, 73678, 73686, 20443, 86001]\n"
     ]
    }
   ],
   "source": [
    "# Using the custom function to check for missing municipalities\n",
    "check_mun(fin_3, municipios)"
   ]
  },
  {
   "cell_type": "code",
   "execution_count": 59,
   "id": "695f67d5-1471-4a9c-932b-45f8fcb7bee4",
   "metadata": {},
   "outputs": [
    {
     "data": {
      "text/plain": [
       "array([2016, 2017, 2018, 2019], dtype=int64)"
      ]
     },
     "execution_count": 59,
     "metadata": {},
     "output_type": "execute_result"
    }
   ],
   "source": [
    "# Filtering the data by the variable selected\n",
    "fin_3 = finanzas.loc[finanzas.indicador.eq('indice_de_gestion_de_proyectos_de_regalias_(igpr)')]\n",
    "fin_3.anio.unique()"
   ]
  },
  {
   "cell_type": "code",
   "execution_count": 61,
   "id": "2079a5f8-edcc-4633-b266-99397496b616",
   "metadata": {},
   "outputs": [
    {
     "name": "stdout",
     "output_type": "stream",
     "text": [
      "Number of unique mun for 2016: 1101\n",
      "Mun not in MinTic databases\n",
      "[]\n",
      "Number of unique mun for 2017: 1101\n",
      "Mun not in MinTic databases\n",
      "[]\n",
      "Number of unique mun for 2018: 1101\n",
      "Mun not in MinTic databases\n",
      "[]\n",
      "Number of unique mun for 2019: 1101\n",
      "Mun not in MinTic databases\n",
      "[]\n"
     ]
    }
   ],
   "source": [
    "# Using the custom function to check for missing municipalities\n",
    "check_mun(fin_3, municipios)"
   ]
  },
  {
   "cell_type": "code",
   "execution_count": 62,
   "id": "bd8e1257-17c4-4d8c-b341-31a833f5014a",
   "metadata": {},
   "outputs": [
    {
     "data": {
      "text/plain": [
       "array([2016, 2017, 2018], dtype=int64)"
      ]
     },
     "execution_count": 62,
     "metadata": {},
     "output_type": "execute_result"
    }
   ],
   "source": [
    "# Filtering the data by the variable selected\n",
    "fin_4 = finanzas.loc[finanzas.indicador.eq('indicador_de_desempenio_fiscal')]\n",
    "fin_4.anio.unique()"
   ]
  },
  {
   "cell_type": "code",
   "execution_count": 63,
   "id": "915fa761-951a-493d-91a3-73cfb39fd9cf",
   "metadata": {},
   "outputs": [
    {
     "name": "stdout",
     "output_type": "stream",
     "text": [
      "Number of unique mun for 2016: 1101\n",
      "Mun not in MinTic databases\n",
      "[]\n",
      "Number of unique mun for 2017: 1101\n",
      "Mun not in MinTic databases\n",
      "[]\n",
      "Number of unique mun for 2018: 1101\n",
      "Mun not in MinTic databases\n",
      "[]\n"
     ]
    }
   ],
   "source": [
    "# Using the custom function to check for missing municipalities\n",
    "check_mun(fin_4, municipios)"
   ]
  },
  {
   "cell_type": "markdown",
   "id": "b78a974d-f9f5-4c6e-8a25-056bcfdcbb0a",
   "metadata": {},
   "source": [
    "#### Justicia"
   ]
  },
  {
   "cell_type": "code",
   "execution_count": 67,
   "id": "ce60515b-f8b3-4504-aa11-684542e60e18",
   "metadata": {},
   "outputs": [
    {
     "name": "stderr",
     "output_type": "stream",
     "text": [
      "c:\\users\\seb\\appdata\\local\\programs\\python\\python39\\lib\\site-packages\\IPython\\core\\interactiveshell.py:3441: DtypeWarning: Columns (9) have mixed types.Specify dtype option on import or set low_memory=False.\n",
      "  exec(code_obj, self.user_global_ns, self.user_ns)\n"
     ]
    },
    {
     "data": {
      "text/html": [
       "<div>\n",
       "<style scoped>\n",
       "    .dataframe tbody tr th:only-of-type {\n",
       "        vertical-align: middle;\n",
       "    }\n",
       "\n",
       "    .dataframe tbody tr th {\n",
       "        vertical-align: top;\n",
       "    }\n",
       "\n",
       "    .dataframe thead th {\n",
       "        text-align: right;\n",
       "    }\n",
       "</style>\n",
       "<table border=\"1\" class=\"dataframe\">\n",
       "  <thead>\n",
       "    <tr style=\"text-align: right;\">\n",
       "      <th></th>\n",
       "      <th>Unnamed: 0</th>\n",
       "      <th>codigo_departamento</th>\n",
       "      <th>departamento</th>\n",
       "      <th>codigo_entidad</th>\n",
       "      <th>entidad</th>\n",
       "      <th>dimension</th>\n",
       "      <th>subcategoria</th>\n",
       "      <th>indicador</th>\n",
       "      <th>dato_numerico</th>\n",
       "      <th>dato_cualitativo</th>\n",
       "      <th>anio</th>\n",
       "      <th>mes</th>\n",
       "      <th>fuente</th>\n",
       "      <th>unidad_de_medida</th>\n",
       "    </tr>\n",
       "  </thead>\n",
       "  <tbody>\n",
       "    <tr>\n",
       "      <th>0</th>\n",
       "      <td>4360997</td>\n",
       "      <td>86</td>\n",
       "      <td>putumayo</td>\n",
       "      <td>86865</td>\n",
       "      <td>valle_del_guamuez</td>\n",
       "      <td>justicia_y_derecho</td>\n",
       "      <td>conciliacion_extrajudicial_en_derecho_por_area...</td>\n",
       "      <td>acuerdo_-_derecho__civil_y_comercial</td>\n",
       "      <td>NaN</td>\n",
       "      <td>NaN</td>\n",
       "      <td>2016</td>\n",
       "      <td>12</td>\n",
       "      <td>ministerio_de_justicia_y_el_derecho</td>\n",
       "      <td>puntos_porcentuales_(escala_de_0_a_100)</td>\n",
       "    </tr>\n",
       "  </tbody>\n",
       "</table>\n",
       "</div>"
      ],
      "text/plain": [
       "   Unnamed: 0  codigo_departamento departamento  codigo_entidad  \\\n",
       "0     4360997                   86     putumayo           86865   \n",
       "\n",
       "             entidad           dimension  \\\n",
       "0  valle_del_guamuez  justicia_y_derecho   \n",
       "\n",
       "                                        subcategoria  \\\n",
       "0  conciliacion_extrajudicial_en_derecho_por_area...   \n",
       "\n",
       "                              indicador  dato_numerico dato_cualitativo  anio  \\\n",
       "0  acuerdo_-_derecho__civil_y_comercial            NaN              NaN  2016   \n",
       "\n",
       "   mes                               fuente  \\\n",
       "0   12  ministerio_de_justicia_y_el_derecho   \n",
       "\n",
       "                          unidad_de_medida  \n",
       "0  puntos_porcentuales_(escala_de_0_a_100)  "
      ]
     },
     "execution_count": 67,
     "metadata": {},
     "output_type": "execute_result"
    }
   ],
   "source": [
    "# Loading and filtering the csv\n",
    "\n",
    "jus = pd.read_csv(terridata[8])\n",
    "jus = jus.loc[jus.codigo_entidad.isin(municipios)\n",
    "              & jus.anio.ge(2016)\n",
    "              & jus.anio.le(2019)]\n",
    "jus.head(1)"
   ]
  },
  {
   "cell_type": "code",
   "execution_count": 68,
   "id": "dec63ffb-db3c-495f-a207-17fd21858374",
   "metadata": {},
   "outputs": [
    {
     "data": {
      "text/plain": [
       "array([2016, 2017, 2018, 2019], dtype=int64)"
      ]
     },
     "execution_count": 68,
     "metadata": {},
     "output_type": "execute_result"
    }
   ],
   "source": [
    "# Checking the years where there is data\n",
    "\n",
    "anio = jus.anio.unique()\n",
    "anio.sort()\n",
    "anio"
   ]
  },
  {
   "cell_type": "code",
   "execution_count": 69,
   "id": "a7d5c4dc-5c15-44f5-b547-e204ab408121",
   "metadata": {},
   "outputs": [
    {
     "data": {
      "text/plain": [
       "array(['acuerdo_-_derecho__civil_y_comercial',\n",
       "       'acuerdo_-_derecho_comunitario',\n",
       "       'acuerdo_-_derecho_contencioso_administrativo',\n",
       "       'acuerdo_-_asuntos_especiales', 'acuerdo_-_derecho_de_familia',\n",
       "       'acuerdo_-_asuntos_familiares', 'acuerdo_-_derecho_laboral',\n",
       "       'acuerdo_-_derecho_penal',\n",
       "       'acuerdo_-_derecho_de_propiedad_intelectual',\n",
       "       'acuerdo_-_area_del_derecho_no_definida',\n",
       "       'acuerdo_-_todas_las_ramas_del_derecho',\n",
       "       'inasistencia_-_derecho__civil_y_comercial',\n",
       "       'inasistencia_-_derecho_comunitario',\n",
       "       'inasistencia_-_derecho_contencioso_administrativo',\n",
       "       'inasistencia_-_asuntos_especiales',\n",
       "       'inasistencia_-_derecho_de_familia',\n",
       "       'inasistencia_-_asuntos_familiares',\n",
       "       'inasistencia_-_derecho_laboral', 'inasistencia_-_derecho_penal',\n",
       "       'inasistencia_-_derecho_de_propiedad_intelectual',\n",
       "       'inasistencia_-_area_del_derecho_no_definida',\n",
       "       'inasistencia_-_todas_las_ramas_del_derecho',\n",
       "       'asuntos_no_conciliables_-_derecho__civil_y_comercial',\n",
       "       'asuntos_no_conciliables_-_derecho_comunitario',\n",
       "       'asuntos_no_conciliables_-_derecho_contencioso_administrativo',\n",
       "       'asuntos_no_conciliables_-_asuntos_especiales',\n",
       "       'asuntos_no_conciliables_-_derecho_de_familia',\n",
       "       'asuntos_no_conciliables_-_asuntos_familiares',\n",
       "       'asuntos_no_conciliables_-_derecho_laboral',\n",
       "       'asuntos_no_conciliables_-_derecho_penal',\n",
       "       'asuntos_no_conciliables_-_derecho_de_propiedad_intelectual',\n",
       "       'asuntos_no_conciliables_-_area_del_derecho_no_definida',\n",
       "       'asuntos_no_conciliables_-_todas_las_ramas_del_derecho',\n",
       "       'otros_-_derecho__civil_y_comercial',\n",
       "       'otros_-_derecho_comunitario',\n",
       "       'otros_-_derecho_contencioso_administrativo',\n",
       "       'otros_-_asuntos_especiales', 'otros_-_derecho_de_familia',\n",
       "       'otros_-_asuntos_familiares', 'otros_-_derecho_laboral',\n",
       "       'otros_-_derecho_penal',\n",
       "       'otros_-_derecho_de_propiedad_intelectual',\n",
       "       'otros_-_area_del_derecho_no_definida',\n",
       "       'otros_-_todas_las_ramas_del_derecho',\n",
       "       'resultados_de_conciliacion_resueltas_en_1_semana_o_menos',\n",
       "       'resultados_de_conciliacion_resueltas_entre_1_semana_y_1_mes',\n",
       "       'resultados_de_conciliacion_resueltas_entre_2_y_3_meses',\n",
       "       'resultados_de_conciliacion_resueltas_entre_4_meses_y_1_anio',\n",
       "       'resultados_de_conciliacion_resueltas_en_mas_de_1_anio',\n",
       "       'resultados_de_conciliacion_sin_finalizar',\n",
       "       'jornadas_moviles_de_justicia_realizadas',\n",
       "       'casos_atendidos_durante_las_jornadas_moviles_de_justicia',\n",
       "       'casos_atendidos_en_justicia_durante_las_jornadas_moviles_de_justicia',\n",
       "       'casos_atendidos_en_otros_temas_durante_las_jornadas_moviles_de_justicia',\n",
       "       'asistentes_a_actividades_pedagogicas_de_las_jornadas_moviles_de_justica',\n",
       "       'conflictividad_1_slj', 'conflictividad_2_slj',\n",
       "       'conflictividad_3_slj', 'conflictividad_4_slj',\n",
       "       'conflictividad_5_slj', 'barrera_de_acceso_a_la_justicia_1_slj',\n",
       "       'barrera_de_acceso_a_la_justicia_2_slj',\n",
       "       'barrera_de_acceso_a_la_justicia_3_slj',\n",
       "       'barrera_de_acceso_a_la_justicia_4_slj',\n",
       "       'barrera_de_acceso_a_la_justicia_5_slj'], dtype=object)"
      ]
     },
     "execution_count": 69,
     "metadata": {},
     "output_type": "execute_result"
    }
   ],
   "source": [
    "# Variables in the dataset\n",
    "\n",
    "jus.indicador.unique()"
   ]
  },
  {
   "cell_type": "code",
   "execution_count": 70,
   "id": "5c4406d1-4f4d-421a-ad26-eca92f24c2f2",
   "metadata": {},
   "outputs": [
    {
     "data": {
      "text/plain": [
       "array([2017], dtype=int64)"
      ]
     },
     "execution_count": 70,
     "metadata": {},
     "output_type": "execute_result"
    }
   ],
   "source": [
    "# Filtering the data by the variable selected\n",
    "jus_1 = jus.loc[jus.indicador.eq('barrera_de_acceso_a_la_justicia_1_slj')]\n",
    "jus_1.anio.unique()"
   ]
  },
  {
   "cell_type": "code",
   "execution_count": 71,
   "id": "615b6cb7-bfc6-4698-831e-e4c59924f633",
   "metadata": {},
   "outputs": [
    {
     "data": {
      "text/plain": [
       "array([2017], dtype=int64)"
      ]
     },
     "execution_count": 71,
     "metadata": {},
     "output_type": "execute_result"
    }
   ],
   "source": [
    "# Filtering the data by the variable selected\n",
    "jus_1 = jus.loc[jus.indicador.eq('barrera_de_acceso_a_la_justicia_2_slj')]\n",
    "jus_1.anio.unique()"
   ]
  },
  {
   "cell_type": "code",
   "execution_count": 72,
   "id": "28b49b0e-d0a6-4e95-b94b-4b1f2d2d5281",
   "metadata": {},
   "outputs": [
    {
     "data": {
      "text/plain": [
       "array([2017], dtype=int64)"
      ]
     },
     "execution_count": 72,
     "metadata": {},
     "output_type": "execute_result"
    }
   ],
   "source": [
    "# Filtering the data by the variable selected\n",
    "jus_1 = jus.loc[jus.indicador.eq('conflictividad_1_slj')]\n",
    "jus_1.anio.unique()"
   ]
  },
  {
   "cell_type": "markdown",
   "id": "e00c9996-ffcf-46ce-a605-b8f59f5e3291",
   "metadata": {},
   "source": [
    "#### Mercado Laboral"
   ]
  },
  {
   "cell_type": "code",
   "execution_count": 73,
   "id": "c9029d6a-cb9c-4bab-95ec-77786daa8993",
   "metadata": {},
   "outputs": [
    {
     "data": {
      "text/html": [
       "<div>\n",
       "<style scoped>\n",
       "    .dataframe tbody tr th:only-of-type {\n",
       "        vertical-align: middle;\n",
       "    }\n",
       "\n",
       "    .dataframe tbody tr th {\n",
       "        vertical-align: top;\n",
       "    }\n",
       "\n",
       "    .dataframe thead th {\n",
       "        text-align: right;\n",
       "    }\n",
       "</style>\n",
       "<table border=\"1\" class=\"dataframe\">\n",
       "  <thead>\n",
       "    <tr style=\"text-align: right;\">\n",
       "      <th></th>\n",
       "      <th>Unnamed: 0</th>\n",
       "      <th>codigo_departamento</th>\n",
       "      <th>departamento</th>\n",
       "      <th>codigo_entidad</th>\n",
       "      <th>entidad</th>\n",
       "      <th>dimension</th>\n",
       "      <th>subcategoria</th>\n",
       "      <th>indicador</th>\n",
       "      <th>dato_numerico</th>\n",
       "      <th>dato_cualitativo</th>\n",
       "      <th>anio</th>\n",
       "      <th>mes</th>\n",
       "      <th>fuente</th>\n",
       "      <th>unidad_de_medida</th>\n",
       "    </tr>\n",
       "  </thead>\n",
       "  <tbody>\n",
       "    <tr>\n",
       "      <th>7722</th>\n",
       "      <td>4176963</td>\n",
       "      <td>44</td>\n",
       "      <td>la_guajira</td>\n",
       "      <td>44035</td>\n",
       "      <td>albania</td>\n",
       "      <td>mercado_laboral</td>\n",
       "      <td>trabajadores_cotizantes_al_sistema_general_de_...</td>\n",
       "      <td>trabajadores_cotizantes_con_17_anios_o_menos</td>\n",
       "      <td>3.1</td>\n",
       "      <td>NaN</td>\n",
       "      <td>2016</td>\n",
       "      <td>12</td>\n",
       "      <td>filco-_ministerio_del_trabajo</td>\n",
       "      <td>trabajadores</td>\n",
       "    </tr>\n",
       "  </tbody>\n",
       "</table>\n",
       "</div>"
      ],
      "text/plain": [
       "      Unnamed: 0  codigo_departamento departamento  codigo_entidad  entidad  \\\n",
       "7722     4176963                   44   la_guajira           44035  albania   \n",
       "\n",
       "            dimension                                       subcategoria  \\\n",
       "7722  mercado_laboral  trabajadores_cotizantes_al_sistema_general_de_...   \n",
       "\n",
       "                                         indicador  dato_numerico  \\\n",
       "7722  trabajadores_cotizantes_con_17_anios_o_menos            3.1   \n",
       "\n",
       "      dato_cualitativo  anio  mes                         fuente  \\\n",
       "7722               NaN  2016   12  filco-_ministerio_del_trabajo   \n",
       "\n",
       "     unidad_de_medida  \n",
       "7722     trabajadores  "
      ]
     },
     "execution_count": 73,
     "metadata": {},
     "output_type": "execute_result"
    }
   ],
   "source": [
    "# Loading and filtering the csv\n",
    "\n",
    "mer_lab = pd.read_csv(terridata[10])\n",
    "mer_lab = mer_lab.loc[mer_lab.codigo_entidad.isin(municipios)\n",
    "                      & mer_lab.anio.ge(2016)\n",
    "                      & mer_lab.anio.le(2019)]\n",
    "mer_lab.head(1)"
   ]
  },
  {
   "cell_type": "code",
   "execution_count": 74,
   "id": "8a949b76-f1e4-418c-b3a9-1c9dd8dfe83f",
   "metadata": {},
   "outputs": [
    {
     "data": {
      "text/plain": [
       "array([2016], dtype=int64)"
      ]
     },
     "execution_count": 74,
     "metadata": {},
     "output_type": "execute_result"
    }
   ],
   "source": [
    "# Checking the years where there is data\n",
    "\n",
    "anio = mer_lab.anio.unique()\n",
    "anio.sort()\n",
    "anio"
   ]
  },
  {
   "cell_type": "markdown",
   "id": "6f85f1eb-8e5d-42f8-b9c7-639201d109cc",
   "metadata": {},
   "source": [
    "#### Ordenamiento Territorial"
   ]
  },
  {
   "cell_type": "code",
   "execution_count": 75,
   "id": "dd6805d6-5254-49a4-8d54-7d57ea2bf1f7",
   "metadata": {},
   "outputs": [
    {
     "data": {
      "text/html": [
       "<div>\n",
       "<style scoped>\n",
       "    .dataframe tbody tr th:only-of-type {\n",
       "        vertical-align: middle;\n",
       "    }\n",
       "\n",
       "    .dataframe tbody tr th {\n",
       "        vertical-align: top;\n",
       "    }\n",
       "\n",
       "    .dataframe thead th {\n",
       "        text-align: right;\n",
       "    }\n",
       "</style>\n",
       "<table border=\"1\" class=\"dataframe\">\n",
       "  <thead>\n",
       "    <tr style=\"text-align: right;\">\n",
       "      <th></th>\n",
       "      <th>Unnamed: 0</th>\n",
       "      <th>codigo_departamento</th>\n",
       "      <th>departamento</th>\n",
       "      <th>codigo_entidad</th>\n",
       "      <th>entidad</th>\n",
       "      <th>dimension</th>\n",
       "      <th>subcategoria</th>\n",
       "      <th>indicador</th>\n",
       "      <th>dato_numerico</th>\n",
       "      <th>dato_cualitativo</th>\n",
       "      <th>anio</th>\n",
       "      <th>mes</th>\n",
       "      <th>fuente</th>\n",
       "      <th>unidad_de_medida</th>\n",
       "    </tr>\n",
       "  </thead>\n",
       "  <tbody>\n",
       "    <tr>\n",
       "      <th>15877</th>\n",
       "      <td>4079912</td>\n",
       "      <td>44</td>\n",
       "      <td>la_guajira</td>\n",
       "      <td>44035</td>\n",
       "      <td>albania</td>\n",
       "      <td>ordenamiento_territorial</td>\n",
       "      <td>figuras_de_ordenamiento_social_de_la_propiedad...</td>\n",
       "      <td>ospr_-_resguardos_indigenas</td>\n",
       "      <td>18257.09</td>\n",
       "      <td>NaN</td>\n",
       "      <td>2017</td>\n",
       "      <td>12</td>\n",
       "      <td>dnp_a_partir_de_informacion_del_igac</td>\n",
       "      <td>hectareas</td>\n",
       "    </tr>\n",
       "  </tbody>\n",
       "</table>\n",
       "</div>"
      ],
      "text/plain": [
       "       Unnamed: 0  codigo_departamento departamento  codigo_entidad  entidad  \\\n",
       "15877     4079912                   44   la_guajira           44035  albania   \n",
       "\n",
       "                      dimension  \\\n",
       "15877  ordenamiento_territorial   \n",
       "\n",
       "                                            subcategoria  \\\n",
       "15877  figuras_de_ordenamiento_social_de_la_propiedad...   \n",
       "\n",
       "                         indicador  dato_numerico dato_cualitativo  anio  mes  \\\n",
       "15877  ospr_-_resguardos_indigenas       18257.09              NaN  2017   12   \n",
       "\n",
       "                                     fuente unidad_de_medida  \n",
       "15877  dnp_a_partir_de_informacion_del_igac        hectareas  "
      ]
     },
     "execution_count": 75,
     "metadata": {},
     "output_type": "execute_result"
    }
   ],
   "source": [
    "# Loading and filtering the csv\n",
    "\n",
    "ord_ter = pd.read_csv(terridata[11])\n",
    "ord_ter = ord_ter.loc[ord_ter.codigo_entidad.isin(municipios)\n",
    "                      & ord_ter.anio.ge(2016)\n",
    "                      & ord_ter.anio.le(2019)]\n",
    "ord_ter.head(1)"
   ]
  },
  {
   "cell_type": "code",
   "execution_count": 76,
   "id": "f167e15c-0313-4bb9-8ca3-1cdd8e3e9614",
   "metadata": {},
   "outputs": [
    {
     "data": {
      "text/plain": [
       "array([2016, 2017], dtype=int64)"
      ]
     },
     "execution_count": 76,
     "metadata": {},
     "output_type": "execute_result"
    }
   ],
   "source": [
    "# Checking the years where there is data\n",
    "\n",
    "anio = ord_ter.anio.unique()\n",
    "anio.sort()\n",
    "anio"
   ]
  },
  {
   "cell_type": "markdown",
   "id": "9a152b4d-99c1-428c-b788-42a8eb4c1959",
   "metadata": {},
   "source": [
    "#### Percepcion Ciudadana"
   ]
  },
  {
   "cell_type": "code",
   "execution_count": 77,
   "id": "e2660aac-b12e-4dc0-ab7c-dbb0c7be0ba2",
   "metadata": {},
   "outputs": [
    {
     "data": {
      "text/html": [
       "<div>\n",
       "<style scoped>\n",
       "    .dataframe tbody tr th:only-of-type {\n",
       "        vertical-align: middle;\n",
       "    }\n",
       "\n",
       "    .dataframe tbody tr th {\n",
       "        vertical-align: top;\n",
       "    }\n",
       "\n",
       "    .dataframe thead th {\n",
       "        text-align: right;\n",
       "    }\n",
       "</style>\n",
       "<table border=\"1\" class=\"dataframe\">\n",
       "  <thead>\n",
       "    <tr style=\"text-align: right;\">\n",
       "      <th></th>\n",
       "      <th>Unnamed: 0</th>\n",
       "      <th>codigo_departamento</th>\n",
       "      <th>departamento</th>\n",
       "      <th>codigo_entidad</th>\n",
       "      <th>entidad</th>\n",
       "      <th>dimension</th>\n",
       "      <th>subcategoria</th>\n",
       "      <th>indicador</th>\n",
       "      <th>dato_numerico</th>\n",
       "      <th>dato_cualitativo</th>\n",
       "      <th>anio</th>\n",
       "      <th>mes</th>\n",
       "      <th>fuente</th>\n",
       "      <th>unidad_de_medida</th>\n",
       "    </tr>\n",
       "  </thead>\n",
       "  <tbody>\n",
       "    <tr>\n",
       "      <th>11</th>\n",
       "      <td>3433285</td>\n",
       "      <td>85</td>\n",
       "      <td>casanare</td>\n",
       "      <td>85001</td>\n",
       "      <td>yopal</td>\n",
       "      <td>percepcion_ciudadana</td>\n",
       "      <td>imagen_del_alcalde</td>\n",
       "      <td>favorable</td>\n",
       "      <td>NaN</td>\n",
       "      <td>NaN</td>\n",
       "      <td>2016</td>\n",
       "      <td>12</td>\n",
       "      <td>ciudatos</td>\n",
       "      <td>porcentaje_(el_valor_esta_multiplicado_por_100)</td>\n",
       "    </tr>\n",
       "  </tbody>\n",
       "</table>\n",
       "</div>"
      ],
      "text/plain": [
       "    Unnamed: 0  codigo_departamento departamento  codigo_entidad entidad  \\\n",
       "11     3433285                   85     casanare           85001   yopal   \n",
       "\n",
       "               dimension        subcategoria  indicador  dato_numerico  \\\n",
       "11  percepcion_ciudadana  imagen_del_alcalde  favorable            NaN   \n",
       "\n",
       "    dato_cualitativo  anio  mes    fuente  \\\n",
       "11               NaN  2016   12  ciudatos   \n",
       "\n",
       "                                   unidad_de_medida  \n",
       "11  porcentaje_(el_valor_esta_multiplicado_por_100)  "
      ]
     },
     "execution_count": 77,
     "metadata": {},
     "output_type": "execute_result"
    }
   ],
   "source": [
    "# Loading and filtering the csv\n",
    "\n",
    "per_ciu = pd.read_csv(terridata[12])\n",
    "per_ciu = per_ciu.loc[per_ciu.codigo_entidad.isin(municipios)\n",
    "                      & per_ciu.anio.ge(2016)\n",
    "                      & per_ciu.anio.le(2019)]\n",
    "per_ciu.head(1)"
   ]
  },
  {
   "cell_type": "code",
   "execution_count": 78,
   "id": "173bda1f-0c5b-4bf9-ab4d-6aff00f1f4e5",
   "metadata": {},
   "outputs": [
    {
     "data": {
      "text/plain": [
       "array([2016], dtype=int64)"
      ]
     },
     "execution_count": 78,
     "metadata": {},
     "output_type": "execute_result"
    }
   ],
   "source": [
    "# Checking the years where there is data\n",
    "\n",
    "anio = per_ciu.anio.unique()\n",
    "anio.sort()\n",
    "anio"
   ]
  },
  {
   "cell_type": "markdown",
   "id": "1c5b2473-cd0d-433b-bf43-51f4c3c58c20",
   "metadata": {},
   "source": [
    "#### Pobreza"
   ]
  },
  {
   "cell_type": "code",
   "execution_count": 79,
   "id": "9eb8bf71-cc72-4bae-a41f-b9b727a3519e",
   "metadata": {},
   "outputs": [
    {
     "data": {
      "text/html": [
       "<div>\n",
       "<style scoped>\n",
       "    .dataframe tbody tr th:only-of-type {\n",
       "        vertical-align: middle;\n",
       "    }\n",
       "\n",
       "    .dataframe tbody tr th {\n",
       "        vertical-align: top;\n",
       "    }\n",
       "\n",
       "    .dataframe thead th {\n",
       "        text-align: right;\n",
       "    }\n",
       "</style>\n",
       "<table border=\"1\" class=\"dataframe\">\n",
       "  <thead>\n",
       "    <tr style=\"text-align: right;\">\n",
       "      <th></th>\n",
       "      <th>Unnamed: 0</th>\n",
       "      <th>codigo_departamento</th>\n",
       "      <th>departamento</th>\n",
       "      <th>codigo_entidad</th>\n",
       "      <th>entidad</th>\n",
       "      <th>dimension</th>\n",
       "      <th>subcategoria</th>\n",
       "      <th>indicador</th>\n",
       "      <th>dato_numerico</th>\n",
       "      <th>dato_cualitativo</th>\n",
       "      <th>anio</th>\n",
       "      <th>mes</th>\n",
       "      <th>fuente</th>\n",
       "      <th>unidad_de_medida</th>\n",
       "    </tr>\n",
       "  </thead>\n",
       "  <tbody>\n",
       "    <tr>\n",
       "      <th>769</th>\n",
       "      <td>4046528</td>\n",
       "      <td>20</td>\n",
       "      <td>cesar</td>\n",
       "      <td>20001</td>\n",
       "      <td>valledupar</td>\n",
       "      <td>pobreza</td>\n",
       "      <td>indicadores_de_pobreza</td>\n",
       "      <td>incidencia_de_la_pobreza_monetaria</td>\n",
       "      <td>35.5</td>\n",
       "      <td>NaN</td>\n",
       "      <td>2016</td>\n",
       "      <td>12</td>\n",
       "      <td>dane</td>\n",
       "      <td>porcentaje_(el_valor_esta_multiplicado_por_100)</td>\n",
       "    </tr>\n",
       "  </tbody>\n",
       "</table>\n",
       "</div>"
      ],
      "text/plain": [
       "     Unnamed: 0  codigo_departamento departamento  codigo_entidad     entidad  \\\n",
       "769     4046528                   20        cesar           20001  valledupar   \n",
       "\n",
       "    dimension            subcategoria                           indicador  \\\n",
       "769   pobreza  indicadores_de_pobreza  incidencia_de_la_pobreza_monetaria   \n",
       "\n",
       "     dato_numerico  dato_cualitativo  anio  mes fuente  \\\n",
       "769           35.5               NaN  2016   12   dane   \n",
       "\n",
       "                                    unidad_de_medida  \n",
       "769  porcentaje_(el_valor_esta_multiplicado_por_100)  "
      ]
     },
     "execution_count": 79,
     "metadata": {},
     "output_type": "execute_result"
    }
   ],
   "source": [
    "# Loading and filtering the csv\n",
    "\n",
    "poverty = pd.read_csv(terridata[13])\n",
    "poverty = poverty.loc[poverty.codigo_entidad.isin(municipios)\n",
    "                      & poverty.anio.ge(2016)\n",
    "                      & poverty.anio.le(2019)]\n",
    "poverty.head(1)"
   ]
  },
  {
   "cell_type": "code",
   "execution_count": 80,
   "id": "1cf642c8-9548-4098-91c8-f47e4811c9d3",
   "metadata": {},
   "outputs": [
    {
     "data": {
      "text/plain": [
       "array([2016, 2017, 2018], dtype=int64)"
      ]
     },
     "execution_count": 80,
     "metadata": {},
     "output_type": "execute_result"
    }
   ],
   "source": [
    "# Checking the years where there is data\n",
    "\n",
    "anio = poverty.anio.unique()\n",
    "anio.sort()\n",
    "anio"
   ]
  },
  {
   "cell_type": "code",
   "execution_count": 81,
   "id": "20747957-c1f4-45b6-bee2-7ea6220e0afd",
   "metadata": {},
   "outputs": [
    {
     "data": {
      "text/plain": [
       "array(['incidencia_de_la_pobreza_monetaria',\n",
       "       'incidencia_de_la_pobreza_monetaria_extrema',\n",
       "       'coeficiente_de_gini', 'indice_de_pobreza_multidimensional_-_ipm',\n",
       "       'ipm_-_cabecera', 'ipm_-_rural',\n",
       "       'indice_de_necesidades_basicas_insatisfechas_-_nbi_-_en_el_area_urbana',\n",
       "       'indice_de_necesidades_basicas_insatisfechas_-_nbi_-_en_el_area_rural',\n",
       "       'poblacion_en_condicion_de_miseria',\n",
       "       'poblacion_en_condicion_de_miseria_en_el_area_urbana',\n",
       "       'poblacion_en_condicion_de_miseria_en_el_area_rural',\n",
       "       'incidencia_de_pobreza_monetaria_extrema_en_hombres',\n",
       "       'incidencia_de_pobreza_monetaria_extrema_en_mujeres',\n",
       "       'incidencia_de_pobreza_monetaria_en_hombres',\n",
       "       'incidencia_de_pobreza_monetaria_en_mujeres',\n",
       "       'incidencia_de_pobreza_monetaria_extrema_en_hogares_con_jefatura_masculina',\n",
       "       'incidencia_de_pobreza_monetaria_extrema_en_hogares_con_jefatura_femenina',\n",
       "       'incidencia_de_pobreza_monetaria__en_hogares_con_jefatura_masculina',\n",
       "       'incidencia_de_pobreza_monetaria__en_hogares_con_jefatura_femenina'],\n",
       "      dtype=object)"
      ]
     },
     "execution_count": 81,
     "metadata": {},
     "output_type": "execute_result"
    }
   ],
   "source": [
    "# Variables in the dataset\n",
    "\n",
    "poverty.indicador.unique()"
   ]
  },
  {
   "cell_type": "code",
   "execution_count": 82,
   "id": "a249ebaf-1e8a-4a8a-98f1-1ab71b3f2ca3",
   "metadata": {},
   "outputs": [
    {
     "data": {
      "text/plain": [
       "array([2016, 2017, 2018], dtype=int64)"
      ]
     },
     "execution_count": 82,
     "metadata": {},
     "output_type": "execute_result"
    }
   ],
   "source": [
    "# Filtering the data by the variable selected\n",
    "pov_1 = poverty.loc[poverty.indicador.eq('incidencia_de_la_pobreza_monetaria')]\n",
    "pov_1.anio.unique()"
   ]
  },
  {
   "cell_type": "code",
   "execution_count": 83,
   "id": "e20c95fd-86c2-46da-a639-962fcbffdcc1",
   "metadata": {},
   "outputs": [
    {
     "name": "stdout",
     "output_type": "stream",
     "text": [
      "Number of unique mun for 2016: 31\n",
      "Mun not in MinTic databases\n",
      "[20517, 73770, 41006, 41013, 41016, 41020, 41026, 20550, 20570, 8296, 41078, 73854, 73861, 20614, 20621, 73870, 73873, 41132, 8372, 86219, 8421, 20710, 8433, 8436, 41206, 20750, 41244, 20770, 86320, 20787, 8520, 41298, 41306, 8549, 41319, 8558, 8560, 8573, 41349, 41357, 41359, 8606, 41378, 25001, 41396, 8634, 25019, 8638, 25035, 25040, 25053, 70110, 8675, 70124, 8685, 66045, 25086, 25095, 25099, 41483, 66075, 41503, 25120, 25123, 25126, 66088, 86568, 86569, 86571, 86573, 41518, 41524, 8758, 41530, 25148, 70204, 25151, 8770, 25154, 70215, 41548, 70221, 41551, 25168, 70230, 25175, 70233, 25178, 70235, 25181, 25183, 25200, 17013, 70265, 66170, 25214, 8832, 25224, 41615, 8849, 17042, 17050, 25245, 25258, 25260, 25269, 41660, 25279, 17088, 25281, 41668, 25286, 25288, 25290, 41676, 25293, 13006, 25295, 25297, 25299, 25307, 86749, 25312, 86755, 86757, 25317, 13030, 86760, 25320, 25322, 25324, 25326, 25328, 13042, 54003, 25335, 25339, 13052, 70400, 13062, 66318, 13074, 70418, 17174, 25368, 25372, 70429, 25377, 54051, 95015, 25386, 41770, 95025, 25394, 25398, 25402, 25407, 41791, 41797, 41799, 41801, 70473, 66383, 41807, 86865, 25426, 13140, 54099, 25430, 50006, 25436, 54109, 25438, 66400, 86885, 13160, 70508, 54125, 54128, 17272, 70523, 25473, 13188, 66440, 5002, 25483, 5004, 25486, 25488, 25489, 41872, 25491, 66456, 13212, 5021, 41885, 54172, 54174, 25506, 5030, 5031, 13222, 25513, 5034, 5036, 5038, 25518, 5040, 5042, 5044, 5045, 25524, 25530, 5051, 13244, 54206, 5055, 13248, 25535, 50110, 5059, 50124, 54223, 13268, 5079, 5086, 54239, 5088, 95200, 5091, 17380, 5093, 25572, 50150, 54245, 54250, 17388, 5101, 25580, 5107, 13300, 54261, 25592, 5113, 25594, 25596, 25599, 5120, 5125, 5129, 25612, 66572, 5134, 70670, 5138, 5142, 70678, 5145, 17433, 5147, 5148, 5150, 5154, 17442, 17444, 66594, 17446, 54313, 25645, 70702, 50223, 25649, 50226, 5172, 25653, 70708, 70713, 25658, 70717, 25662, 50245, 5190, 54344, 50251, 54347, 5197, 17486, 5206, 17495, 70742, 5209, 5212, 50270, 17513, 54377, 50287, 54385, 5234, 70771, 17524, 5237, 25718, 13430, 5240, 13433, 66682, 54398, 66687, 13440, 5250, 13442, 17541, 54405, 25736, 50313, 25740, 50318, 25743, 5264, 25745, 5266, 13458, 54418, 50325, 25754, 50330, 13468, 25758, 13473, 5282, 5284, 70820, 70823, 25769, 25772, 50350, 25777, 13490, 25779, 25781, 25785, 5306, 5308, 5310, 5313, 25793, 5315, 50370, 25797, 5318, 25799, 99524, 5321, 25805, 17614, 25807, 17616, 54480, 25815, 25817, 25823, 50400, 54498, 5347, 5353, 13549, 25839, 5360, 5361, 25841, 25843, 5364, 17653, 25845, 54518, 5368, 54520, 25851, 17662, 5376, 17665, 5380, 25862, 25867, 13580, 5390, 25871, 25873, 50450, 25875, 25878, 5400, 54553, 25885, 13600, 5411, 99624, 25898, 25899, 5425, 13620, 5440, 54599, 13647, 13650, 13654, 13655, 13657, 5467, 5475, 13667, 13670, 5480, 13673, 5483, 17777, 5490, 13683, 5495, 13688, 5501, 54660, 50568, 50573, 54670, 50577, 54673, 91540, 54680, 50590, 5541, 5543, 50606, 13744, 99773, 13760, 54720, 5576, 5579, 17867, 5585, 17873, 13780, 17877, 5591, 54743, 5604, 5607, 5615, 13810, 50680, 50683, 5628, 50686, 5631, 50689, 5642, 13836, 13838, 5647, 54800, 5649, 5652, 50711, 5656, 5658, 5659, 5660, 54810, 5664, 5665, 5667, 54820, 5670, 5674, 5679, 13873, 5686, 5690, 5697, 13894, 54871, 54874, 5736, 18029, 5756, 5761, 63111, 63130, 5789, 5790, 5792, 18094, 5809, 5819, 5837, 5842, 63190, 5847, 5854, 5856, 5858, 5861, 18150, 63212, 5873, 5885, 5887, 5890, 5893, 5895, 18205, 63272, 63302, 18247, 18256, 63401, 47030, 47053, 47058, 18410, 63470, 18460, 18479, 47161, 63548, 47170, 47189, 47205, 63594, 47245, 47258, 18592, 47268, 18610, 47288, 63690, 47318, 76020, 76036, 76041, 76054, 18753, 18756, 76100, 76109, 76111, 76113, 76122, 76126, 18785, 76130, 47460, 76147, 27006, 27025, 27050, 18860, 68013, 68020, 47541, 47545, 47551, 27073, 27075, 47555, 27077, 76233, 47570, 68051, 76243, 76246, 76248, 76250, 27099, 68077, 68079, 68081, 76275, 88564, 47605, 68092, 27135, 68101, 27150, 76306, 27160, 68121, 23068, 76318, 68132, 23079, 47660, 23090, 68147, 68152, 47675, 68160, 68162, 27205, 68167, 68169, 47692, 76364, 19022, 68176, 68179, 47703, 76377, 47707, 68190, 47720, 19050, 27245, 68207, 76400, 68209, 27250, 68211, 76403, 68217, 23162, 23168, 47745, 19075, 68229, 68235, 23182, 23189, 68245, 68250, 19100, 68255, 19110, 68264, 68266, 15022, 68271, 68276, 47798, 19130, 19137, 19142, 15047, 68296, 68298, 15051, 76497, 68307, 68318, 68320, 27361, 68322, 68324, 68327, 76520, 27372, 15087, 15090, 15092, 68344, 15097, 15104, 15106, 23300, 15109, 15114, 19212, 68368, 68370, 76563, 27413, 68377, 15131, 15135, 27425, 68385, 27430, 68397, 52019, 23350, 52022, 19256, 68406, 15162, 27450, 76606, 68418, 15172, 52036, 15176, 68425, 76616, 15180, 76622, 15183, 68432, 15185, 15187, 52051, 15189, 47960, 19290, 68444, 27491, 15204, 19300, 27495, 15212, 47980, 15215, 52079, 68464, 15218, 52083, 68468, 19318, 15223, 15224, 23417, 15226, 23419, 76670, 15232, 15236, 15238, 97161, 15244, 52110, 15248, 68498, 68500, 68502, 19355, 19364, 15272, 23464, 68522, 23466, 68524, 15276, 68533, 27580, 15293, 15296, 19392, 76736, 15299, 68547, 19397, 68549, 23500, 27600, 15317, 15322, 19418, 68572, 68573, 15325, 68575, 27615, 15332, 52203, 52207, 52210, 52215, 19450, 19455, 52224, 15362, 23555, 44035, 52227, 15367, 15368, 52233, 68615, 27660, 52240, 15377, 19473, 23570, 15380, 85010, 23574, 76823, 85015, 52250, 23580, 76828, 52254, 52256, 23586, 52258, 52260, 76834, 15401, 15403, 76845, 44078, 15407, 68655, 19513, 44090, 19517, 68669, 52287, 76863, 15425, 44098, 68673, 76869, 68679, 68682, 19532, 19533, 44110, 68684, 68686, 68689, 15442, 76890, 19548, 52317, 76892, 15455, 52320, 27745, 68705, 52323, 76895, 15464, 15466, 23660, 15469, 68720, 15476, 19573, 23670, 15480, 23672, 23675, 23678, 52352, 19585, 52354, 15491, 23682, 85125, 15494, 23686, 52356, 68745, 27787, 15500, 85136, 85139, 15507, 68755, 15511, 27800, 15514, 52378, 15516, 52381, 15518, 52385, 15522, 27810, 68770, 68773, 19622, 52390, 81065, 85162, 15531, 68780, 15533, 52399, 15537, 52405, 15542, 52411, 15550, 52418, 52427, 52435, 15572, 68820, 15580, 85225, 19693, 85230, 15599, 15600, 19698, 19701, 68855, 44279, 52473, 68861, 23807, 52480, 85250, 68867, 15621, 23815, 68872, 52490, 85263, 15632, 15638, 52506, 15646, 19743, 68895, 85279, 52520, 15660, 23855, 15664, 19760, 15667, 85300, 15673, 15676, 52540, 73024, 15681, 73026, 85315, 19780, 81220, 15686, 73030, 19785, 15690, 15693, 85325, 15696, 52560, 73043, 52565, 44378, 52573, 19807, 73055, 19809, 15720, 52585, 15723, 73067, 19821, 19824, 15740, 97666, 44420, 19845, 52612, 15753, 15755, 15757, 44430, 15759, 52621, 15761, 15762, 15763, 15764, 81300, 85400, 15774, 15776, 15778, 85410, 73124, 15790, 15798, 85430, 15804, 73148, 15806, 15808, 73152, 15810, 85440, 15814, 52678, 15816, 52683, 15820, 52685, 15822, 52687, 73168, 52693, 52694, 15832, 52696, 15835, 52699, 15837, 15839, 15842, 52720, 73200, 15861, 73217, 15879, 73226, 44560, 73236, 15897, 20011, 20013, 52786, 52788, 73268, 73270, 73275, 20032, 73283, 20045, 20060, 52835, 52838, 73319, 44650, 73347, 73349, 73352, 52885, 81591, 73408, 73411, 20175, 20178, 73443, 73449, 73461, 20228, 73483, 20238, 20250, 73504, 44847, 73520, 44855, 20295, 81736, 44874, 73547, 73555, 20310, 73563, 73585, 81794, 8078, 73616, 73622, 73624, 20383, 20400, 73671, 8137, 73675, 8141, 73678, 73686, 20443]\n",
      "Number of unique mun for 2017: 31\n",
      "Mun not in MinTic databases\n",
      "[20517, 73770, 41006, 41013, 41016, 41020, 41026, 20550, 20570, 8296, 41078, 73854, 73861, 20614, 20621, 73870, 73873, 41132, 8372, 86219, 8421, 20710, 8433, 8436, 41206, 20750, 41244, 20770, 86320, 20787, 8520, 41298, 41306, 8549, 41319, 8558, 8560, 8573, 41349, 41357, 41359, 8606, 41378, 25001, 41396, 8634, 25019, 8638, 25035, 25040, 25053, 70110, 8675, 70124, 8685, 66045, 25086, 25095, 25099, 41483, 66075, 41503, 25120, 25123, 25126, 66088, 86568, 86569, 86571, 86573, 41518, 41524, 8758, 41530, 25148, 70204, 25151, 8770, 25154, 70215, 41548, 70221, 41551, 25168, 70230, 25175, 70233, 25178, 70235, 25181, 25183, 25200, 17013, 70265, 66170, 25214, 8832, 25224, 41615, 8849, 17042, 17050, 25245, 25258, 25260, 25269, 41660, 25279, 17088, 25281, 41668, 25286, 25288, 25290, 41676, 25293, 13006, 25295, 25297, 25299, 25307, 86749, 25312, 86755, 86757, 25317, 13030, 86760, 25320, 25322, 25324, 25326, 25328, 13042, 54003, 25335, 25339, 13052, 70400, 13062, 66318, 13074, 70418, 17174, 25368, 25372, 70429, 25377, 54051, 95015, 25386, 41770, 95025, 25394, 25398, 25402, 25407, 41791, 41797, 41799, 41801, 70473, 66383, 41807, 86865, 25426, 13140, 54099, 25430, 50006, 25436, 54109, 25438, 66400, 86885, 13160, 70508, 54125, 54128, 17272, 70523, 25473, 13188, 66440, 5002, 25483, 5004, 25486, 25488, 25489, 41872, 25491, 66456, 13212, 5021, 41885, 54172, 54174, 25506, 5030, 5031, 13222, 25513, 5034, 5036, 5038, 25518, 5040, 5042, 5044, 5045, 25524, 25530, 5051, 13244, 54206, 5055, 13248, 25535, 50110, 5059, 50124, 54223, 13268, 5079, 5086, 54239, 5088, 95200, 5091, 17380, 5093, 25572, 50150, 54245, 54250, 17388, 5101, 25580, 5107, 13300, 54261, 25592, 5113, 25594, 25596, 25599, 5120, 5125, 5129, 25612, 66572, 5134, 70670, 5138, 5142, 70678, 5145, 17433, 5147, 5148, 5150, 5154, 17442, 17444, 66594, 17446, 54313, 25645, 70702, 50223, 25649, 50226, 5172, 25653, 70708, 70713, 25658, 70717, 25662, 50245, 5190, 54344, 50251, 54347, 5197, 17486, 5206, 17495, 70742, 5209, 5212, 50270, 17513, 54377, 50287, 54385, 5234, 70771, 17524, 5237, 25718, 13430, 5240, 13433, 66682, 54398, 66687, 13440, 5250, 13442, 17541, 54405, 25736, 50313, 25740, 50318, 25743, 5264, 25745, 5266, 13458, 54418, 50325, 25754, 50330, 13468, 25758, 13473, 5282, 5284, 70820, 70823, 25769, 25772, 50350, 25777, 13490, 25779, 25781, 25785, 5306, 5308, 5310, 5313, 25793, 5315, 50370, 25797, 5318, 25799, 99524, 5321, 25805, 17614, 25807, 17616, 54480, 25815, 25817, 25823, 50400, 54498, 5347, 5353, 13549, 25839, 5360, 5361, 25841, 25843, 5364, 17653, 25845, 54518, 5368, 54520, 25851, 17662, 5376, 17665, 5380, 25862, 25867, 13580, 5390, 25871, 25873, 50450, 25875, 25878, 5400, 54553, 25885, 13600, 5411, 99624, 25898, 25899, 5425, 13620, 5440, 54599, 13647, 13650, 13654, 13655, 13657, 5467, 5475, 13667, 13670, 5480, 13673, 5483, 17777, 5490, 13683, 5495, 13688, 5501, 54660, 50568, 50573, 54670, 50577, 54673, 91540, 54680, 50590, 5541, 5543, 50606, 13744, 99773, 13760, 54720, 5576, 5579, 17867, 5585, 17873, 13780, 17877, 5591, 54743, 5604, 5607, 5615, 13810, 50680, 50683, 5628, 50686, 5631, 50689, 5642, 13836, 13838, 5647, 54800, 5649, 5652, 50711, 5656, 5658, 5659, 5660, 54810, 5664, 5665, 5667, 54820, 5670, 5674, 5679, 13873, 5686, 5690, 5697, 13894, 54871, 54874, 5736, 18029, 5756, 5761, 63111, 63130, 5789, 5790, 5792, 18094, 5809, 5819, 5837, 5842, 63190, 5847, 5854, 5856, 5858, 5861, 18150, 63212, 5873, 5885, 5887, 5890, 5893, 5895, 18205, 63272, 63302, 18247, 18256, 63401, 47030, 47053, 47058, 18410, 63470, 18460, 18479, 47161, 63548, 47170, 47189, 47205, 63594, 47245, 47258, 18592, 47268, 18610, 47288, 63690, 47318, 76020, 76036, 76041, 76054, 18753, 18756, 76100, 76109, 76111, 76113, 76122, 76126, 18785, 76130, 47460, 76147, 27006, 27025, 27050, 18860, 68013, 68020, 47541, 47545, 47551, 27073, 27075, 47555, 27077, 76233, 47570, 68051, 76243, 76246, 76248, 76250, 27099, 68077, 68079, 68081, 76275, 88564, 47605, 68092, 27135, 68101, 27150, 76306, 27160, 68121, 23068, 76318, 68132, 23079, 47660, 23090, 68147, 68152, 47675, 68160, 68162, 27205, 68167, 68169, 47692, 76364, 19022, 68176, 68179, 47703, 76377, 47707, 68190, 47720, 19050, 27245, 68207, 76400, 68209, 27250, 68211, 76403, 68217, 23162, 23168, 47745, 19075, 68229, 68235, 23182, 23189, 68245, 68250, 19100, 68255, 19110, 68264, 68266, 15022, 68271, 68276, 47798, 19130, 19137, 19142, 15047, 68296, 68298, 15051, 76497, 68307, 68318, 68320, 27361, 68322, 68324, 68327, 76520, 27372, 15087, 15090, 15092, 68344, 15097, 15104, 15106, 23300, 15109, 15114, 19212, 68368, 68370, 76563, 27413, 68377, 15131, 15135, 27425, 68385, 27430, 68397, 52019, 23350, 52022, 19256, 68406, 15162, 27450, 76606, 68418, 15172, 52036, 15176, 68425, 76616, 15180, 76622, 15183, 68432, 15185, 15187, 52051, 15189, 47960, 19290, 68444, 27491, 15204, 19300, 27495, 15212, 47980, 15215, 52079, 68464, 15218, 52083, 68468, 19318, 15223, 15224, 23417, 15226, 23419, 76670, 15232, 15236, 15238, 97161, 15244, 52110, 15248, 68498, 68500, 68502, 19355, 19364, 15272, 23464, 68522, 23466, 68524, 15276, 68533, 27580, 15293, 15296, 19392, 76736, 15299, 68547, 19397, 68549, 23500, 27600, 15317, 15322, 19418, 68572, 68573, 15325, 68575, 27615, 15332, 52203, 52207, 52210, 52215, 19450, 19455, 52224, 15362, 23555, 44035, 52227, 15367, 15368, 52233, 68615, 27660, 52240, 15377, 19473, 23570, 15380, 85010, 23574, 76823, 85015, 52250, 23580, 76828, 52254, 52256, 23586, 52258, 52260, 76834, 15401, 15403, 76845, 44078, 15407, 68655, 19513, 44090, 19517, 68669, 52287, 76863, 15425, 44098, 68673, 76869, 68679, 68682, 19532, 19533, 44110, 68684, 68686, 68689, 15442, 76890, 19548, 52317, 76892, 15455, 52320, 27745, 68705, 52323, 76895, 15464, 15466, 23660, 15469, 68720, 15476, 19573, 23670, 15480, 23672, 23675, 23678, 52352, 19585, 52354, 15491, 23682, 85125, 15494, 23686, 52356, 68745, 27787, 15500, 85136, 85139, 15507, 68755, 15511, 27800, 15514, 52378, 15516, 52381, 15518, 52385, 15522, 27810, 68770, 68773, 19622, 52390, 81065, 85162, 15531, 68780, 15533, 52399, 15537, 52405, 15542, 52411, 15550, 52418, 52427, 52435, 15572, 68820, 15580, 85225, 19693, 85230, 15599, 15600, 19698, 19701, 68855, 44279, 52473, 68861, 23807, 52480, 85250, 68867, 15621, 23815, 68872, 52490, 85263, 15632, 15638, 52506, 15646, 19743, 68895, 85279, 52520, 15660, 23855, 15664, 19760, 15667, 85300, 15673, 15676, 52540, 73024, 15681, 73026, 85315, 19780, 81220, 15686, 73030, 19785, 15690, 15693, 85325, 15696, 52560, 73043, 52565, 44378, 52573, 19807, 73055, 19809, 15720, 52585, 15723, 73067, 19821, 19824, 15740, 97666, 44420, 19845, 52612, 15753, 15755, 15757, 44430, 15759, 52621, 15761, 15762, 15763, 15764, 81300, 85400, 15774, 15776, 15778, 85410, 73124, 15790, 15798, 85430, 15804, 73148, 15806, 15808, 73152, 15810, 85440, 15814, 52678, 15816, 52683, 15820, 52685, 15822, 52687, 73168, 52693, 52694, 15832, 52696, 15835, 52699, 15837, 15839, 15842, 52720, 73200, 15861, 73217, 15879, 73226, 44560, 73236, 15897, 20011, 20013, 52786, 52788, 73268, 73270, 73275, 20032, 73283, 20045, 20060, 52835, 52838, 73319, 44650, 73347, 73349, 73352, 52885, 81591, 73408, 73411, 20175, 20178, 73443, 73449, 73461, 20228, 73483, 20238, 20250, 73504, 44847, 73520, 44855, 20295, 81736, 44874, 73547, 73555, 20310, 73563, 73585, 81794, 8078, 73616, 73622, 73624, 20383, 20400, 73671, 8137, 73675, 8141, 73678, 73686, 20443]\n",
      "Number of unique mun for 2018: 23\n",
      "Mun not in MinTic databases\n",
      "[20517, 73770, 41006, 41013, 41016, 41020, 41026, 20550, 20570, 8296, 41078, 73854, 73861, 20614, 20621, 73870, 73873, 41132, 8372, 86219, 8421, 20710, 8433, 8436, 41206, 20750, 41244, 20770, 86320, 20787, 8520, 41298, 41306, 8549, 41319, 8558, 8560, 8573, 41349, 41357, 41359, 8606, 41378, 25001, 41396, 8634, 25019, 8638, 25035, 25040, 25053, 70110, 8675, 70124, 8685, 66045, 25086, 25095, 25099, 41483, 66075, 41503, 25120, 25123, 25126, 66088, 86568, 86569, 86571, 86573, 41518, 41524, 8758, 41530, 25148, 70204, 25151, 8770, 25154, 70215, 41548, 70221, 41551, 25168, 70230, 25175, 70233, 25178, 70235, 25181, 25183, 25200, 17013, 70265, 66170, 25214, 8832, 25224, 41615, 8849, 17042, 17050, 25245, 25258, 25260, 25269, 99001, 41660, 25279, 17088, 25281, 41668, 25286, 25288, 25290, 41676, 25293, 13006, 25295, 25297, 25299, 25307, 86749, 25312, 86755, 86757, 25317, 13030, 86760, 25320, 25322, 25324, 25326, 25328, 13042, 54003, 25335, 25339, 13052, 70400, 13062, 66318, 13074, 70418, 17174, 25368, 95001, 25372, 70429, 25377, 54051, 95015, 25386, 41770, 95025, 25394, 25398, 25402, 25407, 41791, 41797, 41799, 41801, 70473, 66383, 41807, 86865, 25426, 13140, 54099, 25430, 50006, 25436, 54109, 25438, 66400, 86885, 13160, 70508, 54125, 54128, 17272, 91001, 70523, 25473, 13188, 66440, 5002, 25483, 5004, 25486, 25488, 25489, 41872, 25491, 66456, 13212, 5021, 41885, 54172, 54174, 25506, 5030, 5031, 13222, 25513, 5034, 5036, 5038, 25518, 5040, 5042, 5044, 5045, 25524, 25530, 5051, 13244, 54206, 5055, 13248, 25535, 50110, 5059, 50124, 54223, 13268, 5079, 5086, 54239, 5088, 95200, 5091, 17380, 5093, 25572, 50150, 54245, 54250, 17388, 5101, 25580, 5107, 13300, 54261, 25592, 5113, 25594, 25596, 25599, 5120, 5125, 5129, 25612, 66572, 5134, 70670, 5138, 5142, 70678, 5145, 17433, 5147, 5148, 5150, 5154, 17442, 17444, 66594, 17446, 54313, 25645, 70702, 50223, 25649, 50226, 5172, 25653, 70708, 70713, 25658, 70717, 25662, 50245, 5190, 54344, 50251, 54347, 5197, 17486, 5206, 17495, 70742, 5209, 5212, 50270, 17513, 54377, 50287, 54385, 5234, 70771, 17524, 5237, 25718, 13430, 5240, 13433, 66682, 54398, 66687, 13440, 5250, 13442, 17541, 54405, 25736, 50313, 25740, 50318, 25743, 5264, 25745, 5266, 13458, 54418, 50325, 25754, 50330, 13468, 25758, 13473, 5282, 5284, 70820, 70823, 25769, 25772, 50350, 25777, 13490, 25779, 25781, 25785, 5306, 5308, 5310, 5313, 25793, 5315, 50370, 25797, 5318, 25799, 99524, 5321, 25805, 17614, 25807, 17616, 54480, 25815, 25817, 25823, 50400, 54498, 5347, 5353, 13549, 25839, 5360, 5361, 25841, 25843, 5364, 17653, 25845, 54518, 5368, 54520, 25851, 17662, 5376, 17665, 5380, 25862, 25867, 13580, 5390, 25871, 25873, 50450, 25875, 25878, 5400, 54553, 25885, 13600, 5411, 99624, 25898, 25899, 5425, 13620, 5440, 54599, 13647, 13650, 13654, 13655, 13657, 5467, 5475, 13667, 13670, 5480, 13673, 5483, 17777, 5490, 13683, 5495, 13688, 5501, 54660, 50568, 50573, 54670, 50577, 54673, 91540, 54680, 50590, 5541, 5543, 50606, 13744, 99773, 13760, 54720, 5576, 5579, 17867, 5585, 17873, 13780, 17877, 5591, 54743, 5604, 5607, 5615, 13810, 50680, 50683, 5628, 50686, 5631, 50689, 5642, 13836, 13838, 5647, 54800, 5649, 5652, 50711, 5656, 5658, 5659, 5660, 54810, 5664, 5665, 5667, 54820, 5670, 5674, 5679, 13873, 5686, 5690, 5697, 13894, 54871, 54874, 5736, 18029, 5756, 5761, 63111, 63130, 5789, 5790, 5792, 18094, 5809, 5819, 5837, 5842, 63190, 5847, 5854, 5856, 5858, 5861, 18150, 63212, 5873, 5885, 5887, 5890, 5893, 5895, 18205, 63272, 63302, 18247, 18256, 63401, 47030, 47053, 47058, 18410, 63470, 18460, 18479, 47161, 63548, 47170, 47189, 47205, 63594, 47245, 47258, 18592, 47268, 18610, 47288, 63690, 47318, 76020, 76036, 76041, 76054, 18753, 18756, 76100, 76109, 76111, 76113, 76122, 76126, 18785, 76130, 47460, 76147, 27006, 27025, 27050, 18860, 68013, 68020, 47541, 47545, 47551, 27073, 27075, 47555, 27077, 76233, 47570, 68051, 76243, 76246, 76248, 76250, 27099, 68077, 68079, 68081, 76275, 88564, 47605, 68092, 27135, 68101, 27150, 76306, 27160, 68121, 23068, 76318, 68132, 23079, 47660, 23090, 68147, 68152, 47675, 68160, 68162, 27205, 68167, 68169, 47692, 76364, 19022, 68176, 68179, 47703, 76377, 47707, 68190, 47720, 19050, 27245, 68207, 76400, 68209, 27250, 68211, 76403, 68217, 23162, 23168, 47745, 19075, 68229, 68235, 23182, 23189, 68245, 68250, 19100, 68255, 19110, 68264, 68266, 15022, 68271, 68276, 47798, 19130, 19137, 19142, 15047, 68296, 68298, 15051, 76497, 68307, 68318, 68320, 27361, 68322, 68324, 68327, 76520, 97001, 27372, 15087, 15090, 15092, 68344, 15097, 15104, 15106, 23300, 15109, 15114, 19212, 68368, 68370, 76563, 27413, 68377, 15131, 15135, 27425, 68385, 27430, 68397, 52019, 23350, 52022, 19256, 68406, 15162, 27450, 76606, 68418, 15172, 52036, 15176, 68425, 76616, 15180, 76622, 15183, 68432, 15185, 15187, 52051, 15189, 47960, 19290, 68444, 27491, 15204, 19300, 27495, 15212, 47980, 15215, 52079, 68464, 15218, 52083, 68468, 19318, 15223, 15224, 23417, 15226, 23419, 76670, 15232, 15236, 15238, 97161, 15244, 52110, 15248, 68498, 68500, 68502, 19355, 19364, 15272, 23464, 68522, 23466, 68524, 15276, 68533, 27580, 15293, 15296, 19392, 76736, 15299, 68547, 19397, 68549, 23500, 27600, 15317, 15322, 19418, 68572, 68573, 15325, 68575, 27615, 15332, 52203, 52207, 52210, 52215, 19450, 19455, 52224, 15362, 23555, 44035, 52227, 15367, 15368, 52233, 85001, 68615, 27660, 52240, 15377, 19473, 23570, 15380, 85010, 23574, 76823, 85015, 52250, 23580, 76828, 52254, 52256, 23586, 52258, 52260, 76834, 15401, 15403, 76845, 44078, 15407, 68655, 19513, 44090, 19517, 68669, 52287, 76863, 15425, 44098, 68673, 76869, 68679, 68682, 19532, 19533, 44110, 68684, 68686, 68689, 15442, 76890, 19548, 52317, 76892, 15455, 52320, 27745, 68705, 52323, 76895, 15464, 81001, 15466, 23660, 15469, 68720, 15476, 19573, 23670, 15480, 23672, 23675, 23678, 52352, 19585, 52354, 15491, 23682, 85125, 15494, 23686, 52356, 68745, 27787, 15500, 85136, 85139, 15507, 68755, 15511, 27800, 15514, 52378, 15516, 52381, 15518, 52385, 15522, 27810, 68770, 68773, 19622, 52390, 81065, 85162, 15531, 68780, 15533, 52399, 15537, 52405, 15542, 52411, 15550, 52418, 52427, 52435, 15572, 68820, 15580, 85225, 19693, 85230, 15599, 15600, 19698, 19701, 68855, 44279, 52473, 68861, 23807, 52480, 85250, 68867, 15621, 23815, 68872, 52490, 85263, 15632, 15638, 52506, 15646, 19743, 68895, 85279, 52520, 15660, 23855, 15664, 19760, 15667, 85300, 15673, 15676, 52540, 73024, 15681, 73026, 85315, 19780, 81220, 15686, 73030, 19785, 15690, 15693, 85325, 15696, 52560, 73043, 52565, 44378, 52573, 19807, 73055, 19809, 15720, 52585, 15723, 73067, 19821, 19824, 15740, 97666, 44420, 19845, 52612, 15753, 15755, 15757, 44430, 15759, 52621, 15761, 15762, 15763, 15764, 81300, 85400, 15774, 15776, 15778, 85410, 73124, 15790, 15798, 85430, 15804, 73148, 15806, 15808, 73152, 15810, 85440, 15814, 52678, 15816, 52683, 15820, 52685, 15822, 52687, 73168, 52693, 52694, 15832, 52696, 15835, 52699, 15837, 15839, 15842, 52720, 73200, 15861, 73217, 15879, 73226, 44560, 73236, 15897, 20011, 20013, 52786, 52788, 73268, 73270, 73275, 20032, 73283, 20045, 20060, 52835, 52838, 73319, 44650, 73347, 73349, 73352, 52885, 81591, 73408, 73411, 20175, 20178, 73443, 73449, 73461, 20228, 73483, 20238, 20250, 73504, 44847, 73520, 94001, 44855, 20295, 81736, 44874, 73547, 73555, 20310, 73563, 73585, 81794, 8078, 73616, 73622, 73624, 20383, 20400, 73671, 8137, 73675, 8141, 73678, 73686, 20443, 86001]\n"
     ]
    }
   ],
   "source": [
    "# Using the custom function to check for missing municipalities\n",
    "check_mun(pov_1, municipios)"
   ]
  },
  {
   "cell_type": "code",
   "execution_count": 84,
   "id": "9c8b7d26-2f4f-44d9-8717-fd3129b1c261",
   "metadata": {},
   "outputs": [
    {
     "data": {
      "text/plain": [
       "array([2016, 2017, 2018], dtype=int64)"
      ]
     },
     "execution_count": 84,
     "metadata": {},
     "output_type": "execute_result"
    }
   ],
   "source": [
    "# Filtering the data by the variable selected\n",
    "pov_1 = poverty.loc[poverty.indicador.eq('incidencia_de_la_pobreza_monetaria_extrema')]\n",
    "pov_1.anio.unique()"
   ]
  },
  {
   "cell_type": "code",
   "execution_count": 85,
   "id": "de0745cd-0159-4533-95b5-da2d4316e891",
   "metadata": {},
   "outputs": [
    {
     "name": "stdout",
     "output_type": "stream",
     "text": [
      "Number of unique mun for 2016: 31\n",
      "Mun not in MinTic databases\n",
      "[20517, 73770, 41006, 41013, 41016, 41020, 41026, 20550, 20570, 8296, 41078, 73854, 73861, 20614, 20621, 73870, 73873, 41132, 8372, 86219, 8421, 20710, 8433, 8436, 41206, 20750, 41244, 20770, 86320, 20787, 8520, 41298, 41306, 8549, 41319, 8558, 8560, 8573, 41349, 41357, 41359, 8606, 41378, 25001, 41396, 8634, 25019, 8638, 25035, 25040, 25053, 70110, 8675, 70124, 8685, 66045, 25086, 25095, 25099, 41483, 66075, 41503, 25120, 25123, 25126, 66088, 86568, 86569, 86571, 86573, 41518, 41524, 8758, 41530, 25148, 70204, 25151, 8770, 25154, 70215, 41548, 70221, 41551, 25168, 70230, 25175, 70233, 25178, 70235, 25181, 25183, 25200, 17013, 70265, 66170, 25214, 8832, 25224, 41615, 8849, 17042, 17050, 25245, 25258, 25260, 25269, 41660, 25279, 17088, 25281, 41668, 25286, 25288, 25290, 41676, 25293, 13006, 25295, 25297, 25299, 25307, 86749, 25312, 86755, 86757, 25317, 13030, 86760, 25320, 25322, 25324, 25326, 25328, 13042, 54003, 25335, 25339, 13052, 70400, 13062, 66318, 13074, 70418, 17174, 25368, 25372, 70429, 25377, 54051, 95015, 25386, 41770, 95025, 25394, 25398, 25402, 25407, 41791, 41797, 41799, 41801, 70473, 66383, 41807, 86865, 25426, 13140, 54099, 25430, 50006, 25436, 54109, 25438, 66400, 86885, 13160, 70508, 54125, 54128, 17272, 70523, 25473, 13188, 66440, 5002, 25483, 5004, 25486, 25488, 25489, 41872, 25491, 66456, 13212, 5021, 41885, 54172, 54174, 25506, 5030, 5031, 13222, 25513, 5034, 5036, 5038, 25518, 5040, 5042, 5044, 5045, 25524, 25530, 5051, 13244, 54206, 5055, 13248, 25535, 50110, 5059, 50124, 54223, 13268, 5079, 5086, 54239, 5088, 95200, 5091, 17380, 5093, 25572, 50150, 54245, 54250, 17388, 5101, 25580, 5107, 13300, 54261, 25592, 5113, 25594, 25596, 25599, 5120, 5125, 5129, 25612, 66572, 5134, 70670, 5138, 5142, 70678, 5145, 17433, 5147, 5148, 5150, 5154, 17442, 17444, 66594, 17446, 54313, 25645, 70702, 50223, 25649, 50226, 5172, 25653, 70708, 70713, 25658, 70717, 25662, 50245, 5190, 54344, 50251, 54347, 5197, 17486, 5206, 17495, 70742, 5209, 5212, 50270, 17513, 54377, 50287, 54385, 5234, 70771, 17524, 5237, 25718, 13430, 5240, 13433, 66682, 54398, 66687, 13440, 5250, 13442, 17541, 54405, 25736, 50313, 25740, 50318, 25743, 5264, 25745, 5266, 13458, 54418, 50325, 25754, 50330, 13468, 25758, 13473, 5282, 5284, 70820, 70823, 25769, 25772, 50350, 25777, 13490, 25779, 25781, 25785, 5306, 5308, 5310, 5313, 25793, 5315, 50370, 25797, 5318, 25799, 99524, 5321, 25805, 17614, 25807, 17616, 54480, 25815, 25817, 25823, 50400, 54498, 5347, 5353, 13549, 25839, 5360, 5361, 25841, 25843, 5364, 17653, 25845, 54518, 5368, 54520, 25851, 17662, 5376, 17665, 5380, 25862, 25867, 13580, 5390, 25871, 25873, 50450, 25875, 25878, 5400, 54553, 25885, 13600, 5411, 99624, 25898, 25899, 5425, 13620, 5440, 54599, 13647, 13650, 13654, 13655, 13657, 5467, 5475, 13667, 13670, 5480, 13673, 5483, 17777, 5490, 13683, 5495, 13688, 5501, 54660, 50568, 50573, 54670, 50577, 54673, 91540, 54680, 50590, 5541, 5543, 50606, 13744, 99773, 13760, 54720, 5576, 5579, 17867, 5585, 17873, 13780, 17877, 5591, 54743, 5604, 5607, 5615, 13810, 50680, 50683, 5628, 50686, 5631, 50689, 5642, 13836, 13838, 5647, 54800, 5649, 5652, 50711, 5656, 5658, 5659, 5660, 54810, 5664, 5665, 5667, 54820, 5670, 5674, 5679, 13873, 5686, 5690, 5697, 13894, 54871, 54874, 5736, 18029, 5756, 5761, 63111, 63130, 5789, 5790, 5792, 18094, 5809, 5819, 5837, 5842, 63190, 5847, 5854, 5856, 5858, 5861, 18150, 63212, 5873, 5885, 5887, 5890, 5893, 5895, 18205, 63272, 63302, 18247, 18256, 63401, 47030, 47053, 47058, 18410, 63470, 18460, 18479, 47161, 63548, 47170, 47189, 47205, 63594, 47245, 47258, 18592, 47268, 18610, 47288, 63690, 47318, 76020, 76036, 76041, 76054, 18753, 18756, 76100, 76109, 76111, 76113, 76122, 76126, 18785, 76130, 47460, 76147, 27006, 27025, 27050, 18860, 68013, 68020, 47541, 47545, 47551, 27073, 27075, 47555, 27077, 76233, 47570, 68051, 76243, 76246, 76248, 76250, 27099, 68077, 68079, 68081, 76275, 88564, 47605, 68092, 27135, 68101, 27150, 76306, 27160, 68121, 23068, 76318, 68132, 23079, 47660, 23090, 68147, 68152, 47675, 68160, 68162, 27205, 68167, 68169, 47692, 76364, 19022, 68176, 68179, 47703, 76377, 47707, 68190, 47720, 19050, 27245, 68207, 76400, 68209, 27250, 68211, 76403, 68217, 23162, 23168, 47745, 19075, 68229, 68235, 23182, 23189, 68245, 68250, 19100, 68255, 19110, 68264, 68266, 15022, 68271, 68276, 47798, 19130, 19137, 19142, 15047, 68296, 68298, 15051, 76497, 68307, 68318, 68320, 27361, 68322, 68324, 68327, 76520, 27372, 15087, 15090, 15092, 68344, 15097, 15104, 15106, 23300, 15109, 15114, 19212, 68368, 68370, 76563, 27413, 68377, 15131, 15135, 27425, 68385, 27430, 68397, 52019, 23350, 52022, 19256, 68406, 15162, 27450, 76606, 68418, 15172, 52036, 15176, 68425, 76616, 15180, 76622, 15183, 68432, 15185, 15187, 52051, 15189, 47960, 19290, 68444, 27491, 15204, 19300, 27495, 15212, 47980, 15215, 52079, 68464, 15218, 52083, 68468, 19318, 15223, 15224, 23417, 15226, 23419, 76670, 15232, 15236, 15238, 97161, 15244, 52110, 15248, 68498, 68500, 68502, 19355, 19364, 15272, 23464, 68522, 23466, 68524, 15276, 68533, 27580, 15293, 15296, 19392, 76736, 15299, 68547, 19397, 68549, 23500, 27600, 15317, 15322, 19418, 68572, 68573, 15325, 68575, 27615, 15332, 52203, 52207, 52210, 52215, 19450, 19455, 52224, 15362, 23555, 44035, 52227, 15367, 15368, 52233, 68615, 27660, 52240, 15377, 19473, 23570, 15380, 85010, 23574, 76823, 85015, 52250, 23580, 76828, 52254, 52256, 23586, 52258, 52260, 76834, 15401, 15403, 76845, 44078, 15407, 68655, 19513, 44090, 19517, 68669, 52287, 76863, 15425, 44098, 68673, 76869, 68679, 68682, 19532, 19533, 44110, 68684, 68686, 68689, 15442, 76890, 19548, 52317, 76892, 15455, 52320, 27745, 68705, 52323, 76895, 15464, 15466, 23660, 15469, 68720, 15476, 19573, 23670, 15480, 23672, 23675, 23678, 52352, 19585, 52354, 15491, 23682, 85125, 15494, 23686, 52356, 68745, 27787, 15500, 85136, 85139, 15507, 68755, 15511, 27800, 15514, 52378, 15516, 52381, 15518, 52385, 15522, 27810, 68770, 68773, 19622, 52390, 81065, 85162, 15531, 68780, 15533, 52399, 15537, 52405, 15542, 52411, 15550, 52418, 52427, 52435, 15572, 68820, 15580, 85225, 19693, 85230, 15599, 15600, 19698, 19701, 68855, 44279, 52473, 68861, 23807, 52480, 85250, 68867, 15621, 23815, 68872, 52490, 85263, 15632, 15638, 52506, 15646, 19743, 68895, 85279, 52520, 15660, 23855, 15664, 19760, 15667, 85300, 15673, 15676, 52540, 73024, 15681, 73026, 85315, 19780, 81220, 15686, 73030, 19785, 15690, 15693, 85325, 15696, 52560, 73043, 52565, 44378, 52573, 19807, 73055, 19809, 15720, 52585, 15723, 73067, 19821, 19824, 15740, 97666, 44420, 19845, 52612, 15753, 15755, 15757, 44430, 15759, 52621, 15761, 15762, 15763, 15764, 81300, 85400, 15774, 15776, 15778, 85410, 73124, 15790, 15798, 85430, 15804, 73148, 15806, 15808, 73152, 15810, 85440, 15814, 52678, 15816, 52683, 15820, 52685, 15822, 52687, 73168, 52693, 52694, 15832, 52696, 15835, 52699, 15837, 15839, 15842, 52720, 73200, 15861, 73217, 15879, 73226, 44560, 73236, 15897, 20011, 20013, 52786, 52788, 73268, 73270, 73275, 20032, 73283, 20045, 20060, 52835, 52838, 73319, 44650, 73347, 73349, 73352, 52885, 81591, 73408, 73411, 20175, 20178, 73443, 73449, 73461, 20228, 73483, 20238, 20250, 73504, 44847, 73520, 44855, 20295, 81736, 44874, 73547, 73555, 20310, 73563, 73585, 81794, 8078, 73616, 73622, 73624, 20383, 20400, 73671, 8137, 73675, 8141, 73678, 73686, 20443]\n",
      "Number of unique mun for 2017: 31\n",
      "Mun not in MinTic databases\n",
      "[20517, 73770, 41006, 41013, 41016, 41020, 41026, 20550, 20570, 8296, 41078, 73854, 73861, 20614, 20621, 73870, 73873, 41132, 8372, 86219, 8421, 20710, 8433, 8436, 41206, 20750, 41244, 20770, 86320, 20787, 8520, 41298, 41306, 8549, 41319, 8558, 8560, 8573, 41349, 41357, 41359, 8606, 41378, 25001, 41396, 8634, 25019, 8638, 25035, 25040, 25053, 70110, 8675, 70124, 8685, 66045, 25086, 25095, 25099, 41483, 66075, 41503, 25120, 25123, 25126, 66088, 86568, 86569, 86571, 86573, 41518, 41524, 8758, 41530, 25148, 70204, 25151, 8770, 25154, 70215, 41548, 70221, 41551, 25168, 70230, 25175, 70233, 25178, 70235, 25181, 25183, 25200, 17013, 70265, 66170, 25214, 8832, 25224, 41615, 8849, 17042, 17050, 25245, 25258, 25260, 25269, 41660, 25279, 17088, 25281, 41668, 25286, 25288, 25290, 41676, 25293, 13006, 25295, 25297, 25299, 25307, 86749, 25312, 86755, 86757, 25317, 13030, 86760, 25320, 25322, 25324, 25326, 25328, 13042, 54003, 25335, 25339, 13052, 70400, 13062, 66318, 13074, 70418, 17174, 25368, 25372, 70429, 25377, 54051, 95015, 25386, 41770, 95025, 25394, 25398, 25402, 25407, 41791, 41797, 41799, 41801, 70473, 66383, 41807, 86865, 25426, 13140, 54099, 25430, 50006, 25436, 54109, 25438, 66400, 86885, 13160, 70508, 54125, 54128, 17272, 70523, 25473, 13188, 66440, 5002, 25483, 5004, 25486, 25488, 25489, 41872, 25491, 66456, 13212, 5021, 41885, 54172, 54174, 25506, 5030, 5031, 13222, 25513, 5034, 5036, 5038, 25518, 5040, 5042, 5044, 5045, 25524, 25530, 5051, 13244, 54206, 5055, 13248, 25535, 50110, 5059, 50124, 54223, 13268, 5079, 5086, 54239, 5088, 95200, 5091, 17380, 5093, 25572, 50150, 54245, 54250, 17388, 5101, 25580, 5107, 13300, 54261, 25592, 5113, 25594, 25596, 25599, 5120, 5125, 5129, 25612, 66572, 5134, 70670, 5138, 5142, 70678, 5145, 17433, 5147, 5148, 5150, 5154, 17442, 17444, 66594, 17446, 54313, 25645, 70702, 50223, 25649, 50226, 5172, 25653, 70708, 70713, 25658, 70717, 25662, 50245, 5190, 54344, 50251, 54347, 5197, 17486, 5206, 17495, 70742, 5209, 5212, 50270, 17513, 54377, 50287, 54385, 5234, 70771, 17524, 5237, 25718, 13430, 5240, 13433, 66682, 54398, 66687, 13440, 5250, 13442, 17541, 54405, 25736, 50313, 25740, 50318, 25743, 5264, 25745, 5266, 13458, 54418, 50325, 25754, 50330, 13468, 25758, 13473, 5282, 5284, 70820, 70823, 25769, 25772, 50350, 25777, 13490, 25779, 25781, 25785, 5306, 5308, 5310, 5313, 25793, 5315, 50370, 25797, 5318, 25799, 99524, 5321, 25805, 17614, 25807, 17616, 54480, 25815, 25817, 25823, 50400, 54498, 5347, 5353, 13549, 25839, 5360, 5361, 25841, 25843, 5364, 17653, 25845, 54518, 5368, 54520, 25851, 17662, 5376, 17665, 5380, 25862, 25867, 13580, 5390, 25871, 25873, 50450, 25875, 25878, 5400, 54553, 25885, 13600, 5411, 99624, 25898, 25899, 5425, 13620, 5440, 54599, 13647, 13650, 13654, 13655, 13657, 5467, 5475, 13667, 13670, 5480, 13673, 5483, 17777, 5490, 13683, 5495, 13688, 5501, 54660, 50568, 50573, 54670, 50577, 54673, 91540, 54680, 50590, 5541, 5543, 50606, 13744, 99773, 13760, 54720, 5576, 5579, 17867, 5585, 17873, 13780, 17877, 5591, 54743, 5604, 5607, 5615, 13810, 50680, 50683, 5628, 50686, 5631, 50689, 5642, 13836, 13838, 5647, 54800, 5649, 5652, 50711, 5656, 5658, 5659, 5660, 54810, 5664, 5665, 5667, 54820, 5670, 5674, 5679, 13873, 5686, 5690, 5697, 13894, 54871, 54874, 5736, 18029, 5756, 5761, 63111, 63130, 5789, 5790, 5792, 18094, 5809, 5819, 5837, 5842, 63190, 5847, 5854, 5856, 5858, 5861, 18150, 63212, 5873, 5885, 5887, 5890, 5893, 5895, 18205, 63272, 63302, 18247, 18256, 63401, 47030, 47053, 47058, 18410, 63470, 18460, 18479, 47161, 63548, 47170, 47189, 47205, 63594, 47245, 47258, 18592, 47268, 18610, 47288, 63690, 47318, 76020, 76036, 76041, 76054, 18753, 18756, 76100, 76109, 76111, 76113, 76122, 76126, 18785, 76130, 47460, 76147, 27006, 27025, 27050, 18860, 68013, 68020, 47541, 47545, 47551, 27073, 27075, 47555, 27077, 76233, 47570, 68051, 76243, 76246, 76248, 76250, 27099, 68077, 68079, 68081, 76275, 88564, 47605, 68092, 27135, 68101, 27150, 76306, 27160, 68121, 23068, 76318, 68132, 23079, 47660, 23090, 68147, 68152, 47675, 68160, 68162, 27205, 68167, 68169, 47692, 76364, 19022, 68176, 68179, 47703, 76377, 47707, 68190, 47720, 19050, 27245, 68207, 76400, 68209, 27250, 68211, 76403, 68217, 23162, 23168, 47745, 19075, 68229, 68235, 23182, 23189, 68245, 68250, 19100, 68255, 19110, 68264, 68266, 15022, 68271, 68276, 47798, 19130, 19137, 19142, 15047, 68296, 68298, 15051, 76497, 68307, 68318, 68320, 27361, 68322, 68324, 68327, 76520, 27372, 15087, 15090, 15092, 68344, 15097, 15104, 15106, 23300, 15109, 15114, 19212, 68368, 68370, 76563, 27413, 68377, 15131, 15135, 27425, 68385, 27430, 68397, 52019, 23350, 52022, 19256, 68406, 15162, 27450, 76606, 68418, 15172, 52036, 15176, 68425, 76616, 15180, 76622, 15183, 68432, 15185, 15187, 52051, 15189, 47960, 19290, 68444, 27491, 15204, 19300, 27495, 15212, 47980, 15215, 52079, 68464, 15218, 52083, 68468, 19318, 15223, 15224, 23417, 15226, 23419, 76670, 15232, 15236, 15238, 97161, 15244, 52110, 15248, 68498, 68500, 68502, 19355, 19364, 15272, 23464, 68522, 23466, 68524, 15276, 68533, 27580, 15293, 15296, 19392, 76736, 15299, 68547, 19397, 68549, 23500, 27600, 15317, 15322, 19418, 68572, 68573, 15325, 68575, 27615, 15332, 52203, 52207, 52210, 52215, 19450, 19455, 52224, 15362, 23555, 44035, 52227, 15367, 15368, 52233, 68615, 27660, 52240, 15377, 19473, 23570, 15380, 85010, 23574, 76823, 85015, 52250, 23580, 76828, 52254, 52256, 23586, 52258, 52260, 76834, 15401, 15403, 76845, 44078, 15407, 68655, 19513, 44090, 19517, 68669, 52287, 76863, 15425, 44098, 68673, 76869, 68679, 68682, 19532, 19533, 44110, 68684, 68686, 68689, 15442, 76890, 19548, 52317, 76892, 15455, 52320, 27745, 68705, 52323, 76895, 15464, 15466, 23660, 15469, 68720, 15476, 19573, 23670, 15480, 23672, 23675, 23678, 52352, 19585, 52354, 15491, 23682, 85125, 15494, 23686, 52356, 68745, 27787, 15500, 85136, 85139, 15507, 68755, 15511, 27800, 15514, 52378, 15516, 52381, 15518, 52385, 15522, 27810, 68770, 68773, 19622, 52390, 81065, 85162, 15531, 68780, 15533, 52399, 15537, 52405, 15542, 52411, 15550, 52418, 52427, 52435, 15572, 68820, 15580, 85225, 19693, 85230, 15599, 15600, 19698, 19701, 68855, 44279, 52473, 68861, 23807, 52480, 85250, 68867, 15621, 23815, 68872, 52490, 85263, 15632, 15638, 52506, 15646, 19743, 68895, 85279, 52520, 15660, 23855, 15664, 19760, 15667, 85300, 15673, 15676, 52540, 73024, 15681, 73026, 85315, 19780, 81220, 15686, 73030, 19785, 15690, 15693, 85325, 15696, 52560, 73043, 52565, 44378, 52573, 19807, 73055, 19809, 15720, 52585, 15723, 73067, 19821, 19824, 15740, 97666, 44420, 19845, 52612, 15753, 15755, 15757, 44430, 15759, 52621, 15761, 15762, 15763, 15764, 81300, 85400, 15774, 15776, 15778, 85410, 73124, 15790, 15798, 85430, 15804, 73148, 15806, 15808, 73152, 15810, 85440, 15814, 52678, 15816, 52683, 15820, 52685, 15822, 52687, 73168, 52693, 52694, 15832, 52696, 15835, 52699, 15837, 15839, 15842, 52720, 73200, 15861, 73217, 15879, 73226, 44560, 73236, 15897, 20011, 20013, 52786, 52788, 73268, 73270, 73275, 20032, 73283, 20045, 20060, 52835, 52838, 73319, 44650, 73347, 73349, 73352, 52885, 81591, 73408, 73411, 20175, 20178, 73443, 73449, 73461, 20228, 73483, 20238, 20250, 73504, 44847, 73520, 44855, 20295, 81736, 44874, 73547, 73555, 20310, 73563, 73585, 81794, 8078, 73616, 73622, 73624, 20383, 20400, 73671, 8137, 73675, 8141, 73678, 73686, 20443]\n",
      "Number of unique mun for 2018: 23\n",
      "Mun not in MinTic databases\n",
      "[20517, 73770, 41006, 41013, 41016, 41020, 41026, 20550, 20570, 8296, 41078, 73854, 73861, 20614, 20621, 73870, 73873, 41132, 8372, 86219, 8421, 20710, 8433, 8436, 41206, 20750, 41244, 20770, 86320, 20787, 8520, 41298, 41306, 8549, 41319, 8558, 8560, 8573, 41349, 41357, 41359, 8606, 41378, 25001, 41396, 8634, 25019, 8638, 25035, 25040, 25053, 70110, 8675, 70124, 8685, 66045, 25086, 25095, 25099, 41483, 66075, 41503, 25120, 25123, 25126, 66088, 86568, 86569, 86571, 86573, 41518, 41524, 8758, 41530, 25148, 70204, 25151, 8770, 25154, 70215, 41548, 70221, 41551, 25168, 70230, 25175, 70233, 25178, 70235, 25181, 25183, 25200, 17013, 70265, 66170, 25214, 8832, 25224, 41615, 8849, 17042, 17050, 25245, 25258, 25260, 25269, 99001, 41660, 25279, 17088, 25281, 41668, 25286, 25288, 25290, 41676, 25293, 13006, 25295, 25297, 25299, 25307, 86749, 25312, 86755, 86757, 25317, 13030, 86760, 25320, 25322, 25324, 25326, 25328, 13042, 54003, 25335, 25339, 13052, 70400, 13062, 66318, 13074, 70418, 17174, 25368, 95001, 25372, 70429, 25377, 54051, 95015, 25386, 41770, 95025, 25394, 25398, 25402, 25407, 41791, 41797, 41799, 41801, 70473, 66383, 41807, 86865, 25426, 13140, 54099, 25430, 50006, 25436, 54109, 25438, 66400, 86885, 13160, 70508, 54125, 54128, 17272, 91001, 70523, 25473, 13188, 66440, 5002, 25483, 5004, 25486, 25488, 25489, 41872, 25491, 66456, 13212, 5021, 41885, 54172, 54174, 25506, 5030, 5031, 13222, 25513, 5034, 5036, 5038, 25518, 5040, 5042, 5044, 5045, 25524, 25530, 5051, 13244, 54206, 5055, 13248, 25535, 50110, 5059, 50124, 54223, 13268, 5079, 5086, 54239, 5088, 95200, 5091, 17380, 5093, 25572, 50150, 54245, 54250, 17388, 5101, 25580, 5107, 13300, 54261, 25592, 5113, 25594, 25596, 25599, 5120, 5125, 5129, 25612, 66572, 5134, 70670, 5138, 5142, 70678, 5145, 17433, 5147, 5148, 5150, 5154, 17442, 17444, 66594, 17446, 54313, 25645, 70702, 50223, 25649, 50226, 5172, 25653, 70708, 70713, 25658, 70717, 25662, 50245, 5190, 54344, 50251, 54347, 5197, 17486, 5206, 17495, 70742, 5209, 5212, 50270, 17513, 54377, 50287, 54385, 5234, 70771, 17524, 5237, 25718, 13430, 5240, 13433, 66682, 54398, 66687, 13440, 5250, 13442, 17541, 54405, 25736, 50313, 25740, 50318, 25743, 5264, 25745, 5266, 13458, 54418, 50325, 25754, 50330, 13468, 25758, 13473, 5282, 5284, 70820, 70823, 25769, 25772, 50350, 25777, 13490, 25779, 25781, 25785, 5306, 5308, 5310, 5313, 25793, 5315, 50370, 25797, 5318, 25799, 99524, 5321, 25805, 17614, 25807, 17616, 54480, 25815, 25817, 25823, 50400, 54498, 5347, 5353, 13549, 25839, 5360, 5361, 25841, 25843, 5364, 17653, 25845, 54518, 5368, 54520, 25851, 17662, 5376, 17665, 5380, 25862, 25867, 13580, 5390, 25871, 25873, 50450, 25875, 25878, 5400, 54553, 25885, 13600, 5411, 99624, 25898, 25899, 5425, 13620, 5440, 54599, 13647, 13650, 13654, 13655, 13657, 5467, 5475, 13667, 13670, 5480, 13673, 5483, 17777, 5490, 13683, 5495, 13688, 5501, 54660, 50568, 50573, 54670, 50577, 54673, 91540, 54680, 50590, 5541, 5543, 50606, 13744, 99773, 13760, 54720, 5576, 5579, 17867, 5585, 17873, 13780, 17877, 5591, 54743, 5604, 5607, 5615, 13810, 50680, 50683, 5628, 50686, 5631, 50689, 5642, 13836, 13838, 5647, 54800, 5649, 5652, 50711, 5656, 5658, 5659, 5660, 54810, 5664, 5665, 5667, 54820, 5670, 5674, 5679, 13873, 5686, 5690, 5697, 13894, 54871, 54874, 5736, 18029, 5756, 5761, 63111, 63130, 5789, 5790, 5792, 18094, 5809, 5819, 5837, 5842, 63190, 5847, 5854, 5856, 5858, 5861, 18150, 63212, 5873, 5885, 5887, 5890, 5893, 5895, 18205, 63272, 63302, 18247, 18256, 63401, 47030, 47053, 47058, 18410, 63470, 18460, 18479, 47161, 63548, 47170, 47189, 47205, 63594, 47245, 47258, 18592, 47268, 18610, 47288, 63690, 47318, 76020, 76036, 76041, 76054, 18753, 18756, 76100, 76109, 76111, 76113, 76122, 76126, 18785, 76130, 47460, 76147, 27006, 27025, 27050, 18860, 68013, 68020, 47541, 47545, 47551, 27073, 27075, 47555, 27077, 76233, 47570, 68051, 76243, 76246, 76248, 76250, 27099, 68077, 68079, 68081, 76275, 88564, 47605, 68092, 27135, 68101, 27150, 76306, 27160, 68121, 23068, 76318, 68132, 23079, 47660, 23090, 68147, 68152, 47675, 68160, 68162, 27205, 68167, 68169, 47692, 76364, 19022, 68176, 68179, 47703, 76377, 47707, 68190, 47720, 19050, 27245, 68207, 76400, 68209, 27250, 68211, 76403, 68217, 23162, 23168, 47745, 19075, 68229, 68235, 23182, 23189, 68245, 68250, 19100, 68255, 19110, 68264, 68266, 15022, 68271, 68276, 47798, 19130, 19137, 19142, 15047, 68296, 68298, 15051, 76497, 68307, 68318, 68320, 27361, 68322, 68324, 68327, 76520, 97001, 27372, 15087, 15090, 15092, 68344, 15097, 15104, 15106, 23300, 15109, 15114, 19212, 68368, 68370, 76563, 27413, 68377, 15131, 15135, 27425, 68385, 27430, 68397, 52019, 23350, 52022, 19256, 68406, 15162, 27450, 76606, 68418, 15172, 52036, 15176, 68425, 76616, 15180, 76622, 15183, 68432, 15185, 15187, 52051, 15189, 47960, 19290, 68444, 27491, 15204, 19300, 27495, 15212, 47980, 15215, 52079, 68464, 15218, 52083, 68468, 19318, 15223, 15224, 23417, 15226, 23419, 76670, 15232, 15236, 15238, 97161, 15244, 52110, 15248, 68498, 68500, 68502, 19355, 19364, 15272, 23464, 68522, 23466, 68524, 15276, 68533, 27580, 15293, 15296, 19392, 76736, 15299, 68547, 19397, 68549, 23500, 27600, 15317, 15322, 19418, 68572, 68573, 15325, 68575, 27615, 15332, 52203, 52207, 52210, 52215, 19450, 19455, 52224, 15362, 23555, 44035, 52227, 15367, 15368, 52233, 85001, 68615, 27660, 52240, 15377, 19473, 23570, 15380, 85010, 23574, 76823, 85015, 52250, 23580, 76828, 52254, 52256, 23586, 52258, 52260, 76834, 15401, 15403, 76845, 44078, 15407, 68655, 19513, 44090, 19517, 68669, 52287, 76863, 15425, 44098, 68673, 76869, 68679, 68682, 19532, 19533, 44110, 68684, 68686, 68689, 15442, 76890, 19548, 52317, 76892, 15455, 52320, 27745, 68705, 52323, 76895, 15464, 81001, 15466, 23660, 15469, 68720, 15476, 19573, 23670, 15480, 23672, 23675, 23678, 52352, 19585, 52354, 15491, 23682, 85125, 15494, 23686, 52356, 68745, 27787, 15500, 85136, 85139, 15507, 68755, 15511, 27800, 15514, 52378, 15516, 52381, 15518, 52385, 15522, 27810, 68770, 68773, 19622, 52390, 81065, 85162, 15531, 68780, 15533, 52399, 15537, 52405, 15542, 52411, 15550, 52418, 52427, 52435, 15572, 68820, 15580, 85225, 19693, 85230, 15599, 15600, 19698, 19701, 68855, 44279, 52473, 68861, 23807, 52480, 85250, 68867, 15621, 23815, 68872, 52490, 85263, 15632, 15638, 52506, 15646, 19743, 68895, 85279, 52520, 15660, 23855, 15664, 19760, 15667, 85300, 15673, 15676, 52540, 73024, 15681, 73026, 85315, 19780, 81220, 15686, 73030, 19785, 15690, 15693, 85325, 15696, 52560, 73043, 52565, 44378, 52573, 19807, 73055, 19809, 15720, 52585, 15723, 73067, 19821, 19824, 15740, 97666, 44420, 19845, 52612, 15753, 15755, 15757, 44430, 15759, 52621, 15761, 15762, 15763, 15764, 81300, 85400, 15774, 15776, 15778, 85410, 73124, 15790, 15798, 85430, 15804, 73148, 15806, 15808, 73152, 15810, 85440, 15814, 52678, 15816, 52683, 15820, 52685, 15822, 52687, 73168, 52693, 52694, 15832, 52696, 15835, 52699, 15837, 15839, 15842, 52720, 73200, 15861, 73217, 15879, 73226, 44560, 73236, 15897, 20011, 20013, 52786, 52788, 73268, 73270, 73275, 20032, 73283, 20045, 20060, 52835, 52838, 73319, 44650, 73347, 73349, 73352, 52885, 81591, 73408, 73411, 20175, 20178, 73443, 73449, 73461, 20228, 73483, 20238, 20250, 73504, 44847, 73520, 94001, 44855, 20295, 81736, 44874, 73547, 73555, 20310, 73563, 73585, 81794, 8078, 73616, 73622, 73624, 20383, 20400, 73671, 8137, 73675, 8141, 73678, 73686, 20443, 86001]\n"
     ]
    }
   ],
   "source": [
    "# Using the custom function to check for missing municipalities\n",
    "check_mun(pov_1, municipios)"
   ]
  },
  {
   "cell_type": "code",
   "execution_count": 86,
   "id": "ed2861f7-41f1-4979-9449-99940971061a",
   "metadata": {},
   "outputs": [
    {
     "data": {
      "text/plain": [
       "array([2016, 2017, 2018], dtype=int64)"
      ]
     },
     "execution_count": 86,
     "metadata": {},
     "output_type": "execute_result"
    }
   ],
   "source": [
    "# Filtering the data by the variable selected\n",
    "pov_1 = poverty.loc[poverty.indicador.eq('coeficiente_de_gini')]\n",
    "pov_1.anio.unique()"
   ]
  },
  {
   "cell_type": "code",
   "execution_count": 87,
   "id": "6717640a-688a-485f-8c52-30f252131939",
   "metadata": {},
   "outputs": [
    {
     "name": "stdout",
     "output_type": "stream",
     "text": [
      "Number of unique mun for 2016: 31\n",
      "Mun not in MinTic databases\n",
      "[20517, 73770, 41006, 41013, 41016, 41020, 41026, 20550, 20570, 8296, 41078, 73854, 73861, 20614, 20621, 73870, 73873, 41132, 8372, 86219, 8421, 20710, 8433, 8436, 41206, 20750, 41244, 20770, 86320, 20787, 8520, 41298, 41306, 8549, 41319, 8558, 8560, 8573, 41349, 41357, 41359, 8606, 41378, 25001, 41396, 8634, 25019, 8638, 25035, 25040, 25053, 70110, 8675, 70124, 8685, 66045, 25086, 25095, 25099, 41483, 66075, 41503, 25120, 25123, 25126, 66088, 86568, 86569, 86571, 86573, 41518, 41524, 8758, 41530, 25148, 70204, 25151, 8770, 25154, 70215, 41548, 70221, 41551, 25168, 70230, 25175, 70233, 25178, 70235, 25181, 25183, 25200, 17013, 70265, 66170, 25214, 8832, 25224, 41615, 8849, 17042, 17050, 25245, 25258, 25260, 25269, 41660, 25279, 17088, 25281, 41668, 25286, 25288, 25290, 41676, 25293, 13006, 25295, 25297, 25299, 25307, 86749, 25312, 86755, 86757, 25317, 13030, 86760, 25320, 25322, 25324, 25326, 25328, 13042, 54003, 25335, 25339, 13052, 70400, 13062, 66318, 13074, 70418, 17174, 25368, 25372, 70429, 25377, 54051, 95015, 25386, 41770, 95025, 25394, 25398, 25402, 25407, 41791, 41797, 41799, 41801, 70473, 66383, 41807, 86865, 25426, 13140, 54099, 25430, 50006, 25436, 54109, 25438, 66400, 86885, 13160, 70508, 54125, 54128, 17272, 70523, 25473, 13188, 66440, 5002, 25483, 5004, 25486, 25488, 25489, 41872, 25491, 66456, 13212, 5021, 41885, 54172, 54174, 25506, 5030, 5031, 13222, 25513, 5034, 5036, 5038, 25518, 5040, 5042, 5044, 5045, 25524, 25530, 5051, 13244, 54206, 5055, 13248, 25535, 50110, 5059, 50124, 54223, 13268, 5079, 5086, 54239, 5088, 95200, 5091, 17380, 5093, 25572, 50150, 54245, 54250, 17388, 5101, 25580, 5107, 13300, 54261, 25592, 5113, 25594, 25596, 25599, 5120, 5125, 5129, 25612, 66572, 5134, 70670, 5138, 5142, 70678, 5145, 17433, 5147, 5148, 5150, 5154, 17442, 17444, 66594, 17446, 54313, 25645, 70702, 50223, 25649, 50226, 5172, 25653, 70708, 70713, 25658, 70717, 25662, 50245, 5190, 54344, 50251, 54347, 5197, 17486, 5206, 17495, 70742, 5209, 5212, 50270, 17513, 54377, 50287, 54385, 5234, 70771, 17524, 5237, 25718, 13430, 5240, 13433, 66682, 54398, 66687, 13440, 5250, 13442, 17541, 54405, 25736, 50313, 25740, 50318, 25743, 5264, 25745, 5266, 13458, 54418, 50325, 25754, 50330, 13468, 25758, 13473, 5282, 5284, 70820, 70823, 25769, 25772, 50350, 25777, 13490, 25779, 25781, 25785, 5306, 5308, 5310, 5313, 25793, 5315, 50370, 25797, 5318, 25799, 99524, 5321, 25805, 17614, 25807, 17616, 54480, 25815, 25817, 25823, 50400, 54498, 5347, 5353, 13549, 25839, 5360, 5361, 25841, 25843, 5364, 17653, 25845, 54518, 5368, 54520, 25851, 17662, 5376, 17665, 5380, 25862, 25867, 13580, 5390, 25871, 25873, 50450, 25875, 25878, 5400, 54553, 25885, 13600, 5411, 99624, 25898, 25899, 5425, 13620, 5440, 54599, 13647, 13650, 13654, 13655, 13657, 5467, 5475, 13667, 13670, 5480, 13673, 5483, 17777, 5490, 13683, 5495, 13688, 5501, 54660, 50568, 50573, 54670, 50577, 54673, 91540, 54680, 50590, 5541, 5543, 50606, 13744, 99773, 13760, 54720, 5576, 5579, 17867, 5585, 17873, 13780, 17877, 5591, 54743, 5604, 5607, 5615, 13810, 50680, 50683, 5628, 50686, 5631, 50689, 5642, 13836, 13838, 5647, 54800, 5649, 5652, 50711, 5656, 5658, 5659, 5660, 54810, 5664, 5665, 5667, 54820, 5670, 5674, 5679, 13873, 5686, 5690, 5697, 13894, 54871, 54874, 5736, 18029, 5756, 5761, 63111, 63130, 5789, 5790, 5792, 18094, 5809, 5819, 5837, 5842, 63190, 5847, 5854, 5856, 5858, 5861, 18150, 63212, 5873, 5885, 5887, 5890, 5893, 5895, 18205, 63272, 63302, 18247, 18256, 63401, 47030, 47053, 47058, 18410, 63470, 18460, 18479, 47161, 63548, 47170, 47189, 47205, 63594, 47245, 47258, 18592, 47268, 18610, 47288, 63690, 47318, 76020, 76036, 76041, 76054, 18753, 18756, 76100, 76109, 76111, 76113, 76122, 76126, 18785, 76130, 47460, 76147, 27006, 27025, 27050, 18860, 68013, 68020, 47541, 47545, 47551, 27073, 27075, 47555, 27077, 76233, 47570, 68051, 76243, 76246, 76248, 76250, 27099, 68077, 68079, 68081, 76275, 88564, 47605, 68092, 27135, 68101, 27150, 76306, 27160, 68121, 23068, 76318, 68132, 23079, 47660, 23090, 68147, 68152, 47675, 68160, 68162, 27205, 68167, 68169, 47692, 76364, 19022, 68176, 68179, 47703, 76377, 47707, 68190, 47720, 19050, 27245, 68207, 76400, 68209, 27250, 68211, 76403, 68217, 23162, 23168, 47745, 19075, 68229, 68235, 23182, 23189, 68245, 68250, 19100, 68255, 19110, 68264, 68266, 15022, 68271, 68276, 47798, 19130, 19137, 19142, 15047, 68296, 68298, 15051, 76497, 68307, 68318, 68320, 27361, 68322, 68324, 68327, 76520, 27372, 15087, 15090, 15092, 68344, 15097, 15104, 15106, 23300, 15109, 15114, 19212, 68368, 68370, 76563, 27413, 68377, 15131, 15135, 27425, 68385, 27430, 68397, 52019, 23350, 52022, 19256, 68406, 15162, 27450, 76606, 68418, 15172, 52036, 15176, 68425, 76616, 15180, 76622, 15183, 68432, 15185, 15187, 52051, 15189, 47960, 19290, 68444, 27491, 15204, 19300, 27495, 15212, 47980, 15215, 52079, 68464, 15218, 52083, 68468, 19318, 15223, 15224, 23417, 15226, 23419, 76670, 15232, 15236, 15238, 97161, 15244, 52110, 15248, 68498, 68500, 68502, 19355, 19364, 15272, 23464, 68522, 23466, 68524, 15276, 68533, 27580, 15293, 15296, 19392, 76736, 15299, 68547, 19397, 68549, 23500, 27600, 15317, 15322, 19418, 68572, 68573, 15325, 68575, 27615, 15332, 52203, 52207, 52210, 52215, 19450, 19455, 52224, 15362, 23555, 44035, 52227, 15367, 15368, 52233, 68615, 27660, 52240, 15377, 19473, 23570, 15380, 85010, 23574, 76823, 85015, 52250, 23580, 76828, 52254, 52256, 23586, 52258, 52260, 76834, 15401, 15403, 76845, 44078, 15407, 68655, 19513, 44090, 19517, 68669, 52287, 76863, 15425, 44098, 68673, 76869, 68679, 68682, 19532, 19533, 44110, 68684, 68686, 68689, 15442, 76890, 19548, 52317, 76892, 15455, 52320, 27745, 68705, 52323, 76895, 15464, 15466, 23660, 15469, 68720, 15476, 19573, 23670, 15480, 23672, 23675, 23678, 52352, 19585, 52354, 15491, 23682, 85125, 15494, 23686, 52356, 68745, 27787, 15500, 85136, 85139, 15507, 68755, 15511, 27800, 15514, 52378, 15516, 52381, 15518, 52385, 15522, 27810, 68770, 68773, 19622, 52390, 81065, 85162, 15531, 68780, 15533, 52399, 15537, 52405, 15542, 52411, 15550, 52418, 52427, 52435, 15572, 68820, 15580, 85225, 19693, 85230, 15599, 15600, 19698, 19701, 68855, 44279, 52473, 68861, 23807, 52480, 85250, 68867, 15621, 23815, 68872, 52490, 85263, 15632, 15638, 52506, 15646, 19743, 68895, 85279, 52520, 15660, 23855, 15664, 19760, 15667, 85300, 15673, 15676, 52540, 73024, 15681, 73026, 85315, 19780, 81220, 15686, 73030, 19785, 15690, 15693, 85325, 15696, 52560, 73043, 52565, 44378, 52573, 19807, 73055, 19809, 15720, 52585, 15723, 73067, 19821, 19824, 15740, 97666, 44420, 19845, 52612, 15753, 15755, 15757, 44430, 15759, 52621, 15761, 15762, 15763, 15764, 81300, 85400, 15774, 15776, 15778, 85410, 73124, 15790, 15798, 85430, 15804, 73148, 15806, 15808, 73152, 15810, 85440, 15814, 52678, 15816, 52683, 15820, 52685, 15822, 52687, 73168, 52693, 52694, 15832, 52696, 15835, 52699, 15837, 15839, 15842, 52720, 73200, 15861, 73217, 15879, 73226, 44560, 73236, 15897, 20011, 20013, 52786, 52788, 73268, 73270, 73275, 20032, 73283, 20045, 20060, 52835, 52838, 73319, 44650, 73347, 73349, 73352, 52885, 81591, 73408, 73411, 20175, 20178, 73443, 73449, 73461, 20228, 73483, 20238, 20250, 73504, 44847, 73520, 44855, 20295, 81736, 44874, 73547, 73555, 20310, 73563, 73585, 81794, 8078, 73616, 73622, 73624, 20383, 20400, 73671, 8137, 73675, 8141, 73678, 73686, 20443]\n",
      "Number of unique mun for 2017: 31\n",
      "Mun not in MinTic databases\n",
      "[20517, 73770, 41006, 41013, 41016, 41020, 41026, 20550, 20570, 8296, 41078, 73854, 73861, 20614, 20621, 73870, 73873, 41132, 8372, 86219, 8421, 20710, 8433, 8436, 41206, 20750, 41244, 20770, 86320, 20787, 8520, 41298, 41306, 8549, 41319, 8558, 8560, 8573, 41349, 41357, 41359, 8606, 41378, 25001, 41396, 8634, 25019, 8638, 25035, 25040, 25053, 70110, 8675, 70124, 8685, 66045, 25086, 25095, 25099, 41483, 66075, 41503, 25120, 25123, 25126, 66088, 86568, 86569, 86571, 86573, 41518, 41524, 8758, 41530, 25148, 70204, 25151, 8770, 25154, 70215, 41548, 70221, 41551, 25168, 70230, 25175, 70233, 25178, 70235, 25181, 25183, 25200, 17013, 70265, 66170, 25214, 8832, 25224, 41615, 8849, 17042, 17050, 25245, 25258, 25260, 25269, 41660, 25279, 17088, 25281, 41668, 25286, 25288, 25290, 41676, 25293, 13006, 25295, 25297, 25299, 25307, 86749, 25312, 86755, 86757, 25317, 13030, 86760, 25320, 25322, 25324, 25326, 25328, 13042, 54003, 25335, 25339, 13052, 70400, 13062, 66318, 13074, 70418, 17174, 25368, 25372, 70429, 25377, 54051, 95015, 25386, 41770, 95025, 25394, 25398, 25402, 25407, 41791, 41797, 41799, 41801, 70473, 66383, 41807, 86865, 25426, 13140, 54099, 25430, 50006, 25436, 54109, 25438, 66400, 86885, 13160, 70508, 54125, 54128, 17272, 70523, 25473, 13188, 66440, 5002, 25483, 5004, 25486, 25488, 25489, 41872, 25491, 66456, 13212, 5021, 41885, 54172, 54174, 25506, 5030, 5031, 13222, 25513, 5034, 5036, 5038, 25518, 5040, 5042, 5044, 5045, 25524, 25530, 5051, 13244, 54206, 5055, 13248, 25535, 50110, 5059, 50124, 54223, 13268, 5079, 5086, 54239, 5088, 95200, 5091, 17380, 5093, 25572, 50150, 54245, 54250, 17388, 5101, 25580, 5107, 13300, 54261, 25592, 5113, 25594, 25596, 25599, 5120, 5125, 5129, 25612, 66572, 5134, 70670, 5138, 5142, 70678, 5145, 17433, 5147, 5148, 5150, 5154, 17442, 17444, 66594, 17446, 54313, 25645, 70702, 50223, 25649, 50226, 5172, 25653, 70708, 70713, 25658, 70717, 25662, 50245, 5190, 54344, 50251, 54347, 5197, 17486, 5206, 17495, 70742, 5209, 5212, 50270, 17513, 54377, 50287, 54385, 5234, 70771, 17524, 5237, 25718, 13430, 5240, 13433, 66682, 54398, 66687, 13440, 5250, 13442, 17541, 54405, 25736, 50313, 25740, 50318, 25743, 5264, 25745, 5266, 13458, 54418, 50325, 25754, 50330, 13468, 25758, 13473, 5282, 5284, 70820, 70823, 25769, 25772, 50350, 25777, 13490, 25779, 25781, 25785, 5306, 5308, 5310, 5313, 25793, 5315, 50370, 25797, 5318, 25799, 99524, 5321, 25805, 17614, 25807, 17616, 54480, 25815, 25817, 25823, 50400, 54498, 5347, 5353, 13549, 25839, 5360, 5361, 25841, 25843, 5364, 17653, 25845, 54518, 5368, 54520, 25851, 17662, 5376, 17665, 5380, 25862, 25867, 13580, 5390, 25871, 25873, 50450, 25875, 25878, 5400, 54553, 25885, 13600, 5411, 99624, 25898, 25899, 5425, 13620, 5440, 54599, 13647, 13650, 13654, 13655, 13657, 5467, 5475, 13667, 13670, 5480, 13673, 5483, 17777, 5490, 13683, 5495, 13688, 5501, 54660, 50568, 50573, 54670, 50577, 54673, 91540, 54680, 50590, 5541, 5543, 50606, 13744, 99773, 13760, 54720, 5576, 5579, 17867, 5585, 17873, 13780, 17877, 5591, 54743, 5604, 5607, 5615, 13810, 50680, 50683, 5628, 50686, 5631, 50689, 5642, 13836, 13838, 5647, 54800, 5649, 5652, 50711, 5656, 5658, 5659, 5660, 54810, 5664, 5665, 5667, 54820, 5670, 5674, 5679, 13873, 5686, 5690, 5697, 13894, 54871, 54874, 5736, 18029, 5756, 5761, 63111, 63130, 5789, 5790, 5792, 18094, 5809, 5819, 5837, 5842, 63190, 5847, 5854, 5856, 5858, 5861, 18150, 63212, 5873, 5885, 5887, 5890, 5893, 5895, 18205, 63272, 63302, 18247, 18256, 63401, 47030, 47053, 47058, 18410, 63470, 18460, 18479, 47161, 63548, 47170, 47189, 47205, 63594, 47245, 47258, 18592, 47268, 18610, 47288, 63690, 47318, 76020, 76036, 76041, 76054, 18753, 18756, 76100, 76109, 76111, 76113, 76122, 76126, 18785, 76130, 47460, 76147, 27006, 27025, 27050, 18860, 68013, 68020, 47541, 47545, 47551, 27073, 27075, 47555, 27077, 76233, 47570, 68051, 76243, 76246, 76248, 76250, 27099, 68077, 68079, 68081, 76275, 88564, 47605, 68092, 27135, 68101, 27150, 76306, 27160, 68121, 23068, 76318, 68132, 23079, 47660, 23090, 68147, 68152, 47675, 68160, 68162, 27205, 68167, 68169, 47692, 76364, 19022, 68176, 68179, 47703, 76377, 47707, 68190, 47720, 19050, 27245, 68207, 76400, 68209, 27250, 68211, 76403, 68217, 23162, 23168, 47745, 19075, 68229, 68235, 23182, 23189, 68245, 68250, 19100, 68255, 19110, 68264, 68266, 15022, 68271, 68276, 47798, 19130, 19137, 19142, 15047, 68296, 68298, 15051, 76497, 68307, 68318, 68320, 27361, 68322, 68324, 68327, 76520, 27372, 15087, 15090, 15092, 68344, 15097, 15104, 15106, 23300, 15109, 15114, 19212, 68368, 68370, 76563, 27413, 68377, 15131, 15135, 27425, 68385, 27430, 68397, 52019, 23350, 52022, 19256, 68406, 15162, 27450, 76606, 68418, 15172, 52036, 15176, 68425, 76616, 15180, 76622, 15183, 68432, 15185, 15187, 52051, 15189, 47960, 19290, 68444, 27491, 15204, 19300, 27495, 15212, 47980, 15215, 52079, 68464, 15218, 52083, 68468, 19318, 15223, 15224, 23417, 15226, 23419, 76670, 15232, 15236, 15238, 97161, 15244, 52110, 15248, 68498, 68500, 68502, 19355, 19364, 15272, 23464, 68522, 23466, 68524, 15276, 68533, 27580, 15293, 15296, 19392, 76736, 15299, 68547, 19397, 68549, 23500, 27600, 15317, 15322, 19418, 68572, 68573, 15325, 68575, 27615, 15332, 52203, 52207, 52210, 52215, 19450, 19455, 52224, 15362, 23555, 44035, 52227, 15367, 15368, 52233, 68615, 27660, 52240, 15377, 19473, 23570, 15380, 85010, 23574, 76823, 85015, 52250, 23580, 76828, 52254, 52256, 23586, 52258, 52260, 76834, 15401, 15403, 76845, 44078, 15407, 68655, 19513, 44090, 19517, 68669, 52287, 76863, 15425, 44098, 68673, 76869, 68679, 68682, 19532, 19533, 44110, 68684, 68686, 68689, 15442, 76890, 19548, 52317, 76892, 15455, 52320, 27745, 68705, 52323, 76895, 15464, 15466, 23660, 15469, 68720, 15476, 19573, 23670, 15480, 23672, 23675, 23678, 52352, 19585, 52354, 15491, 23682, 85125, 15494, 23686, 52356, 68745, 27787, 15500, 85136, 85139, 15507, 68755, 15511, 27800, 15514, 52378, 15516, 52381, 15518, 52385, 15522, 27810, 68770, 68773, 19622, 52390, 81065, 85162, 15531, 68780, 15533, 52399, 15537, 52405, 15542, 52411, 15550, 52418, 52427, 52435, 15572, 68820, 15580, 85225, 19693, 85230, 15599, 15600, 19698, 19701, 68855, 44279, 52473, 68861, 23807, 52480, 85250, 68867, 15621, 23815, 68872, 52490, 85263, 15632, 15638, 52506, 15646, 19743, 68895, 85279, 52520, 15660, 23855, 15664, 19760, 15667, 85300, 15673, 15676, 52540, 73024, 15681, 73026, 85315, 19780, 81220, 15686, 73030, 19785, 15690, 15693, 85325, 15696, 52560, 73043, 52565, 44378, 52573, 19807, 73055, 19809, 15720, 52585, 15723, 73067, 19821, 19824, 15740, 97666, 44420, 19845, 52612, 15753, 15755, 15757, 44430, 15759, 52621, 15761, 15762, 15763, 15764, 81300, 85400, 15774, 15776, 15778, 85410, 73124, 15790, 15798, 85430, 15804, 73148, 15806, 15808, 73152, 15810, 85440, 15814, 52678, 15816, 52683, 15820, 52685, 15822, 52687, 73168, 52693, 52694, 15832, 52696, 15835, 52699, 15837, 15839, 15842, 52720, 73200, 15861, 73217, 15879, 73226, 44560, 73236, 15897, 20011, 20013, 52786, 52788, 73268, 73270, 73275, 20032, 73283, 20045, 20060, 52835, 52838, 73319, 44650, 73347, 73349, 73352, 52885, 81591, 73408, 73411, 20175, 20178, 73443, 73449, 73461, 20228, 73483, 20238, 20250, 73504, 44847, 73520, 44855, 20295, 81736, 44874, 73547, 73555, 20310, 73563, 73585, 81794, 8078, 73616, 73622, 73624, 20383, 20400, 73671, 8137, 73675, 8141, 73678, 73686, 20443]\n",
      "Number of unique mun for 2018: 23\n",
      "Mun not in MinTic databases\n",
      "[20517, 73770, 41006, 41013, 41016, 41020, 41026, 20550, 20570, 8296, 41078, 73854, 73861, 20614, 20621, 73870, 73873, 41132, 8372, 86219, 8421, 20710, 8433, 8436, 41206, 20750, 41244, 20770, 86320, 20787, 8520, 41298, 41306, 8549, 41319, 8558, 8560, 8573, 41349, 41357, 41359, 8606, 41378, 25001, 41396, 8634, 25019, 8638, 25035, 25040, 25053, 70110, 8675, 70124, 8685, 66045, 25086, 25095, 25099, 41483, 66075, 41503, 25120, 25123, 25126, 66088, 86568, 86569, 86571, 86573, 41518, 41524, 8758, 41530, 25148, 70204, 25151, 8770, 25154, 70215, 41548, 70221, 41551, 25168, 70230, 25175, 70233, 25178, 70235, 25181, 25183, 25200, 17013, 70265, 66170, 25214, 8832, 25224, 41615, 8849, 17042, 17050, 25245, 25258, 25260, 25269, 99001, 41660, 25279, 17088, 25281, 41668, 25286, 25288, 25290, 41676, 25293, 13006, 25295, 25297, 25299, 25307, 86749, 25312, 86755, 86757, 25317, 13030, 86760, 25320, 25322, 25324, 25326, 25328, 13042, 54003, 25335, 25339, 13052, 70400, 13062, 66318, 13074, 70418, 17174, 25368, 95001, 25372, 70429, 25377, 54051, 95015, 25386, 41770, 95025, 25394, 25398, 25402, 25407, 41791, 41797, 41799, 41801, 70473, 66383, 41807, 86865, 25426, 13140, 54099, 25430, 50006, 25436, 54109, 25438, 66400, 86885, 13160, 70508, 54125, 54128, 17272, 91001, 70523, 25473, 13188, 66440, 5002, 25483, 5004, 25486, 25488, 25489, 41872, 25491, 66456, 13212, 5021, 41885, 54172, 54174, 25506, 5030, 5031, 13222, 25513, 5034, 5036, 5038, 25518, 5040, 5042, 5044, 5045, 25524, 25530, 5051, 13244, 54206, 5055, 13248, 25535, 50110, 5059, 50124, 54223, 13268, 5079, 5086, 54239, 5088, 95200, 5091, 17380, 5093, 25572, 50150, 54245, 54250, 17388, 5101, 25580, 5107, 13300, 54261, 25592, 5113, 25594, 25596, 25599, 5120, 5125, 5129, 25612, 66572, 5134, 70670, 5138, 5142, 70678, 5145, 17433, 5147, 5148, 5150, 5154, 17442, 17444, 66594, 17446, 54313, 25645, 70702, 50223, 25649, 50226, 5172, 25653, 70708, 70713, 25658, 70717, 25662, 50245, 5190, 54344, 50251, 54347, 5197, 17486, 5206, 17495, 70742, 5209, 5212, 50270, 17513, 54377, 50287, 54385, 5234, 70771, 17524, 5237, 25718, 13430, 5240, 13433, 66682, 54398, 66687, 13440, 5250, 13442, 17541, 54405, 25736, 50313, 25740, 50318, 25743, 5264, 25745, 5266, 13458, 54418, 50325, 25754, 50330, 13468, 25758, 13473, 5282, 5284, 70820, 70823, 25769, 25772, 50350, 25777, 13490, 25779, 25781, 25785, 5306, 5308, 5310, 5313, 25793, 5315, 50370, 25797, 5318, 25799, 99524, 5321, 25805, 17614, 25807, 17616, 54480, 25815, 25817, 25823, 50400, 54498, 5347, 5353, 13549, 25839, 5360, 5361, 25841, 25843, 5364, 17653, 25845, 54518, 5368, 54520, 25851, 17662, 5376, 17665, 5380, 25862, 25867, 13580, 5390, 25871, 25873, 50450, 25875, 25878, 5400, 54553, 25885, 13600, 5411, 99624, 25898, 25899, 5425, 13620, 5440, 54599, 13647, 13650, 13654, 13655, 13657, 5467, 5475, 13667, 13670, 5480, 13673, 5483, 17777, 5490, 13683, 5495, 13688, 5501, 54660, 50568, 50573, 54670, 50577, 54673, 91540, 54680, 50590, 5541, 5543, 50606, 13744, 99773, 13760, 54720, 5576, 5579, 17867, 5585, 17873, 13780, 17877, 5591, 54743, 5604, 5607, 5615, 13810, 50680, 50683, 5628, 50686, 5631, 50689, 5642, 13836, 13838, 5647, 54800, 5649, 5652, 50711, 5656, 5658, 5659, 5660, 54810, 5664, 5665, 5667, 54820, 5670, 5674, 5679, 13873, 5686, 5690, 5697, 13894, 54871, 54874, 5736, 18029, 5756, 5761, 63111, 63130, 5789, 5790, 5792, 18094, 5809, 5819, 5837, 5842, 63190, 5847, 5854, 5856, 5858, 5861, 18150, 63212, 5873, 5885, 5887, 5890, 5893, 5895, 18205, 63272, 63302, 18247, 18256, 63401, 47030, 47053, 47058, 18410, 63470, 18460, 18479, 47161, 63548, 47170, 47189, 47205, 63594, 47245, 47258, 18592, 47268, 18610, 47288, 63690, 47318, 76020, 76036, 76041, 76054, 18753, 18756, 76100, 76109, 76111, 76113, 76122, 76126, 18785, 76130, 47460, 76147, 27006, 27025, 27050, 18860, 68013, 68020, 47541, 47545, 47551, 27073, 27075, 47555, 27077, 76233, 47570, 68051, 76243, 76246, 76248, 76250, 27099, 68077, 68079, 68081, 76275, 88564, 47605, 68092, 27135, 68101, 27150, 76306, 27160, 68121, 23068, 76318, 68132, 23079, 47660, 23090, 68147, 68152, 47675, 68160, 68162, 27205, 68167, 68169, 47692, 76364, 19022, 68176, 68179, 47703, 76377, 47707, 68190, 47720, 19050, 27245, 68207, 76400, 68209, 27250, 68211, 76403, 68217, 23162, 23168, 47745, 19075, 68229, 68235, 23182, 23189, 68245, 68250, 19100, 68255, 19110, 68264, 68266, 15022, 68271, 68276, 47798, 19130, 19137, 19142, 15047, 68296, 68298, 15051, 76497, 68307, 68318, 68320, 27361, 68322, 68324, 68327, 76520, 97001, 27372, 15087, 15090, 15092, 68344, 15097, 15104, 15106, 23300, 15109, 15114, 19212, 68368, 68370, 76563, 27413, 68377, 15131, 15135, 27425, 68385, 27430, 68397, 52019, 23350, 52022, 19256, 68406, 15162, 27450, 76606, 68418, 15172, 52036, 15176, 68425, 76616, 15180, 76622, 15183, 68432, 15185, 15187, 52051, 15189, 47960, 19290, 68444, 27491, 15204, 19300, 27495, 15212, 47980, 15215, 52079, 68464, 15218, 52083, 68468, 19318, 15223, 15224, 23417, 15226, 23419, 76670, 15232, 15236, 15238, 97161, 15244, 52110, 15248, 68498, 68500, 68502, 19355, 19364, 15272, 23464, 68522, 23466, 68524, 15276, 68533, 27580, 15293, 15296, 19392, 76736, 15299, 68547, 19397, 68549, 23500, 27600, 15317, 15322, 19418, 68572, 68573, 15325, 68575, 27615, 15332, 52203, 52207, 52210, 52215, 19450, 19455, 52224, 15362, 23555, 44035, 52227, 15367, 15368, 52233, 85001, 68615, 27660, 52240, 15377, 19473, 23570, 15380, 85010, 23574, 76823, 85015, 52250, 23580, 76828, 52254, 52256, 23586, 52258, 52260, 76834, 15401, 15403, 76845, 44078, 15407, 68655, 19513, 44090, 19517, 68669, 52287, 76863, 15425, 44098, 68673, 76869, 68679, 68682, 19532, 19533, 44110, 68684, 68686, 68689, 15442, 76890, 19548, 52317, 76892, 15455, 52320, 27745, 68705, 52323, 76895, 15464, 81001, 15466, 23660, 15469, 68720, 15476, 19573, 23670, 15480, 23672, 23675, 23678, 52352, 19585, 52354, 15491, 23682, 85125, 15494, 23686, 52356, 68745, 27787, 15500, 85136, 85139, 15507, 68755, 15511, 27800, 15514, 52378, 15516, 52381, 15518, 52385, 15522, 27810, 68770, 68773, 19622, 52390, 81065, 85162, 15531, 68780, 15533, 52399, 15537, 52405, 15542, 52411, 15550, 52418, 52427, 52435, 15572, 68820, 15580, 85225, 19693, 85230, 15599, 15600, 19698, 19701, 68855, 44279, 52473, 68861, 23807, 52480, 85250, 68867, 15621, 23815, 68872, 52490, 85263, 15632, 15638, 52506, 15646, 19743, 68895, 85279, 52520, 15660, 23855, 15664, 19760, 15667, 85300, 15673, 15676, 52540, 73024, 15681, 73026, 85315, 19780, 81220, 15686, 73030, 19785, 15690, 15693, 85325, 15696, 52560, 73043, 52565, 44378, 52573, 19807, 73055, 19809, 15720, 52585, 15723, 73067, 19821, 19824, 15740, 97666, 44420, 19845, 52612, 15753, 15755, 15757, 44430, 15759, 52621, 15761, 15762, 15763, 15764, 81300, 85400, 15774, 15776, 15778, 85410, 73124, 15790, 15798, 85430, 15804, 73148, 15806, 15808, 73152, 15810, 85440, 15814, 52678, 15816, 52683, 15820, 52685, 15822, 52687, 73168, 52693, 52694, 15832, 52696, 15835, 52699, 15837, 15839, 15842, 52720, 73200, 15861, 73217, 15879, 73226, 44560, 73236, 15897, 20011, 20013, 52786, 52788, 73268, 73270, 73275, 20032, 73283, 20045, 20060, 52835, 52838, 73319, 44650, 73347, 73349, 73352, 52885, 81591, 73408, 73411, 20175, 20178, 73443, 73449, 73461, 20228, 73483, 20238, 20250, 73504, 44847, 73520, 94001, 44855, 20295, 81736, 44874, 73547, 73555, 20310, 73563, 73585, 81794, 8078, 73616, 73622, 73624, 20383, 20400, 73671, 8137, 73675, 8141, 73678, 73686, 20443, 86001]\n"
     ]
    }
   ],
   "source": [
    "# Using the custom function to check for missing municipalities\n",
    "check_mun(pov_1, municipios)"
   ]
  },
  {
   "cell_type": "code",
   "execution_count": 88,
   "id": "8bd54e2f-909d-4060-a66c-94015c8ea0d5",
   "metadata": {},
   "outputs": [
    {
     "data": {
      "text/plain": [
       "array([2018], dtype=int64)"
      ]
     },
     "execution_count": 88,
     "metadata": {},
     "output_type": "execute_result"
    }
   ],
   "source": [
    "# Filtering the data by the variable selected\n",
    "pov_1 = poverty.loc[poverty.indicador.eq('indice_de_pobreza_multidimensional_-_ipm')]\n",
    "pov_1.anio.unique()"
   ]
  },
  {
   "cell_type": "markdown",
   "id": "8a69b438-0935-4166-95f4-6c072796f505",
   "metadata": {},
   "source": [
    "#### Presupuesto"
   ]
  },
  {
   "cell_type": "code",
   "execution_count": 90,
   "id": "e4056915-8d5a-4cdb-9c2b-3c1b17cbf6d5",
   "metadata": {},
   "outputs": [
    {
     "data": {
      "text/html": [
       "<div>\n",
       "<style scoped>\n",
       "    .dataframe tbody tr th:only-of-type {\n",
       "        vertical-align: middle;\n",
       "    }\n",
       "\n",
       "    .dataframe tbody tr th {\n",
       "        vertical-align: top;\n",
       "    }\n",
       "\n",
       "    .dataframe thead th {\n",
       "        text-align: right;\n",
       "    }\n",
       "</style>\n",
       "<table border=\"1\" class=\"dataframe\">\n",
       "  <thead>\n",
       "    <tr style=\"text-align: right;\">\n",
       "      <th></th>\n",
       "      <th>Unnamed: 0</th>\n",
       "      <th>codigo_departamento</th>\n",
       "      <th>departamento</th>\n",
       "      <th>codigo_entidad</th>\n",
       "      <th>entidad</th>\n",
       "      <th>dimension</th>\n",
       "      <th>subcategoria</th>\n",
       "      <th>indicador</th>\n",
       "      <th>dato_numerico</th>\n",
       "      <th>dato_cualitativo</th>\n",
       "      <th>anio</th>\n",
       "      <th>mes</th>\n",
       "      <th>fuente</th>\n",
       "      <th>unidad_de_medida</th>\n",
       "    </tr>\n",
       "  </thead>\n",
       "  <tbody>\n",
       "  </tbody>\n",
       "</table>\n",
       "</div>"
      ],
      "text/plain": [
       "Empty DataFrame\n",
       "Columns: [Unnamed: 0, codigo_departamento, departamento, codigo_entidad, entidad, dimension, subcategoria, indicador, dato_numerico, dato_cualitativo, anio, mes, fuente, unidad_de_medida]\n",
       "Index: []"
      ]
     },
     "execution_count": 90,
     "metadata": {},
     "output_type": "execute_result"
    }
   ],
   "source": [
    "# Loading and filtering the csv\n",
    "\n",
    "pres = pd.read_csv(terridata[14])\n",
    "pres = pres.loc[pres.codigo_entidad.isin(municipios)\n",
    "                & pres.anio.ge(2016)\n",
    "                & pres.anio.le(2019)]\n",
    "pres.head(1)"
   ]
  },
  {
   "cell_type": "code",
   "execution_count": 91,
   "id": "8c757c63-6f94-484d-aacf-3e13e85655ce",
   "metadata": {},
   "outputs": [
    {
     "data": {
      "text/plain": [
       "array([], dtype=int64)"
      ]
     },
     "execution_count": 91,
     "metadata": {},
     "output_type": "execute_result"
    }
   ],
   "source": [
    "# Checking the years where there is data\n",
    "\n",
    "anio = pres.anio.unique()\n",
    "anio.sort()\n",
    "anio"
   ]
  },
  {
   "cell_type": "markdown",
   "id": "ef1b629d-b594-4b7d-8c4e-586611d12b51",
   "metadata": {},
   "source": [
    "#### Salud"
   ]
  },
  {
   "cell_type": "code",
   "execution_count": 92,
   "id": "526cffbd-6704-472a-a6a8-7fd1c4405acc",
   "metadata": {},
   "outputs": [
    {
     "data": {
      "text/html": [
       "<div>\n",
       "<style scoped>\n",
       "    .dataframe tbody tr th:only-of-type {\n",
       "        vertical-align: middle;\n",
       "    }\n",
       "\n",
       "    .dataframe tbody tr th {\n",
       "        vertical-align: top;\n",
       "    }\n",
       "\n",
       "    .dataframe thead th {\n",
       "        text-align: right;\n",
       "    }\n",
       "</style>\n",
       "<table border=\"1\" class=\"dataframe\">\n",
       "  <thead>\n",
       "    <tr style=\"text-align: right;\">\n",
       "      <th></th>\n",
       "      <th>Unnamed: 0</th>\n",
       "      <th>codigo_departamento</th>\n",
       "      <th>departamento</th>\n",
       "      <th>codigo_entidad</th>\n",
       "      <th>entidad</th>\n",
       "      <th>dimension</th>\n",
       "      <th>subcategoria</th>\n",
       "      <th>indicador</th>\n",
       "      <th>dato_numerico</th>\n",
       "      <th>dato_cualitativo</th>\n",
       "      <th>anio</th>\n",
       "      <th>mes</th>\n",
       "      <th>fuente</th>\n",
       "      <th>unidad_de_medida</th>\n",
       "    </tr>\n",
       "  </thead>\n",
       "  <tbody>\n",
       "    <tr>\n",
       "      <th>4537</th>\n",
       "      <td>1299418</td>\n",
       "      <td>97</td>\n",
       "      <td>vaupes</td>\n",
       "      <td>97161</td>\n",
       "      <td>caruru</td>\n",
       "      <td>salud</td>\n",
       "      <td>aseguramiento</td>\n",
       "      <td>afiliados_al_regimen_contributivo</td>\n",
       "      <td>97.0</td>\n",
       "      <td>NaN</td>\n",
       "      <td>2016</td>\n",
       "      <td>12</td>\n",
       "      <td>ministerio_de_salud_y_proteccion_social</td>\n",
       "      <td>personas</td>\n",
       "    </tr>\n",
       "  </tbody>\n",
       "</table>\n",
       "</div>"
      ],
      "text/plain": [
       "      Unnamed: 0  codigo_departamento departamento  codigo_entidad entidad  \\\n",
       "4537     1299418                   97       vaupes           97161  caruru   \n",
       "\n",
       "     dimension   subcategoria                          indicador  \\\n",
       "4537     salud  aseguramiento  afiliados_al_regimen_contributivo   \n",
       "\n",
       "      dato_numerico  dato_cualitativo  anio  mes  \\\n",
       "4537           97.0               NaN  2016   12   \n",
       "\n",
       "                                       fuente unidad_de_medida  \n",
       "4537  ministerio_de_salud_y_proteccion_social         personas  "
      ]
     },
     "execution_count": 92,
     "metadata": {},
     "output_type": "execute_result"
    }
   ],
   "source": [
    "# Loading and filtering the csv\n",
    "\n",
    "salud = pd.read_csv(terridata[15])\n",
    "salud = salud.loc[salud.codigo_entidad.isin(municipios)\n",
    "                  & salud.anio.ge(2016)\n",
    "                  & salud.anio.le(2019)]\n",
    "salud.head(1)"
   ]
  },
  {
   "cell_type": "code",
   "execution_count": 93,
   "id": "bfcfa254-0faa-4192-85d5-cab0fbf1320f",
   "metadata": {},
   "outputs": [
    {
     "data": {
      "text/plain": [
       "array([2016, 2017, 2018, 2019], dtype=int64)"
      ]
     },
     "execution_count": 93,
     "metadata": {},
     "output_type": "execute_result"
    }
   ],
   "source": [
    "# Checking the years where there is data\n",
    "\n",
    "anio = salud.anio.unique()\n",
    "anio.sort()\n",
    "anio"
   ]
  },
  {
   "cell_type": "code",
   "execution_count": 94,
   "id": "9d64b4ca-7e1a-4051-a698-1937b8db54c8",
   "metadata": {},
   "outputs": [
    {
     "data": {
      "text/plain": [
       "array(['afiliados_al_regimen_contributivo',\n",
       "       'afiliados_al_regimen_subsidado',\n",
       "       'cobertura_del_regimen_subsidiado',\n",
       "       'afiliados_a_regimenes_especiales',\n",
       "       'poblacion_pobre_no_atendida_-_ppna_', 'afiliados_al_sgsss',\n",
       "       'tasa_de_mortalidad_(x_cada_1.000_habitantes)',\n",
       "       'razon_de_mortalidad_materna_a_42_dias',\n",
       "       'tasa_de_mortalidad_infantil_en_menores_de_1_anio_(x_cada_1.000_nacidos_vivos)',\n",
       "       'tasa_de_fecundidad_(x_cada_1.000_mujeres_en_edad_fertil)',\n",
       "       'cobertura_vacunacion_pentavalente_en_menores_de_1_anio',\n",
       "       'porcentaje_de_nacidos_vivos_con_bajo_peso_al_nacer',\n",
       "       'porcentaje_de_nacidos_vivos_con_4_o_mas_consultas_de_control_prenatal',\n",
       "       'porcentaje_de_nacidos_vivos_hijos_de_mujeres_menores_de_14_anios',\n",
       "       'promedio_de_controles_prenatales',\n",
       "       'porcentaje_de_nacidos_vivos_hijos_de_mujeres_de_14_a_17_anios',\n",
       "       'porcentaje_de_nacidos_vivos_hijos_de_mujeres_de_18_a_26_anios',\n",
       "       'tasa_de_fecundidad_especifica_en_mujeres_de_10_a_14_anios',\n",
       "       'tasa_de_fecundidad_especifica_en_mujeres_de_10_a_19_anios',\n",
       "       'tasa_de_mortalidad_infantil_en_menores_de_5_anios_',\n",
       "       'mortalidad_en_menores_de_5_anios_por_enfermedad_diarreica_aguda_(eda)',\n",
       "       'mortalidad_en_menores_de_5_anios_por_infeccion_respiratoria_aguda_(ira)',\n",
       "       'mortalidad_por_desnutricion_en_menores_de_5_anios',\n",
       "       'cobertura_de_vacunacion_dpt',\n",
       "       'cobertuna_de_vacunacion_triple_viral',\n",
       "       'tasa_ajustada_de_mortalidad_por_accidentes_de_transporte_terrestre',\n",
       "       'tasa_ajustada_de_mortalidad_por_accidentes_de_transporte_terrestre_-_hombres',\n",
       "       'tasa_ajustada_de_mortalidad_por_accidentes_de_transporte_terrestre_-_mujeres',\n",
       "       'tasa_ajustada_de_mortalidad_por_tumor_maligno_de_la_mama_de_la_mujer_',\n",
       "       'tasa_ajustada_de_mortalidad_por_tumor_maligno_del_cuello_del_utero',\n",
       "       'tasa_ajustada_de_mortalidad_por_tumor_maligno_de_la_prostata',\n",
       "       'tasa_ajustada_de_mortalidad_por_lesiones_autoinfligidas_intencionalmente_(suicidios)',\n",
       "       'tasa_ajustada_de_mortalidad_por_lesiones_autoinfligidas_intencionalmente_(suicidios)_-_hombre',\n",
       "       'tasa_ajustada_de_mortalidad_por_lesiones_autoinfligidas_intencionalmente_(suicidios)_-_mujer',\n",
       "       'incidencia_del_vih', 'incidencia_del_vih_-_hombre',\n",
       "       'incidencia_del_vih_-_mujer', 'incidencia_de_la_tuberculosis',\n",
       "       'tasa_de_fecundidad_en_mujeres_entre_15_y_19_anios',\n",
       "       'tasa_de_mortalidad_neonatal', 'incidencia_del_dengue',\n",
       "       'satisfaccion_con_el_servicio_de_salud_-_algo_insatisfecho',\n",
       "       'satisfaccion_con_el_servicio_de_salud_-_algo_satisfecho',\n",
       "       'satisfaccion_con_el_servicio_de_salud_-_muy_insatisfecho',\n",
       "       'satisfaccion_con_el_servicio_de_salud_-_muy_satisfecho',\n",
       "       'satisfaccion_con_el_servicio_de_salud_-_ni_satisfecho_ni_insatisfecho',\n",
       "       'satisfaccion_con_el_servicio_de_salud_-_no_recibio_servicio_de_salud'],\n",
       "      dtype=object)"
      ]
     },
     "execution_count": 94,
     "metadata": {},
     "output_type": "execute_result"
    }
   ],
   "source": [
    "# Variables in the dataset\n",
    "\n",
    "salud.indicador.unique()"
   ]
  },
  {
   "cell_type": "code",
   "execution_count": 95,
   "id": "4f2dc85a-f2ef-41fa-81ca-e8bc8b909b0f",
   "metadata": {},
   "outputs": [
    {
     "data": {
      "text/plain": [
       "array([2017, 2019], dtype=int64)"
      ]
     },
     "execution_count": 95,
     "metadata": {},
     "output_type": "execute_result"
    }
   ],
   "source": [
    "# Filtering the data by the variable selected\n",
    "salud_1 = salud.loc[salud.indicador.eq('poblacion_pobre_no_atendida_-_ppna_')]\n",
    "salud_1.anio.unique()"
   ]
  },
  {
   "cell_type": "code",
   "execution_count": 96,
   "id": "f3dd292c-c806-4679-91dd-8c6f37cfa619",
   "metadata": {},
   "outputs": [
    {
     "data": {
      "text/plain": [
       "array([2016, 2017, 2018, 2019], dtype=int64)"
      ]
     },
     "execution_count": 96,
     "metadata": {},
     "output_type": "execute_result"
    }
   ],
   "source": [
    "# Filtering the data by the variable selected\n",
    "salud_1 = salud.loc[salud.indicador.eq('afiliados_al_regimen_contributivo')]\n",
    "salud_1.anio.unique()"
   ]
  },
  {
   "cell_type": "code",
   "execution_count": 97,
   "id": "c4b33cc9-aac8-4c99-b494-1248955ddeb6",
   "metadata": {},
   "outputs": [
    {
     "name": "stdout",
     "output_type": "stream",
     "text": [
      "Number of unique mun for 2016: 1101\n",
      "Mun not in MinTic databases\n",
      "[]\n",
      "Number of unique mun for 2017: 1101\n",
      "Mun not in MinTic databases\n",
      "[]\n",
      "Number of unique mun for 2018: 1101\n",
      "Mun not in MinTic databases\n",
      "[]\n",
      "Number of unique mun for 2019: 1101\n",
      "Mun not in MinTic databases\n",
      "[]\n"
     ]
    }
   ],
   "source": [
    "# Using the custom function to check for missing municipalities\n",
    "check_mun(salud_1, municipios)"
   ]
  },
  {
   "cell_type": "code",
   "execution_count": 98,
   "id": "c808960f-945f-4be9-81ae-5b144dc929c6",
   "metadata": {},
   "outputs": [
    {
     "data": {
      "text/plain": [
       "array([2016, 2017, 2018, 2019], dtype=int64)"
      ]
     },
     "execution_count": 98,
     "metadata": {},
     "output_type": "execute_result"
    }
   ],
   "source": [
    "# Filtering the data by the variable selected\n",
    "salud_2 = salud.loc[salud.indicador.eq('afiliados_al_regimen_subsidado')]\n",
    "salud_2.anio.unique()"
   ]
  },
  {
   "cell_type": "code",
   "execution_count": 99,
   "id": "e8f05095-f0d7-40a0-9055-9c3ecb876ac9",
   "metadata": {},
   "outputs": [
    {
     "name": "stdout",
     "output_type": "stream",
     "text": [
      "Number of unique mun for 2016: 1101\n",
      "Mun not in MinTic databases\n",
      "[]\n",
      "Number of unique mun for 2017: 1101\n",
      "Mun not in MinTic databases\n",
      "[]\n",
      "Number of unique mun for 2018: 1101\n",
      "Mun not in MinTic databases\n",
      "[]\n",
      "Number of unique mun for 2019: 1101\n",
      "Mun not in MinTic databases\n",
      "[]\n"
     ]
    }
   ],
   "source": [
    "# Using the custom function to check for missing municipalities\n",
    "check_mun(salud_2, municipios)"
   ]
  },
  {
   "cell_type": "code",
   "execution_count": 100,
   "id": "b94c0790-22e3-41b9-b719-baed05c5e339",
   "metadata": {},
   "outputs": [
    {
     "data": {
      "text/plain": [
       "array([2016, 2017, 2018, 2019], dtype=int64)"
      ]
     },
     "execution_count": 100,
     "metadata": {},
     "output_type": "execute_result"
    }
   ],
   "source": [
    "# Filtering the data by the variable selected\n",
    "salud_3 = salud.loc[salud.indicador.eq('afiliados_a_regimenes_especiales')]\n",
    "salud_3.anio.unique()"
   ]
  },
  {
   "cell_type": "code",
   "execution_count": 101,
   "id": "74ec57f6-2d15-435b-956b-65be5114aef7",
   "metadata": {},
   "outputs": [
    {
     "name": "stdout",
     "output_type": "stream",
     "text": [
      "Number of unique mun for 2016: 1101\n",
      "Mun not in MinTic databases\n",
      "[]\n",
      "Number of unique mun for 2017: 1101\n",
      "Mun not in MinTic databases\n",
      "[]\n",
      "Number of unique mun for 2018: 1101\n",
      "Mun not in MinTic databases\n",
      "[]\n",
      "Number of unique mun for 2019: 1101\n",
      "Mun not in MinTic databases\n",
      "[]\n"
     ]
    }
   ],
   "source": [
    "# Using the custom function to check for missing municipalities\n",
    "check_mun(salud_3, municipios)"
   ]
  },
  {
   "cell_type": "code",
   "execution_count": 102,
   "id": "c8587323-ea8f-4cd9-a826-da5ac2d10faf",
   "metadata": {},
   "outputs": [
    {
     "data": {
      "text/plain": [
       "array([2016, 2017, 2019], dtype=int64)"
      ]
     },
     "execution_count": 102,
     "metadata": {},
     "output_type": "execute_result"
    }
   ],
   "source": [
    "# Filtering the data by the variable selected\n",
    "salud_4 = salud.loc[salud.indicador.eq('cobertura_del_regimen_subsidiado')]\n",
    "salud_4.anio.unique()"
   ]
  },
  {
   "cell_type": "markdown",
   "id": "f4f342e1-ea09-4391-8ce2-81158f1eafd9",
   "metadata": {},
   "source": [
    "#### Seguridad Maritima"
   ]
  },
  {
   "cell_type": "markdown",
   "id": "c8a51528-d440-40e2-85ac-35680ac8df43",
   "metadata": {},
   "source": [
    "Not relevant for most of the municipalities."
   ]
  },
  {
   "cell_type": "markdown",
   "id": "a6f7aeeb-a1bd-48a5-9a11-f8c6c58a175f",
   "metadata": {},
   "source": [
    "#### Vivienda y Acceso a Servicios Publicos"
   ]
  },
  {
   "cell_type": "code",
   "execution_count": 104,
   "id": "7b562242-c319-42e9-b9c7-f44cc02eda98",
   "metadata": {},
   "outputs": [
    {
     "data": {
      "text/html": [
       "<div>\n",
       "<style scoped>\n",
       "    .dataframe tbody tr th:only-of-type {\n",
       "        vertical-align: middle;\n",
       "    }\n",
       "\n",
       "    .dataframe tbody tr th {\n",
       "        vertical-align: top;\n",
       "    }\n",
       "\n",
       "    .dataframe thead th {\n",
       "        text-align: right;\n",
       "    }\n",
       "</style>\n",
       "<table border=\"1\" class=\"dataframe\">\n",
       "  <thead>\n",
       "    <tr style=\"text-align: right;\">\n",
       "      <th></th>\n",
       "      <th>Unnamed: 0</th>\n",
       "      <th>codigo_departamento</th>\n",
       "      <th>departamento</th>\n",
       "      <th>codigo_entidad</th>\n",
       "      <th>entidad</th>\n",
       "      <th>dimension</th>\n",
       "      <th>subcategoria</th>\n",
       "      <th>indicador</th>\n",
       "      <th>dato_numerico</th>\n",
       "      <th>dato_cualitativo</th>\n",
       "      <th>anio</th>\n",
       "      <th>mes</th>\n",
       "      <th>fuente</th>\n",
       "      <th>unidad_de_medida</th>\n",
       "    </tr>\n",
       "  </thead>\n",
       "  <tbody>\n",
       "    <tr>\n",
       "      <th>5670</th>\n",
       "      <td>833390</td>\n",
       "      <td>17</td>\n",
       "      <td>caldas</td>\n",
       "      <td>17486</td>\n",
       "      <td>neira</td>\n",
       "      <td>vivienda_y_acceso_a_servicios_publicos</td>\n",
       "      <td>vivienda_y_acceso_a_servicios_publicos</td>\n",
       "      <td>cobertura_de_energia_electrica_rural</td>\n",
       "      <td>99.74</td>\n",
       "      <td>NaN</td>\n",
       "      <td>2016</td>\n",
       "      <td>12</td>\n",
       "      <td>upme</td>\n",
       "      <td>porcentaje_(el_valor_esta_multiplicado_por_100)</td>\n",
       "    </tr>\n",
       "  </tbody>\n",
       "</table>\n",
       "</div>"
      ],
      "text/plain": [
       "      Unnamed: 0  codigo_departamento departamento  codigo_entidad entidad  \\\n",
       "5670      833390                   17       caldas           17486   neira   \n",
       "\n",
       "                                   dimension  \\\n",
       "5670  vivienda_y_acceso_a_servicios_publicos   \n",
       "\n",
       "                                subcategoria  \\\n",
       "5670  vivienda_y_acceso_a_servicios_publicos   \n",
       "\n",
       "                                 indicador  dato_numerico  dato_cualitativo  \\\n",
       "5670  cobertura_de_energia_electrica_rural          99.74               NaN   \n",
       "\n",
       "      anio  mes fuente                                 unidad_de_medida  \n",
       "5670  2016   12   upme  porcentaje_(el_valor_esta_multiplicado_por_100)  "
      ]
     },
     "execution_count": 104,
     "metadata": {},
     "output_type": "execute_result"
    }
   ],
   "source": [
    "# Loading and filtering the csv\n",
    "\n",
    "v_ser = pd.read_csv(terridata[17])\n",
    "v_ser = v_ser.loc[v_ser.codigo_entidad.isin(municipios)\n",
    "                  & v_ser.anio.ge(2016)\n",
    "                  & v_ser.anio.le(2019)]\n",
    "v_ser.head(1)"
   ]
  },
  {
   "cell_type": "code",
   "execution_count": 105,
   "id": "abecd5c5-5d3d-4d6c-9b87-6fc19e149505",
   "metadata": {},
   "outputs": [
    {
     "data": {
      "text/plain": [
       "array([2016, 2017, 2018, 2019], dtype=int64)"
      ]
     },
     "execution_count": 105,
     "metadata": {},
     "output_type": "execute_result"
    }
   ],
   "source": [
    "# Checking the years where there is data\n",
    "\n",
    "anio = v_ser.anio.unique()\n",
    "anio.sort()\n",
    "anio"
   ]
  },
  {
   "cell_type": "code",
   "execution_count": 106,
   "id": "adef2e6b-6efd-4de8-a995-a41879714024",
   "metadata": {},
   "outputs": [
    {
     "data": {
      "text/plain": [
       "array(['cobertura_de_energia_electrica_rural',\n",
       "       'penetracion_de_banda_ancha', 'cobertura_de_acueducto_(censo)',\n",
       "       'cobertura_de_acueducto_(rec)',\n",
       "       'cobertura_de_alcantarillado_(censo)',\n",
       "       'cobertura_de_alcantarillado_(rec)',\n",
       "       'deficit_cualitativo_de_vivienda_(censo)',\n",
       "       'deficit_cuantitativo_de_vivienda_(censo)',\n",
       "       'cobertura_de_acueducto_urbana_(rec)',\n",
       "       'cobertura_de_acueducto_rural_(rec)',\n",
       "       'cobertura_de_acueducto_urbana_(censo)',\n",
       "       'cobertura_de_acueducto_rural_(censo)',\n",
       "       'cobertura_de_alcantarillado_urbana_(rec)',\n",
       "       'cobertura_de_alcantarillado_rural_(rec)',\n",
       "       'cobertura_de_alcantarillado_urbana_(censo)',\n",
       "       'cobertura_de_alcantarillado_rural_(censo)',\n",
       "       'cobertura_de_aseo_(rec)', 'cobertura_de_aseo_(censo)',\n",
       "       'cobertura_de_aseo_urbana_(rec)', 'cobertura_de_aseo_rural_(rec)',\n",
       "       'cobertura_de_energia_electrica_(censo)',\n",
       "       'cobertura_de_energia_electrica_urbana_(censo)',\n",
       "       'cobertura_de_energia_electrica_rural_(censo)',\n",
       "       'cobertura_de_gas_natural_(censo)',\n",
       "       'cobertura_gas_natural_urbano_(censo)',\n",
       "       'cobertura_de_gas_natural_rural_(censo)',\n",
       "       'cobertura_de_aseo_urbana_(censo)',\n",
       "       'cobertura_de_aseo_rural_(censo)', 'cobertura_de_internet_(censo)',\n",
       "       'cobertura_de_internet_urbana_(censo)',\n",
       "       'cobertura_de_internet_rural_(censo)'], dtype=object)"
      ]
     },
     "execution_count": 106,
     "metadata": {},
     "output_type": "execute_result"
    }
   ],
   "source": [
    "# Variables in the dataset\n",
    "\n",
    "v_ser.indicador.unique()"
   ]
  },
  {
   "cell_type": "code",
   "execution_count": 107,
   "id": "4da533a8-9064-4882-b137-91b3a029133a",
   "metadata": {},
   "outputs": [
    {
     "data": {
      "text/plain": [
       "array([2016, 2017, 2018, 2019], dtype=int64)"
      ]
     },
     "execution_count": 107,
     "metadata": {},
     "output_type": "execute_result"
    }
   ],
   "source": [
    "# Filtering the data by the variable selected\n",
    "v_ser_1 = v_ser.loc[v_ser.indicador.eq('penetracion_de_banda_ancha')]\n",
    "v_ser_1.anio.unique()"
   ]
  },
  {
   "cell_type": "code",
   "execution_count": 108,
   "id": "e0d0518b-6fbb-4484-985a-bfb354e1a33f",
   "metadata": {},
   "outputs": [
    {
     "name": "stdout",
     "output_type": "stream",
     "text": [
      "Number of unique mun for 2016: 1101\n",
      "Mun not in MinTic databases\n",
      "[]\n",
      "Number of unique mun for 2017: 1101\n",
      "Mun not in MinTic databases\n",
      "[]\n",
      "Number of unique mun for 2018: 1101\n",
      "Mun not in MinTic databases\n",
      "[]\n",
      "Number of unique mun for 2019: 1101\n",
      "Mun not in MinTic databases\n",
      "[]\n"
     ]
    }
   ],
   "source": [
    "check_mun(v_ser_1, municipios)"
   ]
  },
  {
   "cell_type": "code",
   "execution_count": 109,
   "id": "2e48a8c7-39d9-4572-9e44-74cf45a9d7f0",
   "metadata": {},
   "outputs": [
    {
     "data": {
      "text/plain": [
       "array([2018], dtype=int64)"
      ]
     },
     "execution_count": 109,
     "metadata": {},
     "output_type": "execute_result"
    }
   ],
   "source": [
    "# Filtering the data by the variable selected\n",
    "v_ser_2 = v_ser.loc[v_ser.indicador.eq('cobertura_de_internet_(censo)')]\n",
    "v_ser_2.anio.unique()"
   ]
  }
 ],
 "metadata": {
  "kernelspec": {
   "display_name": "Python 3 (ipykernel)",
   "language": "python",
   "name": "python3"
  },
  "language_info": {
   "codemirror_mode": {
    "name": "ipython",
    "version": 3
   },
   "file_extension": ".py",
   "mimetype": "text/x-python",
   "name": "python",
   "nbconvert_exporter": "python",
   "pygments_lexer": "ipython3",
   "version": "3.9.6"
  }
 },
 "nbformat": 4,
 "nbformat_minor": 5
}
