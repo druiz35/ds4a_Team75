{
 "cells": [
  {
   "cell_type": "markdown",
   "source": [
    "# Map options with px and folium for Dash"
   ],
   "metadata": {}
  },
  {
   "cell_type": "code",
   "execution_count": 1,
   "source": [
    "import pandas as pd\n",
    "import json\n",
    "import geopandas as gpd\n",
    "import plotly.express as px\n",
    "import folium\n",
    "pd.options.display.max_columns=None"
   ],
   "outputs": [],
   "metadata": {}
  },
  {
   "cell_type": "code",
   "execution_count": 2,
   "source": [
    "investments = pd.read_csv(\"../data/mintic_investments_clean.csv\")"
   ],
   "outputs": [],
   "metadata": {}
  },
  {
   "cell_type": "markdown",
   "source": [
    "We remove the departments classified as national and international"
   ],
   "metadata": {}
  },
  {
   "cell_type": "code",
   "execution_count": 3,
   "source": [
    "investments_1 = investments.copy()\n",
    "investments_1 = investments[~investments.departame_cod.isin(['0', 'in'])]\n",
    "investments_1['departame_cod']= investments_1['departame_cod'].astype('int64')\n",
    "investments_1.head(5) "
   ],
   "outputs": [
    {
     "output_type": "stream",
     "name": "stderr",
     "text": [
      "<ipython-input-3-f001c735c633>:5: SettingWithCopyWarning: \n",
      "A value is trying to be set on a copy of a slice from a DataFrame.\n",
      "Try using .loc[row_indexer,col_indexer] = value instead\n",
      "\n",
      "See the caveats in the documentation: https://pandas.pydata.org/pandas-docs/stable/user_guide/indexing.html#returning-a-view-versus-a-copy\n",
      "  investments_1['departame_cod']= investments_1['departame_cod'].astype('int64')\n"
     ]
    },
    {
     "output_type": "execute_result",
     "data": {
      "text/plain": [
       "   anio_corte fecha_corte departame_nombre  departame_cod municipio_nombre  \\\n",
       "0        2020  2020-12-31           bogota             11      bogota_d.c.   \n",
       "1        2020  2020-12-31        antioquia              5         medellin   \n",
       "2        2020  2020-12-31        antioquia              5         apartado   \n",
       "3        2020  2020-12-31  valle_del_cauca             76             cali   \n",
       "4        2020  2020-12-31     cundinamarca             25      villapinzon   \n",
       "\n",
       "   municipio_cod                iniciativa  viceministerio  \\\n",
       "0          11001  asesorias_en_teletrabajo  transformacion   \n",
       "1           5001  asesorias_en_teletrabajo  transformacion   \n",
       "2           5045  asesorias_en_teletrabajo  transformacion   \n",
       "3          76001  asesorias_en_teletrabajo  transformacion   \n",
       "4          25873  asesorias_en_teletrabajo  transformacion   \n",
       "\n",
       "                                           indicador  \\\n",
       "0  numero_de_personas_impactadas_con_la_difusion_...   \n",
       "1  numero_de_personas_impactadas_con_la_difusion_...   \n",
       "2  numero_de_personas_impactadas_con_la_difusion_...   \n",
       "3  numero_de_personas_impactadas_con_la_difusion_...   \n",
       "4  numero_de_personas_impactadas_con_la_difusion_...   \n",
       "\n",
       "                               descripcion_indicador     inversion  \\\n",
       "0  numero_de_personas_impactadas_con_la_difusion_...  773577049710   \n",
       "1  numero_de_personas_impactadas_con_la_difusion_...  114887680650   \n",
       "2  numero_de_personas_impactadas_con_la_difusion_...   70209138175   \n",
       "3  numero_de_personas_impactadas_con_la_difusion_...   59996899895   \n",
       "4  numero_de_personas_impactadas_con_la_difusion_...   47231602045   \n",
       "\n",
       "   beneficiarios         id  \n",
       "0            606  202011001  \n",
       "1             90   20205001  \n",
       "2             55   20205045  \n",
       "3             47  202076001  \n",
       "4             37  202025873  "
      ],
      "text/html": [
       "<div>\n",
       "<style scoped>\n",
       "    .dataframe tbody tr th:only-of-type {\n",
       "        vertical-align: middle;\n",
       "    }\n",
       "\n",
       "    .dataframe tbody tr th {\n",
       "        vertical-align: top;\n",
       "    }\n",
       "\n",
       "    .dataframe thead th {\n",
       "        text-align: right;\n",
       "    }\n",
       "</style>\n",
       "<table border=\"1\" class=\"dataframe\">\n",
       "  <thead>\n",
       "    <tr style=\"text-align: right;\">\n",
       "      <th></th>\n",
       "      <th>anio_corte</th>\n",
       "      <th>fecha_corte</th>\n",
       "      <th>departame_nombre</th>\n",
       "      <th>departame_cod</th>\n",
       "      <th>municipio_nombre</th>\n",
       "      <th>municipio_cod</th>\n",
       "      <th>iniciativa</th>\n",
       "      <th>viceministerio</th>\n",
       "      <th>indicador</th>\n",
       "      <th>descripcion_indicador</th>\n",
       "      <th>inversion</th>\n",
       "      <th>beneficiarios</th>\n",
       "      <th>id</th>\n",
       "    </tr>\n",
       "  </thead>\n",
       "  <tbody>\n",
       "    <tr>\n",
       "      <th>0</th>\n",
       "      <td>2020</td>\n",
       "      <td>2020-12-31</td>\n",
       "      <td>bogota</td>\n",
       "      <td>11</td>\n",
       "      <td>bogota_d.c.</td>\n",
       "      <td>11001</td>\n",
       "      <td>asesorias_en_teletrabajo</td>\n",
       "      <td>transformacion</td>\n",
       "      <td>numero_de_personas_impactadas_con_la_difusion_...</td>\n",
       "      <td>numero_de_personas_impactadas_con_la_difusion_...</td>\n",
       "      <td>773577049710</td>\n",
       "      <td>606</td>\n",
       "      <td>202011001</td>\n",
       "    </tr>\n",
       "    <tr>\n",
       "      <th>1</th>\n",
       "      <td>2020</td>\n",
       "      <td>2020-12-31</td>\n",
       "      <td>antioquia</td>\n",
       "      <td>5</td>\n",
       "      <td>medellin</td>\n",
       "      <td>5001</td>\n",
       "      <td>asesorias_en_teletrabajo</td>\n",
       "      <td>transformacion</td>\n",
       "      <td>numero_de_personas_impactadas_con_la_difusion_...</td>\n",
       "      <td>numero_de_personas_impactadas_con_la_difusion_...</td>\n",
       "      <td>114887680650</td>\n",
       "      <td>90</td>\n",
       "      <td>20205001</td>\n",
       "    </tr>\n",
       "    <tr>\n",
       "      <th>2</th>\n",
       "      <td>2020</td>\n",
       "      <td>2020-12-31</td>\n",
       "      <td>antioquia</td>\n",
       "      <td>5</td>\n",
       "      <td>apartado</td>\n",
       "      <td>5045</td>\n",
       "      <td>asesorias_en_teletrabajo</td>\n",
       "      <td>transformacion</td>\n",
       "      <td>numero_de_personas_impactadas_con_la_difusion_...</td>\n",
       "      <td>numero_de_personas_impactadas_con_la_difusion_...</td>\n",
       "      <td>70209138175</td>\n",
       "      <td>55</td>\n",
       "      <td>20205045</td>\n",
       "    </tr>\n",
       "    <tr>\n",
       "      <th>3</th>\n",
       "      <td>2020</td>\n",
       "      <td>2020-12-31</td>\n",
       "      <td>valle_del_cauca</td>\n",
       "      <td>76</td>\n",
       "      <td>cali</td>\n",
       "      <td>76001</td>\n",
       "      <td>asesorias_en_teletrabajo</td>\n",
       "      <td>transformacion</td>\n",
       "      <td>numero_de_personas_impactadas_con_la_difusion_...</td>\n",
       "      <td>numero_de_personas_impactadas_con_la_difusion_...</td>\n",
       "      <td>59996899895</td>\n",
       "      <td>47</td>\n",
       "      <td>202076001</td>\n",
       "    </tr>\n",
       "    <tr>\n",
       "      <th>4</th>\n",
       "      <td>2020</td>\n",
       "      <td>2020-12-31</td>\n",
       "      <td>cundinamarca</td>\n",
       "      <td>25</td>\n",
       "      <td>villapinzon</td>\n",
       "      <td>25873</td>\n",
       "      <td>asesorias_en_teletrabajo</td>\n",
       "      <td>transformacion</td>\n",
       "      <td>numero_de_personas_impactadas_con_la_difusion_...</td>\n",
       "      <td>numero_de_personas_impactadas_con_la_difusion_...</td>\n",
       "      <td>47231602045</td>\n",
       "      <td>37</td>\n",
       "      <td>202025873</td>\n",
       "    </tr>\n",
       "  </tbody>\n",
       "</table>\n",
       "</div>"
      ]
     },
     "metadata": {},
     "execution_count": 3
    }
   ],
   "metadata": {}
  },
  {
   "cell_type": "markdown",
   "source": [
    "Map with plotly express"
   ],
   "metadata": {}
  },
  {
   "cell_type": "markdown",
   "source": [
    "we import the shp file from the dane geoportal"
   ],
   "metadata": {}
  },
  {
   "cell_type": "code",
   "execution_count": 4,
   "source": [
    "#all four files must be imported: .shp, .shx, .dbf, .prj of DANE Geoportal\n",
    "mapa_colombia = gpd.read_file(\"/Users/SebastianGuzman/Desktop/MGN2020_DPTO_POLITICO/MGN_DPTO_POLITICO.shp\")\n",
    "\n",
    "mapa_colombia['DPTO_CCDGO'] = mapa_colombia['DPTO_CCDGO'].astype('int64')\n",
    "mapa_colombia = mapa_colombia.sort_values('DPTO_CCDGO').reset_index().drop(columns='index')\n",
    "dpto_nombres = investments_1[['departame_cod','departame_nombre']].drop_duplicates().sort_values('departame_cod').reset_index()['departame_nombre']\n",
    "mapa_colombia['departame_nombre'] = dpto_nombres\n",
    "\n",
    "print(type(mapa_colombia))\n",
    "print(mapa_colombia.columns)\n",
    "print(type(mapa_colombia.geometry))\n",
    "print(mapa_colombia[['DPTO_CCDGO', 'departame_nombre']])"
   ],
   "outputs": [
    {
     "output_type": "stream",
     "name": "stdout",
     "text": [
      "<class 'geopandas.geodataframe.GeoDataFrame'>\n",
      "Index(['DPTO_CCDGO', 'DPTO_CNMBR', 'DPTO_ANO_C', 'DPTO_ACT_A', 'DPTO_NAREA',\n",
      "       'DPTO_CSMBL', 'DPTO_VGNC', 'SHAPE_AREA', 'SHAPE_LEN', 'geometry',\n",
      "       'departame_nombre'],\n",
      "      dtype='object')\n",
      "<class 'geopandas.geoseries.GeoSeries'>\n",
      "    DPTO_CCDGO    departame_nombre\n",
      "0            5           antioquia\n",
      "1            8           atlantico\n",
      "2           11              bogota\n",
      "3           13             bolivar\n",
      "4           15              boyaca\n",
      "5           17              caldas\n",
      "6           18             caqueta\n",
      "7           19               cauca\n",
      "8           20               cesar\n",
      "9           23             cordoba\n",
      "10          25        cundinamarca\n",
      "11          27               choco\n",
      "12          41               huila\n",
      "13          44          la_guajira\n",
      "14          47           magdalena\n",
      "15          50                meta\n",
      "16          52             narinio\n",
      "17          54  norte_de_santander\n",
      "18          63             quindio\n",
      "19          66           risaralda\n",
      "20          68           santander\n",
      "21          70               sucre\n",
      "22          73              tolima\n",
      "23          76     valle_del_cauca\n",
      "24          81              arauca\n",
      "25          85            casanare\n",
      "26          86            putumayo\n",
      "27          88          san_andres\n",
      "28          91            amazonas\n",
      "29          94             guainia\n",
      "30          95            guaviare\n",
      "31          97              vaupes\n",
      "32          99             vichada\n"
     ]
    }
   ],
   "metadata": {}
  },
  {
   "cell_type": "code",
   "execution_count": 5,
   "source": [
    "geo_map_col = json.loads(mapa_colombia.to_json())"
   ],
   "outputs": [],
   "metadata": {}
  },
  {
   "cell_type": "code",
   "execution_count": null,
   "source": [
    "dff1 = investments_1[investments_1['anio_corte']==2016].groupby(['departame_nombre', 'anio_corte']).sum().reset_index()\n",
    "\n",
    "#Here we can see the syntax used for the creation of choropleth maps:\n",
    "\n",
    "px.choropleth_mapbox(dff1,                         #Data\n",
    "        locations='departame_nombre',featureidkey=\"properties.departame_nombre\", #Column containing the identifiers used in the GeoJSON file \n",
    "        color='inversion',   #Column giving the color intensity of the region\n",
    "        geojson=geo_map_col,                          #The GeoJSON file\n",
    "        zoom=3,                                   #Zoom\n",
    "        mapbox_style=\"carto-positron\",            #Mapbox style, for different maps you need a Mapbox account and a token\n",
    "        center={\"lat\": 5, \"lon\": -72}, #Center\n",
    "        color_continuous_scale=\"Viridis\",         #Color Scheme\n",
    "        opacity=0.5,                              #Opacity of the map\n",
    "        )"
   ],
   "outputs": [],
   "metadata": {}
  },
  {
   "cell_type": "markdown",
   "source": [
    "Map with folium"
   ],
   "metadata": {}
  },
  {
   "cell_type": "code",
   "execution_count": null,
   "source": [
    "investments_1['inversion_millions'] = investments_1['inversion']/1000000\n",
    "\n",
    "dff = investments_1[investments_1['anio_corte']==2016].groupby(['departame_nombre', 'anio_corte']).sum().reset_index() #2016 map\n",
    "#print(dff.head(10))\n",
    "\n",
    "m = folium.Map(location=[5, -72], zoom_start=5, tiles='CartoDB positron')\n",
    "folium.Choropleth(\n",
    "    geo_data=geo_map_col,\n",
    "    name=\"choropleth\",\n",
    "    data=dff,\n",
    "    columns=[\"departame_nombre\", \"inversion_millions\"],\n",
    "    key_on=\"properties.departame_nombre\",#\"feature.id\",\n",
    "    fill_color=\"YlGn\",\n",
    "    fill_opacity=0.5,\n",
    "    line_opacity=0.2,\n",
    "    legend_name=\"Inversion (millions)\",\n",
    ").add_to(m)\n",
    "\n",
    "folium.LayerControl().add_to(m)\n",
    "\n",
    "m"
   ],
   "outputs": [],
   "metadata": {}
  }
 ],
 "metadata": {
  "kernelspec": {
   "name": "python3",
   "display_name": "Python 3.9.5 64-bit"
  },
  "language_info": {
   "codemirror_mode": {
    "name": "ipython",
    "version": 3
   },
   "file_extension": ".py",
   "mimetype": "text/x-python",
   "name": "python",
   "nbconvert_exporter": "python",
   "pygments_lexer": "ipython3",
   "version": "3.9.5"
  },
  "varInspector": {
   "cols": {
    "lenName": 16,
    "lenType": 16,
    "lenVar": 40
   },
   "kernels_config": {
    "python": {
     "delete_cmd_postfix": "",
     "delete_cmd_prefix": "del ",
     "library": "var_list.py",
     "varRefreshCmd": "print(var_dic_list())"
    },
    "r": {
     "delete_cmd_postfix": ") ",
     "delete_cmd_prefix": "rm(",
     "library": "var_list.r",
     "varRefreshCmd": "cat(var_dic_list()) "
    }
   },
   "types_to_exclude": [
    "module",
    "function",
    "builtin_function_or_method",
    "instance",
    "_Feature"
   ],
   "window_display": false
  },
  "interpreter": {
   "hash": "aee8b7b246df8f9039afb4144a1f6fd8d2ca17a180786b69acc140d282b71a49"
  }
 },
 "nbformat": 4,
 "nbformat_minor": 5
}