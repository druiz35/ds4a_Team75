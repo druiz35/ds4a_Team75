{
 "cells": [
  {
   "cell_type": "markdown",
   "id": "87764bcb",
   "metadata": {},
   "source": [
    "# Map options with px and folium for Dash"
   ]
  },
  {
   "cell_type": "code",
   "execution_count": null,
   "id": "cc07c821",
   "metadata": {},
   "outputs": [],
   "source": [
    "import pandas as pd\n",
    "investments = pd.read_csv(\"~/data/mintic_investments_clean.csv\")"
   ]
  },
  {
   "cell_type": "markdown",
   "id": "7b63bb3b",
   "metadata": {},
   "source": [
    "We remove the departments classified as international"
   ]
  },
  {
   "cell_type": "code",
   "execution_count": null,
   "id": "892cd78b",
   "metadata": {},
   "outputs": [],
   "source": [
    "pd.options.display.max_columns=None\n",
    "investments.head(10)\n",
    "investments_1 = investments.copy()\n",
    "investments_1 = investments[investments.departame_cod != '0']\n",
    "investments_1.head(5) "
   ]
  },
  {
   "cell_type": "markdown",
   "id": "1ab74db7",
   "metadata": {},
   "source": [
    "Map with plotly express"
   ]
  },
  {
   "cell_type": "markdown",
   "id": "6844c45d",
   "metadata": {},
   "source": [
    "we import the shp file from the dane geoportal"
   ]
  },
  {
   "cell_type": "code",
   "execution_count": null,
   "id": "b771df07",
   "metadata": {},
   "outputs": [],
   "source": [
    "import geopandas as gpd\n",
    "#all four files must be imported: .shp, .shx, .dbf, .prj of DANE Geoportal\n",
    "\n",
    "mapa_colombia = gpd.read_file(\"MGN_DPTO_POLITICO.shp\")\n",
    "print(type(mapa_colombia))\n",
    "print(mapa_colombia.columns)\n",
    "print(type(mapa_colombia.geometry))\n",
    "print(mapa_colombia[['DPTO_CCDGO', 'DPTO_CNMBR']])"
   ]
  },
  {
   "cell_type": "code",
   "execution_count": null,
   "id": "7e42ae08",
   "metadata": {},
   "outputs": [],
   "source": []
  },
  {
   "cell_type": "code",
   "execution_count": null,
   "id": "0f34f0c3",
   "metadata": {},
   "outputs": [],
   "source": [
    "investments_1['departame_nombre'].unique()\n",
    "dept_dict={'bogota': 'BOGOTÃ, D.C.','antioquia' : 'ANTIOQUIA' , 'valle_del_cauca': 'VALLE DEL CAUCA','cundinamarca':'CUNDINAMARCA','atlantico':'ATLÃNTICO','narinio':'NARIÃO','sucre':'SUCRE','bolivar':'BOLÃVAR','tolima':'TOLIMA','boyaca':'BOYACÃ','risaralda':'RISARALDA','vichada':'VICHADA','santander':'SANTANDER','cordoba':'CÃRDOBA','quindio':'QUINDIO','huila':'HUILA','la_guajira':'LA GUAJIRA','guainia':'GUAINÃA','amazonas':'AMAZONAS','caldas':'CALDAS','cauca':'CAUCA','norte_de_santander':' NORTE DE SANTANDER','guaviare':'GUAVIARE','cesar':'CESAR','meta':'META','caqueta':'CAQUETÃ','choco':'CHOCÃ','putumayo':'PUTUMAYO','magdalena':' MAGDALENA','arauca':'ARAUCA','vaupes':'VAUPÃS','casanare':'CASANARE', 'san_andres':'ARCHIPIÃLAGO DE SAN ANDRÃS, PROVIDENCIA Y SA...'}\n",
    "investments_1=investments_1[investments_1['departame_nombre']!='internacional']\n",
    "investments_1['departame_nombre'].unique()\n",
    "investments_1['depart_nombre_mod']=investments_1['departame_nombre'].replace(dept_dict)\n",
    "investments_1.head(10)"
   ]
  },
  {
   "cell_type": "code",
   "execution_count": null,
   "id": "42555ca0",
   "metadata": {},
   "outputs": [],
   "source": [
    "geo_map_col = mapa_colombia.to_json()\n",
    "\n",
    "import plotly.express as px\n",
    "dff1 = investments_1[investments_1['anio_corte']==2016].groupby(['depart_nombre_mod', 'anio_corte']).sum().reset_index()\n",
    "\n",
    "#Here we can see the syntax used for the creation of choropleth maps:\n",
    "\n",
    "px.choropleth_mapbox(dff1,                         #Data\n",
    "        locations='depart_nombre_mod',featureidkey=\"properties.DPTO_CNMBR\", #Column containing the identifiers used in the GeoJSON file \n",
    "        color='inversion',   #Column giving the color intensity of the region\n",
    "        geojson=mapa_colombia.geometry,                          #The GeoJSON file\n",
    "        zoom=3,                                   #Zoom\n",
    "        mapbox_style=\"carto-positron\",            #Mapbox style, for different maps you need a Mapbox account and a token\n",
    "        center={\"lat\": 5, \"lon\": -72}, #Center\n",
    "        color_continuous_scale=\"Viridis\",         #Color Scheme\n",
    "        opacity=0.5,                              #Opacity of the map\n",
    "        )"
   ]
  },
  {
   "cell_type": "markdown",
   "id": "353771c9",
   "metadata": {},
   "source": [
    "Map with folium"
   ]
  },
  {
   "cell_type": "code",
   "execution_count": null,
   "id": "dcc62732",
   "metadata": {},
   "outputs": [],
   "source": [
    "import folium\n",
    "geo_map_col = mapa_colombia.to_json()#geometry.to_json()\n",
    "\n",
    "m = folium.Map(location=[5, -72], zoom_start=5)\n",
    "\n",
    "investments_1['inversion_millions'] = investments_1['inversion']/1000000\n",
    "\n",
    "dff = investments_1[investments_1['anio_corte']==2016].groupby(['departame_cod', 'anio_corte']).sum().reset_index() #2016 map\n",
    "print(dff.head(10))\n",
    "\n",
    "folium.Choropleth(\n",
    "    geo_data=geo_map_col,\n",
    "    name=\"choropleth\",\n",
    "    data=dff,\n",
    "    columns=[\"departame_cod\", \"inversion_millions\"],\n",
    "    key_on=\"properties.DPTO_CCDGO\",#\"feature.id\",\n",
    "    fill_color=\"YlGn\",\n",
    "    fill_opacity=0.5,\n",
    "    line_opacity=0.2,\n",
    "    legend_name=\"Inversion (millions)\",\n",
    ").add_to(m)\n",
    "\n",
    "folium.LayerControl().add_to(m)\n",
    "\n",
    "m"
   ]
  }
 ],
 "metadata": {
  "kernelspec": {
   "display_name": "Python 3",
   "language": "python",
   "name": "python3"
  },
  "language_info": {
   "codemirror_mode": {
    "name": "ipython",
    "version": 3
   },
   "file_extension": ".py",
   "mimetype": "text/x-python",
   "name": "python",
   "nbconvert_exporter": "python",
   "pygments_lexer": "ipython3",
   "version": "3.8.8"
  },
  "varInspector": {
   "cols": {
    "lenName": 16,
    "lenType": 16,
    "lenVar": 40
   },
   "kernels_config": {
    "python": {
     "delete_cmd_postfix": "",
     "delete_cmd_prefix": "del ",
     "library": "var_list.py",
     "varRefreshCmd": "print(var_dic_list())"
    },
    "r": {
     "delete_cmd_postfix": ") ",
     "delete_cmd_prefix": "rm(",
     "library": "var_list.r",
     "varRefreshCmd": "cat(var_dic_list()) "
    }
   },
   "types_to_exclude": [
    "module",
    "function",
    "builtin_function_or_method",
    "instance",
    "_Feature"
   ],
   "window_display": false
  }
 },
 "nbformat": 4,
 "nbformat_minor": 5
}
