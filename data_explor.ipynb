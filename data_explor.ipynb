{
 "cells": [
  {
   "cell_type": "markdown",
   "source": [
    "<h1>This notebook will be used for all the EDA of our cleaned databases.</h1>"
   ],
   "metadata": {}
  },
  {
   "cell_type": "code",
   "execution_count": 9,
   "source": [
    "import pandas as pd\n",
    "import numpy as np\n",
    "import matplotlib.pyplot as plt\n",
    "mdm = pd.read_csv(\"../data/mdm_clean.csv\")\n",
    "comp_dim = pd.read_csv(\"../data/comp_dim_clean.csv\")\n",
    "investments = pd.read_csv(\"../data/mintic_investments_clean.csv\")"
   ],
   "outputs": [],
   "metadata": {}
  },
  {
   "cell_type": "code",
   "execution_count": null,
   "source": [],
   "outputs": [],
   "metadata": {}
  }
 ],
 "metadata": {
  "orig_nbformat": 4,
  "language_info": {
   "name": "python"
  }
 },
 "nbformat": 4,
 "nbformat_minor": 2
}